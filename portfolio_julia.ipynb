{
 "cells": [
  {
   "cell_type": "markdown",
   "metadata": {},
   "source": [
    "# Portfolio Optimization\n",
    "In this notebook, we will first solve the problem discussed in [this lecture note](https://www2.isye.gatech.edu/~sahmed/isye6669/notes/portfolio). Then using the same data, we will solve three different optimization problems commonly encountered in Portfolio optimization.\n",
    "\n",
    "1. Exact problem discussed in the lecture note\n",
    "2. Maximizing mean return\n",
    "3. Minimizing risk\n",
    "4. Simultaneously maximizing mean and minimizing risk\n",
    "\n",
    "We will use [Convex.jl](https://github.com/jump-dev/Convex.jl) library to solve constrained quadratic optimization problems."
   ]
  },
  {
   "cell_type": "markdown",
   "metadata": {},
   "source": [
    "Import relevant libraries. If any library is not installed, first install it before importing."
   ]
  },
  {
   "cell_type": "code",
   "execution_count": 1,
   "metadata": {},
   "outputs": [],
   "source": [
    "using Convex, SCS\n",
    "using LinearAlgebra\n",
    "using Statistics\n",
    "using Plots"
   ]
  },
  {
   "cell_type": "markdown",
   "metadata": {},
   "source": [
    "## 1. Problem discussed in the lecture note\n",
    "The dataset used in this notebook can be found in the lecture notes of [Prof. Shabbir Ahmed](https://www2.isye.gatech.edu/people/faculty/Shabbir_Ahmed/). The lecture note can be found at [this link](https://www2.isye.gatech.edu/~sahmed/isye6669/notes/portfolio).\n",
    "\n",
    "Read the data."
   ]
  },
  {
   "cell_type": "code",
   "execution_count": 2,
   "metadata": {},
   "outputs": [
    {
     "data": {
      "text/plain": [
       "13×3 Array{Float64,2}:\n",
       "  93.043  51.826  1.063\n",
       "  84.585  52.823  0.938\n",
       " 111.453  56.477  1.0\n",
       "  99.525  49.805  0.938\n",
       "  95.819  50.287  1.438\n",
       " 114.708  51.521  1.7\n",
       " 111.515  51.531  2.54\n",
       " 113.211  48.664  2.39\n",
       " 104.942  55.744  3.12\n",
       "  99.827  47.916  2.98\n",
       "  91.607  49.438  1.9\n",
       " 107.937  51.336  1.75\n",
       " 115.59   55.081  1.8"
      ]
     },
     "execution_count": 2,
     "metadata": {},
     "output_type": "execute_result"
    }
   ],
   "source": [
    "IBM = [93.043, 84.585, 111.453, 99.525, 95.819, 114.708, 111.515, 113.211, 104.942, 99.827, 91.607, 107.937, 115.590];\n",
    "WMT = [51.826, 52.823, 56.477, 49.805, 50.287, 51.521, 51.531, 48.664, 55.744, 47.916, 49.438, 51.336, 55.081];\n",
    "SEHI =[1.063, 0.938, 1.000, 0.938, 1.438, 1.700, 2.540, 2.390, 3.120, 2.980, 1.900, 1.750, 1.800];\n",
    "data = [IBM WMT SEHI]"
   ]
  },
  {
   "cell_type": "code",
   "execution_count": 3,
   "metadata": {},
   "outputs": [
    {
     "data": {
      "text/plain": [
       "(13, 3)"
      ]
     },
     "execution_count": 3,
     "metadata": {},
     "output_type": "execute_result"
    }
   ],
   "source": [
    "size(data)"
   ]
  },
  {
   "cell_type": "markdown",
   "metadata": {},
   "source": [
    "### Calculate change in stock price\n",
    "Change in stock price is calculated by subtracting a given day's stock price from following day's stock price."
   ]
  },
  {
   "cell_type": "code",
   "execution_count": 4,
   "metadata": {},
   "outputs": [
    {
     "data": {
      "text/plain": [
       "12×3 Array{Float64,2}:\n",
       "  -8.458   0.997  -0.125\n",
       "  26.868   3.654   0.062\n",
       " -11.928  -6.672  -0.062\n",
       "  -3.706   0.482   0.5\n",
       "  18.889   1.234   0.262\n",
       "  -3.193   0.01    0.84\n",
       "   1.696  -2.867  -0.15\n",
       "  -8.269   7.08    0.73\n",
       "  -5.115  -7.828  -0.14\n",
       "  -8.22    1.522  -1.08\n",
       "  16.33    1.898  -0.15\n",
       "   7.653   3.745   0.05"
      ]
     },
     "execution_count": 4,
     "metadata": {},
     "output_type": "execute_result"
    }
   ],
   "source": [
    "change_in_stock_price = data[2:end, :] - data[1:(end - 1), :]"
   ]
  },
  {
   "cell_type": "markdown",
   "metadata": {},
   "source": [
    "### Calculate rate of change of stock price"
   ]
  },
  {
   "cell_type": "code",
   "execution_count": 5,
   "metadata": {},
   "outputs": [
    {
     "data": {
      "text/plain": [
       "12×3 Array{Float64,2}:\n",
       " -0.0909042   0.0192374    -0.117592\n",
       "  0.317645    0.0691744     0.0660981\n",
       " -0.107023   -0.118137     -0.062\n",
       " -0.0372369   0.00967774    0.533049\n",
       "  0.197132    0.0245391     0.182197\n",
       " -0.0278359   0.000194096   0.494118\n",
       "  0.0152087  -0.0556364    -0.0590551\n",
       " -0.0730406   0.145487      0.305439\n",
       " -0.0487412  -0.140428     -0.0448718\n",
       " -0.0823425   0.0317639    -0.362416\n",
       "  0.178261    0.0383915    -0.0789474\n",
       "  0.0709025   0.0729508     0.0285714"
      ]
     },
     "execution_count": 5,
     "metadata": {},
     "output_type": "execute_result"
    }
   ],
   "source": [
    "rate_of_return = change_in_stock_price ./ data[1:(end-1), :]"
   ]
  },
  {
   "cell_type": "markdown",
   "metadata": {},
   "source": [
    "### Sample covariance matrix"
   ]
  },
  {
   "cell_type": "code",
   "execution_count": 6,
   "metadata": {},
   "outputs": [
    {
     "data": {
      "text/plain": [
       "3×3 Array{Float64,2}:\n",
       " 0.018641    0.00359853  0.00130976\n",
       " 0.00359853  0.00643694  0.00488727\n",
       " 0.00130976  0.00488727  0.0686828"
      ]
     },
     "execution_count": 6,
     "metadata": {},
     "output_type": "execute_result"
    }
   ],
   "source": [
    "C = Statistics.cov(rate_of_return)"
   ]
  },
  {
   "cell_type": "markdown",
   "metadata": {},
   "source": [
    "Covariance matrix given in the paper is slightly different from this result."
   ]
  },
  {
   "cell_type": "markdown",
   "metadata": {},
   "source": [
    "### Mean return for each stock"
   ]
  },
  {
   "cell_type": "code",
   "execution_count": 7,
   "metadata": {},
   "outputs": [
    {
     "data": {
      "text/plain": [
       "1×3 Array{Float64,2}:\n",
       " 0.0260022  0.00810132  0.0737159"
      ]
     },
     "execution_count": 7,
     "metadata": {},
     "output_type": "execute_result"
    }
   ],
   "source": [
    "means = mean(rate_of_return, dims = 1)"
   ]
  },
  {
   "cell_type": "markdown",
   "metadata": {},
   "source": [
    "### Optimization problem of the book\n",
    "\n",
    "Notation:\n",
    "C: Covariance matrix\n",
    "\n",
    "\n",
    "Problem: \n",
    "\n",
    "$$\\min x^TCx$$\n",
    "\n",
    "s.t.\n",
    "\n",
    "$$e^Tx \\leq 1000$$\n",
    "$$\\bar{r}^Tx \\geq 50$$\n",
    "$$ x \\geq 0$$\n",
    "\n",
    "The solver solves problems of the following kind:\n",
    "\n",
    "$$ \\min x^TCx + q^T x$$\n",
    "s.t.\n",
    "\n",
    "$$Gx \\leq h$$\n",
    "$$Ax = b$$\n",
    "\n",
    "So we convert our constraints to a form understandable by the solver. We don't have any equality constraints. We modify all inequality constraints to less than equal to type. The matrix $G$ takes following form.\n",
    "\n",
    "$$\\begin{pmatrix}\n",
    "1 & 1 & 1\\\\\n",
    "-0.026 & -0.008 & -0.073\\\\\n",
    "-1 & 0 & 0\\\\\n",
    "0 & -1 & 0\\\\\n",
    "0 & 0 & -1\\\\\n",
    "\\end{pmatrix} \\begin{pmatrix} x_1 \\\\ \n",
    "x_2 \\\\\n",
    "x_3 \\end{pmatrix}\\leq \n",
    "\\begin{pmatrix}\n",
    "1000\\\\ \n",
    "-50 \\\\ \n",
    "0\\\\ \n",
    "0 \\\\ \n",
    "0 \\end{pmatrix}$$"
   ]
  },
  {
   "cell_type": "code",
   "execution_count": 8,
   "metadata": {},
   "outputs": [
    {
     "data": {
      "text/plain": [
       "5×3 Array{Float64,2}:\n",
       "  1.0         1.0          1.0\n",
       " -0.0260022  -0.00810132  -0.0737159\n",
       " -1.0         0.0          0.0\n",
       "  0.0        -1.0          0.0\n",
       "  0.0         0.0         -1.0"
      ]
     },
     "execution_count": 8,
     "metadata": {},
     "output_type": "execute_result"
    }
   ],
   "source": [
    "G = [ones(1,3); -means ; -Matrix(I, 3, 3)]"
   ]
  },
  {
   "cell_type": "code",
   "execution_count": 9,
   "metadata": {},
   "outputs": [
    {
     "data": {
      "text/plain": [
       "5-element Array{Int64,1}:\n",
       " 1000\n",
       "  -50\n",
       "    0\n",
       "    0\n",
       "    0"
      ]
     },
     "execution_count": 9,
     "metadata": {},
     "output_type": "execute_result"
    }
   ],
   "source": [
    "h = [1000; -50; 0; 0; 0]"
   ]
  },
  {
   "cell_type": "code",
   "execution_count": 10,
   "metadata": {},
   "outputs": [
    {
     "name": "stdout",
     "output_type": "stream",
     "text": [
      "Variance is: 22634.411968303655\n",
      "Solution (x) is: [497.0454857672905; 3.959747439986649e-5; 502.9543776456514]"
     ]
    }
   ],
   "source": [
    "n = 3;\n",
    "x = Variable(n);\n",
    "problem_1 = minimize(quadform(x, C), [G*x <= h])\n",
    "solve!(problem_1, () -> SCS.Optimizer(verbose = false))\n",
    "print(\"Variance is: \", problem_1.optval)\n",
    "print(\"\\nSolution (x) is: \", x.value)"
   ]
  },
  {
   "cell_type": "markdown",
   "metadata": {},
   "source": [
    "Obtained variance is higher than that of the paper. This is because the covariance matrix given in the paper is slightly different that sample covariance matrix."
   ]
  },
  {
   "cell_type": "markdown",
   "metadata": {},
   "source": [
    "## 2. Maximizing mean return\n",
    "\n",
    "$m$ : mean \n",
    "\n",
    "$ e= [1, 1, 1]^T$\n",
    "\n",
    "Problem:\n",
    "$$\\max x^Tm$$\n",
    "s.t.\n",
    "$$e^Tx = 1$$\n",
    "$$x^TCx \\leq \\sigma_0^2$$\n",
    "$$ x \\geq 0$$\n",
    "\n",
    "We have taken $\\sigma_0^2 = 130$."
   ]
  },
  {
   "cell_type": "code",
   "execution_count": 11,
   "metadata": {},
   "outputs": [
    {
     "name": "stdout",
     "output_type": "stream",
     "text": [
      "Mean return is: 0.07371591290943874\n",
      "Solution (x) is: [5.103025927845735e-9; -3.484487961592897e-9; 1.0000000023983249]"
     ]
    }
   ],
   "source": [
    "e = ones(3,1);\n",
    "x_2 = Variable(n);\n",
    "problem_2 = maximize(x_2'* means',                 # Mean vector is a row vector\n",
    "                     [e'*x_2 == 1, quadform(x_2, C) <= 130, -Matrix(I, 3, 3)*x_2 <= zeros(3,1)])\n",
    "solve!(problem_2, () -> SCS.Optimizer(verbose = false))\n",
    "print(\"Mean return is: \", problem_2.optval)\n",
    "print(\"\\nSolution (x) is: \", x_2.value)"
   ]
  },
  {
   "cell_type": "markdown",
   "metadata": {},
   "source": [
    "## 3. Minimizing risk\n",
    "$e = [1, 1, 1]^T$\n",
    "\n",
    "$m$ = mean \n",
    "\n",
    "Problem:\n",
    "$$ \\min x^TCx$$\n",
    "s.t.\n",
    "$$e^Tx = 1$$\n",
    "$$x^Tm = m_0$$\n",
    "$$ x \\geq 0 $$\n",
    "\n",
    "We have taken $m_0 = 0.05$. We have taken this peculiar value because solution doesn't exist for all values of $m_0$. For $m_0 = 1, 5, 10, 50, etc. $ no solution exists."
   ]
  },
  {
   "cell_type": "code",
   "execution_count": 12,
   "metadata": {},
   "outputs": [
    {
     "name": "stdout",
     "output_type": "stream",
     "text": [
      "Mean return is: 0.022634398881303284\n",
      "Solution (x) is: [0.497045572371176; -8.615246810047704e-8; 0.5029545199368787]"
     ]
    }
   ],
   "source": [
    "m_0 = 0.05;\n",
    "x_3 = Variable(n);\n",
    "problem_3 = minimize(quadform(x_3, C),\n",
    "                     [e'*x_3 == 1, means*x_3 == m_0, -Matrix(I, 3, 3)*x_3 <= zeros(3,1)])\n",
    "solve!(problem_3, () -> SCS.Optimizer(verbose = false))\n",
    "print(\"Mean return is: \", problem_3.optval)\n",
    "print(\"\\nSolution (x) is: \", x_3.value)"
   ]
  },
  {
   "cell_type": "markdown",
   "metadata": {},
   "source": [
    "## 4. Simultaneously maximizing mean return and minimizing risk\n",
    "We have taken $\\lambda = 5$. $\\lambda$ value can  be changed to control risk and obtain different results.\n",
    "\n",
    "$e = [1, 1, 1]^T$\n",
    "\n",
    "\n",
    "Problem:\n",
    "$$\\max x^Tm - \\lambda x^TCx$$\n",
    "s.t.\n",
    "$$e^Tx = 1$$\n",
    "$$ x \\geq 0$$"
   ]
  },
  {
   "cell_type": "code",
   "execution_count": 13,
   "metadata": {},
   "outputs": [
    {
     "name": "stdout",
     "output_type": "stream",
     "text": [
      "Mean return is: -0.01281611748591159\n",
      "Solution (x) is: [0.264105053084261; 0.6087802385086455; 0.12711470840222933]"
     ]
    }
   ],
   "source": [
    "lamda = 5;\n",
    "x_4 = Variable(n);\n",
    "problem_4 = maximize(x_4'*means' - lamda * quadform(x_4, C),\n",
    "                     [e'*x_4 == 1, -Matrix(I, 3, 3)*x_4 <= zeros(3,1)])\n",
    "solve!(problem_4, () -> SCS.Optimizer(verbose = false))\n",
    "print(\"Mean return is: \", problem_4.optval)\n",
    "print(\"\\nSolution (x) is: \", x_4.value)"
   ]
  },
  {
   "cell_type": "markdown",
   "metadata": {},
   "source": [
    "### Solving for different values of $\\lambda$ "
   ]
  },
  {
   "cell_type": "code",
   "execution_count": 14,
   "metadata": {},
   "outputs": [],
   "source": [
    "values = fill(NaN, 50);\n",
    "x_values = fill(NaN, 50, 3);\n",
    "lambda = 10 .^ range(-3, stop = 3, length = 50);\n",
    "i = 1;\n",
    "for lam = lambda\n",
    "    x_new = Variable(n);\n",
    "    problem_new = maximize(x_new' * means' - lam * quadform(x_new, C),\n",
    "                           [e' * x_new == 1, -Matrix(I, 3, 3) * x_new <= zeros(3,1)]);\n",
    "    solve!(problem_new, () -> SCS.Optimizer(verbose = false));\n",
    "    values[i] = problem_new.optval;\n",
    "    x_values[i,:] = x_new.value;\n",
    "    i = i + 1\n",
    "end"
   ]
  },
  {
   "cell_type": "code",
   "execution_count": 15,
   "metadata": {},
   "outputs": [
    {
     "data": {
      "image/svg+xml": [
       "<?xml version=\"1.0\" encoding=\"utf-8\"?>\n",
       "<svg xmlns=\"http://www.w3.org/2000/svg\" xmlns:xlink=\"http://www.w3.org/1999/xlink\" width=\"600\" height=\"400\" viewBox=\"0 0 2400 1600\">\n",
       "<defs>\n",
       "  <clipPath id=\"clip2600\">\n",
       "    <rect x=\"0\" y=\"0\" width=\"2400\" height=\"1600\"/>\n",
       "  </clipPath>\n",
       "</defs>\n",
       "<path clip-path=\"url(#clip2600)\" d=\"\n",
       "M0 1600 L2400 1600 L2400 0 L0 0  Z\n",
       "  \" fill=\"#ffffff\" fill-rule=\"evenodd\" fill-opacity=\"1\"/>\n",
       "<defs>\n",
       "  <clipPath id=\"clip2601\">\n",
       "    <rect x=\"480\" y=\"0\" width=\"1681\" height=\"1600\"/>\n",
       "  </clipPath>\n",
       "</defs>\n",
       "<path clip-path=\"url(#clip2600)\" d=\"\n",
       "M190.237 1423.18 L2352.76 1423.18 L2352.76 47.2441 L190.237 47.2441  Z\n",
       "  \" fill=\"#ffffff\" fill-rule=\"evenodd\" fill-opacity=\"1\"/>\n",
       "<defs>\n",
       "  <clipPath id=\"clip2602\">\n",
       "    <rect x=\"190\" y=\"47\" width=\"2164\" height=\"1377\"/>\n",
       "  </clipPath>\n",
       "</defs>\n",
       "<polyline clip-path=\"url(#clip2602)\" style=\"stroke:#000000; stroke-width:2; stroke-opacity:0.1; fill:none\" points=\"\n",
       "  251.44,1423.18 251.44,47.2441 \n",
       "  \"/>\n",
       "<polyline clip-path=\"url(#clip2602)\" style=\"stroke:#000000; stroke-width:2; stroke-opacity:0.1; fill:none\" points=\"\n",
       "  591.459,1423.18 591.459,47.2441 \n",
       "  \"/>\n",
       "<polyline clip-path=\"url(#clip2602)\" style=\"stroke:#000000; stroke-width:2; stroke-opacity:0.1; fill:none\" points=\"\n",
       "  931.478,1423.18 931.478,47.2441 \n",
       "  \"/>\n",
       "<polyline clip-path=\"url(#clip2602)\" style=\"stroke:#000000; stroke-width:2; stroke-opacity:0.1; fill:none\" points=\"\n",
       "  1271.5,1423.18 1271.5,47.2441 \n",
       "  \"/>\n",
       "<polyline clip-path=\"url(#clip2602)\" style=\"stroke:#000000; stroke-width:2; stroke-opacity:0.1; fill:none\" points=\"\n",
       "  1611.52,1423.18 1611.52,47.2441 \n",
       "  \"/>\n",
       "<polyline clip-path=\"url(#clip2602)\" style=\"stroke:#000000; stroke-width:2; stroke-opacity:0.1; fill:none\" points=\"\n",
       "  1951.53,1423.18 1951.53,47.2441 \n",
       "  \"/>\n",
       "<polyline clip-path=\"url(#clip2602)\" style=\"stroke:#000000; stroke-width:2; stroke-opacity:0.1; fill:none\" points=\"\n",
       "  2291.55,1423.18 2291.55,47.2441 \n",
       "  \"/>\n",
       "<polyline clip-path=\"url(#clip2602)\" style=\"stroke:#000000; stroke-width:2; stroke-opacity:0.1; fill:none\" points=\"\n",
       "  190.237,1399.12 2352.76,1399.12 \n",
       "  \"/>\n",
       "<polyline clip-path=\"url(#clip2602)\" style=\"stroke:#000000; stroke-width:2; stroke-opacity:0.1; fill:none\" points=\"\n",
       "  190.237,1182.95 2352.76,1182.95 \n",
       "  \"/>\n",
       "<polyline clip-path=\"url(#clip2602)\" style=\"stroke:#000000; stroke-width:2; stroke-opacity:0.1; fill:none\" points=\"\n",
       "  190.237,966.78 2352.76,966.78 \n",
       "  \"/>\n",
       "<polyline clip-path=\"url(#clip2602)\" style=\"stroke:#000000; stroke-width:2; stroke-opacity:0.1; fill:none\" points=\"\n",
       "  190.237,750.612 2352.76,750.612 \n",
       "  \"/>\n",
       "<polyline clip-path=\"url(#clip2602)\" style=\"stroke:#000000; stroke-width:2; stroke-opacity:0.1; fill:none\" points=\"\n",
       "  190.237,534.443 2352.76,534.443 \n",
       "  \"/>\n",
       "<polyline clip-path=\"url(#clip2602)\" style=\"stroke:#000000; stroke-width:2; stroke-opacity:0.1; fill:none\" points=\"\n",
       "  190.237,318.275 2352.76,318.275 \n",
       "  \"/>\n",
       "<polyline clip-path=\"url(#clip2602)\" style=\"stroke:#000000; stroke-width:2; stroke-opacity:0.1; fill:none\" points=\"\n",
       "  190.237,102.106 2352.76,102.106 \n",
       "  \"/>\n",
       "<polyline clip-path=\"url(#clip2600)\" style=\"stroke:#000000; stroke-width:4; stroke-opacity:1; fill:none\" points=\"\n",
       "  190.237,1423.18 2352.76,1423.18 \n",
       "  \"/>\n",
       "<polyline clip-path=\"url(#clip2600)\" style=\"stroke:#000000; stroke-width:4; stroke-opacity:1; fill:none\" points=\"\n",
       "  190.237,1423.18 190.237,47.2441 \n",
       "  \"/>\n",
       "<polyline clip-path=\"url(#clip2600)\" style=\"stroke:#000000; stroke-width:4; stroke-opacity:1; fill:none\" points=\"\n",
       "  251.44,1423.18 251.44,1406.67 \n",
       "  \"/>\n",
       "<polyline clip-path=\"url(#clip2600)\" style=\"stroke:#000000; stroke-width:4; stroke-opacity:1; fill:none\" points=\"\n",
       "  591.459,1423.18 591.459,1406.67 \n",
       "  \"/>\n",
       "<polyline clip-path=\"url(#clip2600)\" style=\"stroke:#000000; stroke-width:4; stroke-opacity:1; fill:none\" points=\"\n",
       "  931.478,1423.18 931.478,1406.67 \n",
       "  \"/>\n",
       "<polyline clip-path=\"url(#clip2600)\" style=\"stroke:#000000; stroke-width:4; stroke-opacity:1; fill:none\" points=\"\n",
       "  1271.5,1423.18 1271.5,1406.67 \n",
       "  \"/>\n",
       "<polyline clip-path=\"url(#clip2600)\" style=\"stroke:#000000; stroke-width:4; stroke-opacity:1; fill:none\" points=\"\n",
       "  1611.52,1423.18 1611.52,1406.67 \n",
       "  \"/>\n",
       "<polyline clip-path=\"url(#clip2600)\" style=\"stroke:#000000; stroke-width:4; stroke-opacity:1; fill:none\" points=\"\n",
       "  1951.53,1423.18 1951.53,1406.67 \n",
       "  \"/>\n",
       "<polyline clip-path=\"url(#clip2600)\" style=\"stroke:#000000; stroke-width:4; stroke-opacity:1; fill:none\" points=\"\n",
       "  2291.55,1423.18 2291.55,1406.67 \n",
       "  \"/>\n",
       "<polyline clip-path=\"url(#clip2600)\" style=\"stroke:#000000; stroke-width:4; stroke-opacity:1; fill:none\" points=\"\n",
       "  190.237,1399.12 216.187,1399.12 \n",
       "  \"/>\n",
       "<polyline clip-path=\"url(#clip2600)\" style=\"stroke:#000000; stroke-width:4; stroke-opacity:1; fill:none\" points=\"\n",
       "  190.237,1182.95 216.187,1182.95 \n",
       "  \"/>\n",
       "<polyline clip-path=\"url(#clip2600)\" style=\"stroke:#000000; stroke-width:4; stroke-opacity:1; fill:none\" points=\"\n",
       "  190.237,966.78 216.187,966.78 \n",
       "  \"/>\n",
       "<polyline clip-path=\"url(#clip2600)\" style=\"stroke:#000000; stroke-width:4; stroke-opacity:1; fill:none\" points=\"\n",
       "  190.237,750.612 216.187,750.612 \n",
       "  \"/>\n",
       "<polyline clip-path=\"url(#clip2600)\" style=\"stroke:#000000; stroke-width:4; stroke-opacity:1; fill:none\" points=\"\n",
       "  190.237,534.443 216.187,534.443 \n",
       "  \"/>\n",
       "<polyline clip-path=\"url(#clip2600)\" style=\"stroke:#000000; stroke-width:4; stroke-opacity:1; fill:none\" points=\"\n",
       "  190.237,318.275 216.187,318.275 \n",
       "  \"/>\n",
       "<polyline clip-path=\"url(#clip2600)\" style=\"stroke:#000000; stroke-width:4; stroke-opacity:1; fill:none\" points=\"\n",
       "  190.237,102.106 216.187,102.106 \n",
       "  \"/>\n",
       "<path clip-path=\"url(#clip2600)\" d=\"M 0 0 M207.015 1494.25 L214.654 1494.25 L214.654 1467.89 L206.344 1469.55 L206.344 1465.29 L214.608 1463.63 L219.284 1463.63 L219.284 1494.25 L226.923 1494.25 L226.923 1498.19 L207.015 1498.19 L207.015 1494.25 Z\" fill=\"#000000\" fill-rule=\"evenodd\" fill-opacity=\"1\" /><path clip-path=\"url(#clip2600)\" d=\"M 0 0 M241.992 1466.71 Q238.381 1466.71 236.552 1470.27 Q234.747 1473.81 234.747 1480.94 Q234.747 1488.05 236.552 1491.61 Q238.381 1495.15 241.992 1495.15 Q245.626 1495.15 247.432 1491.61 Q249.261 1488.05 249.261 1480.94 Q249.261 1473.81 247.432 1470.27 Q245.626 1466.71 241.992 1466.71 M241.992 1463 Q247.802 1463 250.858 1467.61 Q253.937 1472.19 253.937 1480.94 Q253.937 1489.67 250.858 1494.28 Q247.802 1498.86 241.992 1498.86 Q236.182 1498.86 233.103 1494.28 Q230.048 1489.67 230.048 1480.94 Q230.048 1472.19 233.103 1467.61 Q236.182 1463 241.992 1463 Z\" fill=\"#000000\" fill-rule=\"evenodd\" fill-opacity=\"1\" /><path clip-path=\"url(#clip2600)\" d=\"M 0 0 M253.937 1458.68 L264.074 1458.68 L264.074 1461.77 L253.937 1461.77 L253.937 1458.68 Z\" fill=\"#000000\" fill-rule=\"evenodd\" fill-opacity=\"1\" /><path clip-path=\"url(#clip2600)\" d=\"M 0 0 M290.743 1455.64 Q293.47 1456.22 294.994 1458.06 Q296.536 1459.91 296.536 1462.61 Q296.536 1466.77 293.677 1469.05 Q290.819 1471.32 285.552 1471.32 Q283.784 1471.32 281.904 1470.96 Q280.042 1470.63 278.048 1469.93 L278.048 1466.26 Q279.628 1467.18 281.509 1467.65 Q283.39 1468.12 285.44 1468.12 Q289.013 1468.12 290.875 1466.71 Q292.756 1465.3 292.756 1462.61 Q292.756 1460.13 291.007 1458.74 Q289.276 1457.33 286.173 1457.33 L282.901 1457.33 L282.901 1454.21 L286.324 1454.21 Q289.126 1454.21 290.612 1453.1 Q292.098 1451.97 292.098 1449.86 Q292.098 1447.7 290.555 1446.55 Q289.032 1445.39 286.173 1445.39 Q284.612 1445.39 282.825 1445.72 Q281.039 1446.06 278.894 1446.78 L278.894 1443.39 Q281.057 1442.79 282.938 1442.49 Q284.838 1442.19 286.512 1442.19 Q290.837 1442.19 293.358 1444.16 Q295.878 1446.12 295.878 1449.47 Q295.878 1451.8 294.543 1453.42 Q293.207 1455.02 290.743 1455.64 Z\" fill=\"#000000\" fill-rule=\"evenodd\" fill-opacity=\"1\" /><path clip-path=\"url(#clip2600)\" d=\"M 0 0 M547.363 1494.25 L555.002 1494.25 L555.002 1467.89 L546.692 1469.55 L546.692 1465.29 L554.956 1463.63 L559.632 1463.63 L559.632 1494.25 L567.271 1494.25 L567.271 1498.19 L547.363 1498.19 L547.363 1494.25 Z\" fill=\"#000000\" fill-rule=\"evenodd\" fill-opacity=\"1\" /><path clip-path=\"url(#clip2600)\" d=\"M 0 0 M582.34 1466.71 Q578.729 1466.71 576.9 1470.27 Q575.095 1473.81 575.095 1480.94 Q575.095 1488.05 576.9 1491.61 Q578.729 1495.15 582.34 1495.15 Q585.974 1495.15 587.78 1491.61 Q589.608 1488.05 589.608 1480.94 Q589.608 1473.81 587.78 1470.27 Q585.974 1466.71 582.34 1466.71 M582.34 1463 Q588.15 1463 591.206 1467.61 Q594.284 1472.19 594.284 1480.94 Q594.284 1489.67 591.206 1494.28 Q588.15 1498.86 582.34 1498.86 Q576.53 1498.86 573.451 1494.28 Q570.396 1489.67 570.396 1480.94 Q570.396 1472.19 573.451 1467.61 Q576.53 1463 582.34 1463 Z\" fill=\"#000000\" fill-rule=\"evenodd\" fill-opacity=\"1\" /><path clip-path=\"url(#clip2600)\" d=\"M 0 0 M594.284 1458.68 L604.422 1458.68 L604.422 1461.77 L594.284 1461.77 L594.284 1458.68 Z\" fill=\"#000000\" fill-rule=\"evenodd\" fill-opacity=\"1\" /><path clip-path=\"url(#clip2600)\" d=\"M 0 0 M622.966 1467.58 L636.226 1467.58 L636.226 1470.78 L618.396 1470.78 L618.396 1467.58 Q620.559 1465.34 624.283 1461.58 Q628.026 1457.8 628.985 1456.71 Q630.809 1454.66 631.524 1453.25 Q632.257 1451.82 632.257 1450.45 Q632.257 1448.21 630.677 1446.8 Q629.116 1445.39 626.596 1445.39 Q624.809 1445.39 622.816 1446.01 Q620.841 1446.63 618.584 1447.89 L618.584 1444.05 Q620.879 1443.13 622.872 1442.66 Q624.866 1442.19 626.521 1442.19 Q630.884 1442.19 633.48 1444.37 Q636.075 1446.55 636.075 1450.2 Q636.075 1451.93 635.417 1453.49 Q634.778 1455.03 633.066 1457.14 Q632.596 1457.69 630.076 1460.3 Q627.555 1462.9 622.966 1467.58 Z\" fill=\"#000000\" fill-rule=\"evenodd\" fill-opacity=\"1\" /><path clip-path=\"url(#clip2600)\" d=\"M 0 0 M887.937 1494.25 L895.576 1494.25 L895.576 1467.89 L887.266 1469.55 L887.266 1465.29 L895.529 1463.63 L900.205 1463.63 L900.205 1494.25 L907.844 1494.25 L907.844 1498.19 L887.937 1498.19 L887.937 1494.25 Z\" fill=\"#000000\" fill-rule=\"evenodd\" fill-opacity=\"1\" /><path clip-path=\"url(#clip2600)\" d=\"M 0 0 M922.914 1466.71 Q919.302 1466.71 917.474 1470.27 Q915.668 1473.81 915.668 1480.94 Q915.668 1488.05 917.474 1491.61 Q919.302 1495.15 922.914 1495.15 Q926.548 1495.15 928.353 1491.61 Q930.182 1488.05 930.182 1480.94 Q930.182 1473.81 928.353 1470.27 Q926.548 1466.71 922.914 1466.71 M922.914 1463 Q928.724 1463 931.779 1467.61 Q934.858 1472.19 934.858 1480.94 Q934.858 1489.67 931.779 1494.28 Q928.724 1498.86 922.914 1498.86 Q917.103 1498.86 914.025 1494.28 Q910.969 1489.67 910.969 1480.94 Q910.969 1472.19 914.025 1467.61 Q917.103 1463 922.914 1463 Z\" fill=\"#000000\" fill-rule=\"evenodd\" fill-opacity=\"1\" /><path clip-path=\"url(#clip2600)\" d=\"M 0 0 M934.858 1458.68 L944.995 1458.68 L944.995 1461.77 L934.858 1461.77 L934.858 1458.68 Z\" fill=\"#000000\" fill-rule=\"evenodd\" fill-opacity=\"1\" /><path clip-path=\"url(#clip2600)\" d=\"M 0 0 M959.515 1467.58 L965.722 1467.58 L965.722 1446.16 L958.97 1447.51 L958.97 1444.05 L965.684 1442.7 L969.483 1442.7 L969.483 1467.58 L975.69 1467.58 L975.69 1470.78 L959.515 1470.78 L959.515 1467.58 Z\" fill=\"#000000\" fill-rule=\"evenodd\" fill-opacity=\"1\" /><path clip-path=\"url(#clip2600)\" d=\"M 0 0 M1238.67 1494.25 L1246.31 1494.25 L1246.31 1467.89 L1238 1469.55 L1238 1465.29 L1246.26 1463.63 L1250.94 1463.63 L1250.94 1494.25 L1258.57 1494.25 L1258.57 1498.19 L1238.67 1498.19 L1238.67 1494.25 Z\" fill=\"#000000\" fill-rule=\"evenodd\" fill-opacity=\"1\" /><path clip-path=\"url(#clip2600)\" d=\"M 0 0 M1273.64 1466.71 Q1270.03 1466.71 1268.2 1470.27 Q1266.4 1473.81 1266.4 1480.94 Q1266.4 1488.05 1268.2 1491.61 Q1270.03 1495.15 1273.64 1495.15 Q1277.28 1495.15 1279.08 1491.61 Q1280.91 1488.05 1280.91 1480.94 Q1280.91 1473.81 1279.08 1470.27 Q1277.28 1466.71 1273.64 1466.71 M1273.64 1463 Q1279.45 1463 1282.51 1467.61 Q1285.59 1472.19 1285.59 1480.94 Q1285.59 1489.67 1282.51 1494.28 Q1279.45 1498.86 1273.64 1498.86 Q1267.83 1498.86 1264.75 1494.28 Q1261.7 1489.67 1261.7 1480.94 Q1261.7 1472.19 1264.75 1467.61 Q1267.83 1463 1273.64 1463 Z\" fill=\"#000000\" fill-rule=\"evenodd\" fill-opacity=\"1\" /><path clip-path=\"url(#clip2600)\" d=\"M 0 0 M1295.29 1445.2 Q1292.36 1445.2 1290.87 1448.09 Q1289.41 1450.97 1289.41 1456.76 Q1289.41 1462.54 1290.87 1465.44 Q1292.36 1468.31 1295.29 1468.31 Q1298.25 1468.31 1299.71 1465.44 Q1301.2 1462.54 1301.2 1456.76 Q1301.2 1450.97 1299.71 1448.09 Q1298.25 1445.2 1295.29 1445.2 M1295.29 1442.19 Q1300.01 1442.19 1302.5 1445.93 Q1305 1449.66 1305 1456.76 Q1305 1463.86 1302.5 1467.6 Q1300.01 1471.32 1295.29 1471.32 Q1290.57 1471.32 1288.07 1467.6 Q1285.59 1463.86 1285.59 1456.76 Q1285.59 1449.66 1288.07 1445.93 Q1290.57 1442.19 1295.29 1442.19 Z\" fill=\"#000000\" fill-rule=\"evenodd\" fill-opacity=\"1\" /><path clip-path=\"url(#clip2600)\" d=\"M 0 0 M1580.03 1494.25 L1587.67 1494.25 L1587.67 1467.89 L1579.36 1469.55 L1579.36 1465.29 L1587.62 1463.63 L1592.3 1463.63 L1592.3 1494.25 L1599.94 1494.25 L1599.94 1498.19 L1580.03 1498.19 L1580.03 1494.25 Z\" fill=\"#000000\" fill-rule=\"evenodd\" fill-opacity=\"1\" /><path clip-path=\"url(#clip2600)\" d=\"M 0 0 M1615.01 1466.71 Q1611.4 1466.71 1609.57 1470.27 Q1607.76 1473.81 1607.76 1480.94 Q1607.76 1488.05 1609.57 1491.61 Q1611.4 1495.15 1615.01 1495.15 Q1618.64 1495.15 1620.45 1491.61 Q1622.28 1488.05 1622.28 1480.94 Q1622.28 1473.81 1620.45 1470.27 Q1618.64 1466.71 1615.01 1466.71 M1615.01 1463 Q1620.82 1463 1623.87 1467.61 Q1626.95 1472.19 1626.95 1480.94 Q1626.95 1489.67 1623.87 1494.28 Q1620.82 1498.86 1615.01 1498.86 Q1609.2 1498.86 1606.12 1494.28 Q1603.06 1489.67 1603.06 1480.94 Q1603.06 1472.19 1606.12 1467.61 Q1609.2 1463 1615.01 1463 Z\" fill=\"#000000\" fill-rule=\"evenodd\" fill-opacity=\"1\" /><path clip-path=\"url(#clip2600)\" d=\"M 0 0 M1627.5 1467.58 L1633.7 1467.58 L1633.7 1446.16 L1626.95 1447.51 L1626.95 1444.05 L1633.67 1442.7 L1637.46 1442.7 L1637.46 1467.58 L1643.67 1467.58 L1643.67 1470.78 L1627.5 1470.78 L1627.5 1467.58 Z\" fill=\"#000000\" fill-rule=\"evenodd\" fill-opacity=\"1\" /><path clip-path=\"url(#clip2600)\" d=\"M 0 0 M1919.49 1494.25 L1927.13 1494.25 L1927.13 1467.89 L1918.82 1469.55 L1918.82 1465.29 L1927.09 1463.63 L1931.76 1463.63 L1931.76 1494.25 L1939.4 1494.25 L1939.4 1498.19 L1919.49 1498.19 L1919.49 1494.25 Z\" fill=\"#000000\" fill-rule=\"evenodd\" fill-opacity=\"1\" /><path clip-path=\"url(#clip2600)\" d=\"M 0 0 M1954.47 1466.71 Q1950.86 1466.71 1949.03 1470.27 Q1947.23 1473.81 1947.23 1480.94 Q1947.23 1488.05 1949.03 1491.61 Q1950.86 1495.15 1954.47 1495.15 Q1958.1 1495.15 1959.91 1491.61 Q1961.74 1488.05 1961.74 1480.94 Q1961.74 1473.81 1959.91 1470.27 Q1958.1 1466.71 1954.47 1466.71 M1954.47 1463 Q1960.28 1463 1963.34 1467.61 Q1966.42 1472.19 1966.42 1480.94 Q1966.42 1489.67 1963.34 1494.28 Q1960.28 1498.86 1954.47 1498.86 Q1948.66 1498.86 1945.58 1494.28 Q1942.53 1489.67 1942.53 1480.94 Q1942.53 1472.19 1945.58 1467.61 Q1948.66 1463 1954.47 1463 Z\" fill=\"#000000\" fill-rule=\"evenodd\" fill-opacity=\"1\" /><path clip-path=\"url(#clip2600)\" d=\"M 0 0 M1970.99 1467.58 L1984.24 1467.58 L1984.24 1470.78 L1966.42 1470.78 L1966.42 1467.58 Q1968.58 1465.34 1972.3 1461.58 Q1976.04 1457.8 1977 1456.71 Q1978.83 1454.66 1979.54 1453.25 Q1980.28 1451.82 1980.28 1450.45 Q1980.28 1448.21 1978.7 1446.8 Q1977.14 1445.39 1974.62 1445.39 Q1972.83 1445.39 1970.83 1446.01 Q1968.86 1446.63 1966.6 1447.89 L1966.6 1444.05 Q1968.9 1443.13 1970.89 1442.66 Q1972.88 1442.19 1974.54 1442.19 Q1978.9 1442.19 1981.5 1444.37 Q1984.09 1446.55 1984.09 1450.2 Q1984.09 1451.93 1983.44 1453.49 Q1982.8 1455.03 1981.09 1457.14 Q1980.61 1457.69 1978.09 1460.3 Q1975.57 1462.9 1970.99 1467.58 Z\" fill=\"#000000\" fill-rule=\"evenodd\" fill-opacity=\"1\" /><path clip-path=\"url(#clip2600)\" d=\"M 0 0 M2259.18 1494.25 L2266.82 1494.25 L2266.82 1467.89 L2258.51 1469.55 L2258.51 1465.29 L2266.78 1463.63 L2271.45 1463.63 L2271.45 1494.25 L2279.09 1494.25 L2279.09 1498.19 L2259.18 1498.19 L2259.18 1494.25 Z\" fill=\"#000000\" fill-rule=\"evenodd\" fill-opacity=\"1\" /><path clip-path=\"url(#clip2600)\" d=\"M 0 0 M2294.16 1466.71 Q2290.55 1466.71 2288.72 1470.27 Q2286.91 1473.81 2286.91 1480.94 Q2286.91 1488.05 2288.72 1491.61 Q2290.55 1495.15 2294.16 1495.15 Q2297.79 1495.15 2299.6 1491.61 Q2301.43 1488.05 2301.43 1480.94 Q2301.43 1473.81 2299.6 1470.27 Q2297.79 1466.71 2294.16 1466.71 M2294.16 1463 Q2299.97 1463 2303.03 1467.61 Q2306.1 1472.19 2306.1 1480.94 Q2306.1 1489.67 2303.03 1494.28 Q2299.97 1498.86 2294.16 1498.86 Q2288.35 1498.86 2285.27 1494.28 Q2282.22 1489.67 2282.22 1480.94 Q2282.22 1472.19 2285.27 1467.61 Q2288.35 1463 2294.16 1463 Z\" fill=\"#000000\" fill-rule=\"evenodd\" fill-opacity=\"1\" /><path clip-path=\"url(#clip2600)\" d=\"M 0 0 M2318.8 1455.64 Q2321.53 1456.22 2323.05 1458.06 Q2324.59 1459.91 2324.59 1462.61 Q2324.59 1466.77 2321.73 1469.05 Q2318.88 1471.32 2313.61 1471.32 Q2311.84 1471.32 2309.96 1470.96 Q2308.1 1470.63 2306.1 1469.93 L2306.1 1466.26 Q2307.68 1467.18 2309.57 1467.65 Q2311.45 1468.12 2313.5 1468.12 Q2317.07 1468.12 2318.93 1466.71 Q2320.81 1465.3 2320.81 1462.61 Q2320.81 1460.13 2319.06 1458.74 Q2317.33 1457.33 2314.23 1457.33 L2310.96 1457.33 L2310.96 1454.21 L2314.38 1454.21 Q2317.18 1454.21 2318.67 1453.1 Q2320.15 1451.97 2320.15 1449.86 Q2320.15 1447.7 2318.61 1446.55 Q2317.09 1445.39 2314.23 1445.39 Q2312.67 1445.39 2310.88 1445.72 Q2309.1 1446.06 2306.95 1446.78 L2306.95 1443.39 Q2309.11 1442.79 2310.99 1442.49 Q2312.89 1442.19 2314.57 1442.19 Q2318.89 1442.19 2321.41 1444.16 Q2323.93 1446.12 2323.93 1449.47 Q2323.93 1451.8 2322.6 1453.42 Q2321.26 1455.02 2318.8 1455.64 Z\" fill=\"#000000\" fill-rule=\"evenodd\" fill-opacity=\"1\" /><path clip-path=\"url(#clip2600)\" d=\"M 0 0 M126.584 1401.51 L139.061 1401.51 L139.061 1405.31 L126.584 1405.31 L126.584 1401.51 Z\" fill=\"#000000\" fill-rule=\"evenodd\" fill-opacity=\"1\" /><path clip-path=\"url(#clip2600)\" d=\"M 0 0 M154.709 1397.25 Q151.561 1397.25 149.709 1399.41 Q147.88 1401.56 147.88 1405.31 Q147.88 1409.04 149.709 1411.21 Q151.561 1413.37 154.709 1413.37 Q157.857 1413.37 159.686 1411.21 Q161.538 1409.04 161.538 1405.31 Q161.538 1401.56 159.686 1399.41 Q157.857 1397.25 154.709 1397.25 M163.991 1382.6 L163.991 1386.86 Q162.232 1386.03 160.427 1385.59 Q158.644 1385.15 156.885 1385.15 Q152.255 1385.15 149.802 1388.27 Q147.371 1391.4 147.024 1397.72 Q148.39 1395.7 150.45 1394.64 Q152.51 1393.55 154.987 1393.55 Q160.195 1393.55 163.204 1396.72 Q166.237 1399.87 166.237 1405.31 Q166.237 1410.63 163.089 1413.85 Q159.941 1417.07 154.709 1417.07 Q148.714 1417.07 145.542 1412.49 Q142.371 1407.88 142.371 1399.15 Q142.371 1390.96 146.26 1386.1 Q150.149 1381.21 156.7 1381.21 Q158.459 1381.21 160.241 1381.56 Q162.047 1381.91 163.991 1382.6 Z\" fill=\"#000000\" fill-rule=\"evenodd\" fill-opacity=\"1\" /><path clip-path=\"url(#clip2600)\" d=\"M 0 0 M127.742 1185.34 L140.218 1185.34 L140.218 1189.14 L127.742 1189.14 L127.742 1185.34 Z\" fill=\"#000000\" fill-rule=\"evenodd\" fill-opacity=\"1\" /><path clip-path=\"url(#clip2600)\" d=\"M 0 0 M145.334 1165.67 L163.691 1165.67 L163.691 1169.6 L149.617 1169.6 L149.617 1178.08 Q150.635 1177.73 151.654 1177.57 Q152.672 1177.38 153.691 1177.38 Q159.478 1177.38 162.857 1180.55 Q166.237 1183.72 166.237 1189.14 Q166.237 1194.72 162.765 1197.82 Q159.292 1200.9 152.973 1200.9 Q150.797 1200.9 148.529 1200.53 Q146.283 1200.16 143.876 1199.42 L143.876 1194.72 Q145.959 1195.85 148.181 1196.41 Q150.404 1196.97 152.88 1196.97 Q156.885 1196.97 159.223 1194.86 Q161.561 1192.75 161.561 1189.14 Q161.561 1185.53 159.223 1183.42 Q156.885 1181.32 152.88 1181.32 Q151.005 1181.32 149.13 1181.73 Q147.279 1182.15 145.334 1183.03 L145.334 1165.67 Z\" fill=\"#000000\" fill-rule=\"evenodd\" fill-opacity=\"1\" /><path clip-path=\"url(#clip2600)\" d=\"M 0 0 M126.26 969.176 L138.737 969.176 L138.737 972.972 L126.26 972.972 L126.26 969.176 Z\" fill=\"#000000\" fill-rule=\"evenodd\" fill-opacity=\"1\" /><path clip-path=\"url(#clip2600)\" d=\"M 0 0 M156.654 953.574 L144.848 972.023 L156.654 972.023 L156.654 953.574 M155.427 949.5 L161.306 949.5 L161.306 972.023 L166.237 972.023 L166.237 975.912 L161.306 975.912 L161.306 984.06 L156.654 984.06 L156.654 975.912 L141.052 975.912 L141.052 971.398 L155.427 949.5 Z\" fill=\"#000000\" fill-rule=\"evenodd\" fill-opacity=\"1\" /><path clip-path=\"url(#clip2600)\" d=\"M 0 0 M127.394 753.008 L139.871 753.008 L139.871 756.804 L127.394 756.804 L127.394 753.008 Z\" fill=\"#000000\" fill-rule=\"evenodd\" fill-opacity=\"1\" /><path clip-path=\"url(#clip2600)\" d=\"M 0 0 M159.107 749.258 Q162.464 749.975 164.339 752.244 Q166.237 754.512 166.237 757.846 Q166.237 762.961 162.718 765.762 Q159.2 768.563 152.718 768.563 Q150.542 768.563 148.228 768.123 Q145.936 767.707 143.482 766.85 L143.482 762.336 Q145.427 763.47 147.742 764.049 Q150.056 764.628 152.579 764.628 Q156.978 764.628 159.269 762.892 Q161.584 761.156 161.584 757.846 Q161.584 754.79 159.431 753.077 Q157.302 751.341 153.482 751.341 L149.454 751.341 L149.454 747.498 L153.667 747.498 Q157.116 747.498 158.945 746.133 Q160.774 744.744 160.774 742.151 Q160.774 739.489 158.876 738.077 Q157.001 736.642 153.482 736.642 Q151.561 736.642 149.362 737.059 Q147.163 737.475 144.524 738.355 L144.524 734.188 Q147.186 733.448 149.501 733.077 Q151.839 732.707 153.899 732.707 Q159.223 732.707 162.325 735.137 Q165.427 737.545 165.427 741.665 Q165.427 744.535 163.783 746.526 Q162.14 748.494 159.107 749.258 Z\" fill=\"#000000\" fill-rule=\"evenodd\" fill-opacity=\"1\" /><path clip-path=\"url(#clip2600)\" d=\"M 0 0 M128.343 536.839 L140.82 536.839 L140.82 540.635 L128.343 540.635 L128.343 536.839 Z\" fill=\"#000000\" fill-rule=\"evenodd\" fill-opacity=\"1\" /><path clip-path=\"url(#clip2600)\" d=\"M 0 0 M149.917 547.788 L166.237 547.788 L166.237 551.723 L144.292 551.723 L144.292 547.788 Q146.954 545.033 151.538 540.404 Q156.144 535.751 157.325 534.408 Q159.57 531.885 160.45 530.149 Q161.353 528.39 161.353 526.7 Q161.353 523.946 159.408 522.209 Q157.487 520.473 154.385 520.473 Q152.186 520.473 149.732 521.237 Q147.302 522.001 144.524 523.552 L144.524 518.83 Q147.348 517.696 149.802 517.117 Q152.255 516.538 154.292 516.538 Q159.663 516.538 162.857 519.223 Q166.052 521.908 166.052 526.399 Q166.052 528.529 165.241 530.45 Q164.454 532.348 162.348 534.941 Q161.769 535.612 158.667 538.83 Q155.566 542.024 149.917 547.788 Z\" fill=\"#000000\" fill-rule=\"evenodd\" fill-opacity=\"1\" /><path clip-path=\"url(#clip2600)\" d=\"M 0 0 M127.973 320.67 L140.45 320.67 L140.45 324.467 L127.973 324.467 L127.973 320.67 Z\" fill=\"#000000\" fill-rule=\"evenodd\" fill-opacity=\"1\" /><path clip-path=\"url(#clip2600)\" d=\"M 0 0 M146.329 331.619 L153.968 331.619 L153.968 305.254 L145.658 306.92 L145.658 302.661 L153.922 300.995 L158.598 300.995 L158.598 331.619 L166.237 331.619 L166.237 335.555 L146.329 335.555 L146.329 331.619 Z\" fill=\"#000000\" fill-rule=\"evenodd\" fill-opacity=\"1\" /><path clip-path=\"url(#clip2600)\" d=\"M 0 0 M154.292 87.9046 Q150.681 87.9046 148.853 91.4694 Q147.047 95.011 147.047 102.141 Q147.047 109.247 148.853 112.812 Q150.681 116.354 154.292 116.354 Q157.927 116.354 159.732 112.812 Q161.561 109.247 161.561 102.141 Q161.561 95.011 159.732 91.4694 Q157.927 87.9046 154.292 87.9046 M154.292 84.2009 Q160.103 84.2009 163.158 88.8074 Q166.237 93.3907 166.237 102.141 Q166.237 110.867 163.158 115.474 Q160.103 120.057 154.292 120.057 Q148.482 120.057 145.404 115.474 Q142.348 110.867 142.348 102.141 Q142.348 93.3907 145.404 88.8074 Q148.482 84.2009 154.292 84.2009 Z\" fill=\"#000000\" fill-rule=\"evenodd\" fill-opacity=\"1\" /><path clip-path=\"url(#clip2600)\" d=\"M 0 0 M1157.07 1508.52 L1163.5 1508.52 L1163.5 1550.63 L1186.64 1550.63 L1186.64 1556.04 L1157.07 1556.04 L1157.07 1508.52 Z\" fill=\"#000000\" fill-rule=\"evenodd\" fill-opacity=\"1\" /><path clip-path=\"url(#clip2600)\" d=\"M 0 0 M1208.99 1538.12 Q1201.89 1538.12 1199.15 1539.75 Q1196.41 1541.37 1196.41 1545.29 Q1196.41 1548.4 1198.45 1550.25 Q1200.52 1552.07 1204.05 1552.07 Q1208.92 1552.07 1211.85 1548.63 Q1214.81 1545.16 1214.81 1539.43 L1214.81 1538.12 L1208.99 1538.12 M1220.67 1535.71 L1220.67 1556.04 L1214.81 1556.04 L1214.81 1550.63 Q1212.8 1553.88 1209.81 1555.44 Q1206.82 1556.97 1202.49 1556.97 Q1197.02 1556.97 1193.77 1553.91 Q1190.56 1550.82 1190.56 1545.67 Q1190.56 1539.65 1194.57 1536.6 Q1198.61 1533.54 1206.6 1533.54 L1214.81 1533.54 L1214.81 1532.97 Q1214.81 1528.93 1212.14 1526.73 Q1209.49 1524.5 1204.69 1524.5 Q1201.63 1524.5 1198.74 1525.23 Q1195.84 1525.97 1193.17 1527.43 L1193.17 1522.02 Q1196.38 1520.78 1199.4 1520.17 Q1202.43 1519.54 1205.29 1519.54 Q1213.03 1519.54 1216.85 1523.55 Q1220.67 1527.56 1220.67 1535.71 Z\" fill=\"#000000\" fill-rule=\"evenodd\" fill-opacity=\"1\" /><path clip-path=\"url(#clip2600)\" d=\"M 0 0 M1254.56 1527.24 Q1256.76 1523.29 1259.82 1521.41 Q1262.87 1519.54 1267.01 1519.54 Q1272.58 1519.54 1275.6 1523.45 Q1278.63 1527.33 1278.63 1534.53 L1278.63 1556.04 L1272.74 1556.04 L1272.74 1534.72 Q1272.74 1529.59 1270.92 1527.11 Q1269.11 1524.63 1265.39 1524.63 Q1260.83 1524.63 1258.19 1527.65 Q1255.55 1530.68 1255.55 1535.9 L1255.55 1556.04 L1249.66 1556.04 L1249.66 1534.72 Q1249.66 1529.56 1247.85 1527.11 Q1246.03 1524.63 1242.25 1524.63 Q1237.76 1524.63 1235.12 1527.68 Q1232.47 1530.71 1232.47 1535.9 L1232.47 1556.04 L1226.59 1556.04 L1226.59 1520.4 L1232.47 1520.4 L1232.47 1525.93 Q1234.48 1522.66 1237.28 1521.1 Q1240.08 1519.54 1243.93 1519.54 Q1247.82 1519.54 1250.52 1521.51 Q1253.26 1523.48 1254.56 1527.24 Z\" fill=\"#000000\" fill-rule=\"evenodd\" fill-opacity=\"1\" /><path clip-path=\"url(#clip2600)\" d=\"M 0 0 M1310.36 1538.25 Q1310.36 1531.79 1307.69 1528.13 Q1305.04 1524.44 1300.4 1524.44 Q1295.75 1524.44 1293.08 1528.13 Q1290.43 1531.79 1290.43 1538.25 Q1290.43 1544.71 1293.08 1548.4 Q1295.75 1552.07 1300.4 1552.07 Q1305.04 1552.07 1307.69 1548.4 Q1310.36 1544.71 1310.36 1538.25 M1290.43 1525.81 Q1292.28 1522.62 1295.08 1521.1 Q1297.91 1519.54 1301.83 1519.54 Q1308.32 1519.54 1312.36 1524.69 Q1316.44 1529.85 1316.44 1538.25 Q1316.44 1546.65 1312.36 1551.81 Q1308.32 1556.97 1301.83 1556.97 Q1297.91 1556.97 1295.08 1555.44 Q1292.28 1553.88 1290.43 1550.7 L1290.43 1556.04 L1284.55 1556.04 L1284.55 1506.52 L1290.43 1506.52 L1290.43 1525.81 Z\" fill=\"#000000\" fill-rule=\"evenodd\" fill-opacity=\"1\" /><path clip-path=\"url(#clip2600)\" d=\"M 0 0 M1346.04 1525.81 L1346.04 1506.52 L1351.9 1506.52 L1351.9 1556.04 L1346.04 1556.04 L1346.04 1550.7 Q1344.19 1553.88 1341.36 1555.44 Q1338.56 1556.97 1334.61 1556.97 Q1328.15 1556.97 1324.08 1551.81 Q1320.03 1546.65 1320.03 1538.25 Q1320.03 1529.85 1324.08 1524.69 Q1328.15 1519.54 1334.61 1519.54 Q1338.56 1519.54 1341.36 1521.1 Q1344.19 1522.62 1346.04 1525.81 M1326.08 1538.25 Q1326.08 1544.71 1328.72 1548.4 Q1331.4 1552.07 1336.04 1552.07 Q1340.69 1552.07 1343.37 1548.4 Q1346.04 1544.71 1346.04 1538.25 Q1346.04 1531.79 1343.37 1528.13 Q1340.69 1524.44 1336.04 1524.44 Q1331.4 1524.44 1328.72 1528.13 Q1326.08 1531.79 1326.08 1538.25 Z\" fill=\"#000000\" fill-rule=\"evenodd\" fill-opacity=\"1\" /><path clip-path=\"url(#clip2600)\" d=\"M 0 0 M1374.24 1538.12 Q1367.14 1538.12 1364.4 1539.75 Q1361.67 1541.37 1361.67 1545.29 Q1361.67 1548.4 1363.7 1550.25 Q1365.77 1552.07 1369.31 1552.07 Q1374.18 1552.07 1377.1 1548.63 Q1380.06 1545.16 1380.06 1539.43 L1380.06 1538.12 L1374.24 1538.12 M1385.92 1535.71 L1385.92 1556.04 L1380.06 1556.04 L1380.06 1550.63 Q1378.06 1553.88 1375.07 1555.44 Q1372.07 1556.97 1367.75 1556.97 Q1362.27 1556.97 1359.02 1553.91 Q1355.81 1550.82 1355.81 1545.67 Q1355.81 1539.65 1359.82 1536.6 Q1363.86 1533.54 1371.85 1533.54 L1380.06 1533.54 L1380.06 1532.97 Q1380.06 1528.93 1377.39 1526.73 Q1374.75 1524.5 1369.94 1524.5 Q1366.89 1524.5 1363.99 1525.23 Q1361.09 1525.97 1358.42 1527.43 L1358.42 1522.02 Q1361.63 1520.78 1364.66 1520.17 Q1367.68 1519.54 1370.55 1519.54 Q1378.28 1519.54 1382.1 1523.55 Q1385.92 1527.56 1385.92 1535.71 Z\" fill=\"#000000\" fill-rule=\"evenodd\" fill-opacity=\"1\" /><path clip-path=\"url(#clip2600)\" d=\"M 0 0 M44.8447 1064.62 Q44.8447 1071.62 50.0645 1075.76 Q55.2844 1079.87 64.2919 1079.87 Q73.2675 1079.87 78.4874 1075.76 Q83.7073 1071.62 83.7073 1064.62 Q83.7073 1057.62 78.4874 1053.55 Q73.2675 1049.44 64.2919 1049.44 Q55.2844 1049.44 50.0645 1053.55 Q44.8447 1057.62 44.8447 1064.62 M39.6248 1064.62 Q39.6248 1054.63 46.3406 1048.64 Q53.0246 1042.66 64.2919 1042.66 Q75.5274 1042.66 82.2432 1048.64 Q88.9272 1054.63 88.9272 1064.62 Q88.9272 1074.65 82.2432 1080.66 Q75.5592 1086.65 64.2919 1086.65 Q53.0246 1086.65 46.3406 1080.66 Q39.6248 1074.65 39.6248 1064.62 Z\" fill=\"#000000\" fill-rule=\"evenodd\" fill-opacity=\"1\" /><path clip-path=\"url(#clip2600)\" d=\"M 0 0 M70.212 1010.93 Q63.7508 1010.93 60.0905 1013.6 Q56.3984 1016.24 56.3984 1020.89 Q56.3984 1025.54 60.0905 1028.21 Q63.7508 1030.85 70.212 1030.85 Q76.6732 1030.85 80.3653 1028.21 Q84.0256 1025.54 84.0256 1020.89 Q84.0256 1016.24 80.3653 1013.6 Q76.6732 1010.93 70.212 1010.93 M57.7671 1030.85 Q54.5842 1029.01 53.0564 1026.2 Q51.4968 1023.37 51.4968 1019.46 Q51.4968 1012.96 56.6531 1008.92 Q61.8093 1004.85 70.212 1004.85 Q78.6147 1004.85 83.771 1008.92 Q88.9272 1012.96 88.9272 1019.46 Q88.9272 1023.37 87.3994 1026.2 Q85.8398 1029.01 82.657 1030.85 L88.0042 1030.85 L88.0042 1036.74 L38.479 1036.74 L38.479 1030.85 L57.7671 1030.85 Z\" fill=\"#000000\" fill-rule=\"evenodd\" fill-opacity=\"1\" /><path clip-path=\"url(#clip2600)\" d=\"M 0 0 M52.3562 998.704 L52.3562 992.848 L88.6407 992.848 Q95.452 992.848 98.5076 995.458 Q101.563 998.036 101.563 1003.8 L101.563 1006.03 L96.5979 1006.03 L96.5979 1004.47 Q96.5979 1001.12 95.0383 999.914 Q93.5105 998.704 88.6407 998.704 L52.3562 998.704 M38.479 998.704 L38.479 992.848 L45.895 992.848 L45.895 998.704 L38.479 998.704 Z\" fill=\"#000000\" fill-rule=\"evenodd\" fill-opacity=\"1\" /><path clip-path=\"url(#clip2600)\" d=\"M 0 0 M68.7161 956.213 L71.5806 956.213 L71.5806 983.14 Q77.6281 982.758 80.8109 979.512 Q83.9619 976.234 83.9619 970.409 Q83.9619 967.035 83.1344 963.884 Q82.3069 960.701 80.6518 957.582 L86.1899 957.582 Q87.5267 960.733 88.227 964.043 Q88.9272 967.353 88.9272 970.759 Q88.9272 979.289 83.9619 984.286 Q78.9967 989.251 70.5303 989.251 Q61.7774 989.251 56.6531 984.541 Q51.4968 979.798 51.4968 971.778 Q51.4968 964.584 56.1438 960.415 Q60.7589 956.213 68.7161 956.213 M66.9973 962.07 Q62.1912 962.133 59.3266 964.775 Q56.4621 967.385 56.4621 971.714 Q56.4621 976.615 59.2312 979.576 Q62.0002 982.504 67.0292 982.949 L66.9973 962.07 Z\" fill=\"#000000\" fill-rule=\"evenodd\" fill-opacity=\"1\" /><path clip-path=\"url(#clip2600)\" d=\"M 0 0 M53.7248 924.417 L59.1993 924.417 Q57.8307 926.899 57.1623 929.414 Q56.4621 931.896 56.4621 934.443 Q56.4621 940.14 60.0905 943.291 Q63.6872 946.442 70.212 946.442 Q76.7369 946.442 80.3653 943.291 Q83.9619 940.14 83.9619 934.443 Q83.9619 931.896 83.2935 929.414 Q82.5933 926.899 81.2247 924.417 L86.6355 924.417 Q87.7814 926.867 88.3543 929.509 Q88.9272 932.119 88.9272 935.079 Q88.9272 943.132 83.8664 947.874 Q78.8057 952.617 70.212 952.617 Q61.491 952.617 56.4939 947.842 Q51.4968 943.036 51.4968 934.697 Q51.4968 931.992 52.0697 929.414 Q52.6108 926.836 53.7248 924.417 Z\" fill=\"#000000\" fill-rule=\"evenodd\" fill-opacity=\"1\" /><path clip-path=\"url(#clip2600)\" d=\"M 0 0 M42.2347 912.481 L52.3562 912.481 L52.3562 900.418 L56.9077 900.418 L56.9077 912.481 L76.2594 912.481 Q80.6199 912.481 81.8613 911.303 Q83.1026 910.094 83.1026 906.434 L83.1026 900.418 L88.0042 900.418 L88.0042 906.434 Q88.0042 913.213 85.4897 915.791 Q82.9434 918.369 76.2594 918.369 L56.9077 918.369 L56.9077 922.666 L52.3562 922.666 L52.3562 918.369 L42.2347 918.369 L42.2347 912.481 Z\" fill=\"#000000\" fill-rule=\"evenodd\" fill-opacity=\"1\" /><path clip-path=\"url(#clip2600)\" d=\"M 0 0 M52.3562 894.275 L52.3562 888.419 L88.0042 888.419 L88.0042 894.275 L52.3562 894.275 M38.479 894.275 L38.479 888.419 L45.895 888.419 L45.895 894.275 L38.479 894.275 Z\" fill=\"#000000\" fill-rule=\"evenodd\" fill-opacity=\"1\" /><path clip-path=\"url(#clip2600)\" d=\"M 0 0 M52.3562 886.477 L52.3562 880.271 L82.275 869.131 L52.3562 857.991 L52.3562 851.784 L88.0042 865.152 L88.0042 873.109 L52.3562 886.477 Z\" fill=\"#000000\" fill-rule=\"evenodd\" fill-opacity=\"1\" /><path clip-path=\"url(#clip2600)\" d=\"M 0 0 M68.7161 815.149 L71.5806 815.149 L71.5806 842.076 Q77.6281 841.694 80.8109 838.448 Q83.9619 835.169 83.9619 829.345 Q83.9619 825.971 83.1344 822.82 Q82.3069 819.637 80.6518 816.518 L86.1899 816.518 Q87.5267 819.669 88.227 822.979 Q88.9272 826.289 88.9272 829.695 Q88.9272 838.225 83.9619 843.222 Q78.9967 848.187 70.5303 848.187 Q61.7774 848.187 56.6531 843.477 Q51.4968 838.734 51.4968 830.713 Q51.4968 823.52 56.1438 819.351 Q60.7589 815.149 68.7161 815.149 M66.9973 821.006 Q62.1912 821.069 59.3266 823.711 Q56.4621 826.321 56.4621 830.65 Q56.4621 835.551 59.2312 838.511 Q62.0002 841.44 67.0292 841.885 L66.9973 821.006 Z\" fill=\"#000000\" fill-rule=\"evenodd\" fill-opacity=\"1\" /><path clip-path=\"url(#clip2600)\" d=\"M 0 0 M38.479 770.239 L43.3487 770.239 L43.3487 775.841 Q43.3487 778.992 44.6219 780.233 Q45.895 781.443 49.2052 781.443 L52.3562 781.443 L52.3562 771.799 L56.9077 771.799 L56.9077 781.443 L88.0042 781.443 L88.0042 787.331 L56.9077 787.331 L56.9077 792.933 L52.3562 792.933 L52.3562 787.331 L49.8736 787.331 Q43.9216 787.331 41.2162 784.562 Q38.479 781.793 38.479 775.777 L38.479 770.239 Z\" fill=\"#000000\" fill-rule=\"evenodd\" fill-opacity=\"1\" /><path clip-path=\"url(#clip2600)\" d=\"M 0 0 M73.9359 764.701 L52.3562 764.701 L52.3562 758.845 L73.7131 758.845 Q78.7739 758.845 81.3202 756.871 Q83.8346 754.898 83.8346 750.951 Q83.8346 746.209 80.8109 743.471 Q77.7872 740.702 72.5673 740.702 L52.3562 740.702 L52.3562 734.846 L88.0042 734.846 L88.0042 740.702 L82.5296 740.702 Q85.7762 742.835 87.3676 745.668 Q88.9272 748.469 88.9272 752.192 Q88.9272 758.335 85.1078 761.518 Q81.2883 764.701 73.9359 764.701 M51.4968 749.964 L51.4968 749.964 Z\" fill=\"#000000\" fill-rule=\"evenodd\" fill-opacity=\"1\" /><path clip-path=\"url(#clip2600)\" d=\"M 0 0 M66.4881 699.071 L88.0042 699.071 L88.0042 704.927 L66.679 704.927 Q61.6183 704.927 59.1038 706.9 Q56.5894 708.874 56.5894 712.821 Q56.5894 717.563 59.6131 720.3 Q62.6368 723.038 67.8567 723.038 L88.0042 723.038 L88.0042 728.926 L52.3562 728.926 L52.3562 723.038 L57.8944 723.038 Q54.6797 720.937 53.0883 718.104 Q51.4968 715.24 51.4968 711.516 Q51.4968 705.373 55.3163 702.222 Q59.1038 699.071 66.4881 699.071 Z\" fill=\"#000000\" fill-rule=\"evenodd\" fill-opacity=\"1\" /><path clip-path=\"url(#clip2600)\" d=\"M 0 0 M53.7248 667.274 L59.1993 667.274 Q57.8307 669.757 57.1623 672.271 Q56.4621 674.754 56.4621 677.3 Q56.4621 682.997 60.0905 686.148 Q63.6872 689.299 70.212 689.299 Q76.7369 689.299 80.3653 686.148 Q83.9619 682.997 83.9619 677.3 Q83.9619 674.754 83.2935 672.271 Q82.5933 669.757 81.2247 667.274 L86.6355 667.274 Q87.7814 669.725 88.3543 672.367 Q88.9272 674.976 88.9272 677.937 Q88.9272 685.989 83.8664 690.732 Q78.8057 695.474 70.212 695.474 Q61.491 695.474 56.4939 690.7 Q51.4968 685.894 51.4968 677.555 Q51.4968 674.849 52.0697 672.271 Q52.6108 669.693 53.7248 667.274 Z\" fill=\"#000000\" fill-rule=\"evenodd\" fill-opacity=\"1\" /><path clip-path=\"url(#clip2600)\" d=\"M 0 0 M42.2347 655.338 L52.3562 655.338 L52.3562 643.275 L56.9077 643.275 L56.9077 655.338 L76.2594 655.338 Q80.6199 655.338 81.8613 654.161 Q83.1026 652.951 83.1026 649.291 L83.1026 643.275 L88.0042 643.275 L88.0042 649.291 Q88.0042 656.07 85.4897 658.648 Q82.9434 661.227 76.2594 661.227 L56.9077 661.227 L56.9077 665.523 L52.3562 665.523 L52.3562 661.227 L42.2347 661.227 L42.2347 655.338 Z\" fill=\"#000000\" fill-rule=\"evenodd\" fill-opacity=\"1\" /><path clip-path=\"url(#clip2600)\" d=\"M 0 0 M52.3562 637.132 L52.3562 631.276 L88.0042 631.276 L88.0042 637.132 L52.3562 637.132 M38.479 637.132 L38.479 631.276 L45.895 631.276 L45.895 637.132 L38.479 637.132 Z\" fill=\"#000000\" fill-rule=\"evenodd\" fill-opacity=\"1\" /><path clip-path=\"url(#clip2600)\" d=\"M 0 0 M56.4621 611.319 Q56.4621 616.03 60.1542 618.767 Q63.8145 621.505 70.212 621.505 Q76.6095 621.505 80.3017 618.799 Q83.9619 616.062 83.9619 611.319 Q83.9619 606.641 80.2698 603.903 Q76.5777 601.166 70.212 601.166 Q63.8781 601.166 60.186 603.903 Q56.4621 606.641 56.4621 611.319 M51.4968 611.319 Q51.4968 603.681 56.4621 599.32 Q61.4273 594.96 70.212 594.96 Q78.9649 594.96 83.9619 599.32 Q88.9272 603.681 88.9272 611.319 Q88.9272 618.99 83.9619 623.351 Q78.9649 627.679 70.212 627.679 Q61.4273 627.679 56.4621 623.351 Q51.4968 618.99 51.4968 611.319 Z\" fill=\"#000000\" fill-rule=\"evenodd\" fill-opacity=\"1\" /><path clip-path=\"url(#clip2600)\" d=\"M 0 0 M66.4881 559.184 L88.0042 559.184 L88.0042 565.041 L66.679 565.041 Q61.6183 565.041 59.1038 567.014 Q56.5894 568.987 56.5894 572.934 Q56.5894 577.677 59.6131 580.414 Q62.6368 583.151 67.8567 583.151 L88.0042 583.151 L88.0042 589.039 L52.3562 589.039 L52.3562 583.151 L57.8944 583.151 Q54.6797 581.05 53.0883 578.218 Q51.4968 575.353 51.4968 571.629 Q51.4968 565.486 55.3163 562.335 Q59.1038 559.184 66.4881 559.184 Z\" fill=\"#000000\" fill-rule=\"evenodd\" fill-opacity=\"1\" /><path clip-path=\"url(#clip2600)\" d=\"M 0 0 M52.3562 536.522 L52.3562 530.316 L82.275 519.176 L52.3562 508.036 L52.3562 501.829 L88.0042 515.197 L88.0042 523.154 L52.3562 536.522 Z\" fill=\"#000000\" fill-rule=\"evenodd\" fill-opacity=\"1\" /><path clip-path=\"url(#clip2600)\" d=\"M 0 0 M70.0847 479.486 Q70.0847 486.583 71.7079 489.321 Q73.3312 492.058 77.2461 492.058 Q80.3653 492.058 82.2114 490.021 Q84.0256 487.952 84.0256 484.419 Q84.0256 479.549 80.5881 476.621 Q77.1188 473.661 71.3897 473.661 L70.0847 473.661 L70.0847 479.486 M67.6657 467.805 L88.0042 467.805 L88.0042 473.661 L82.5933 473.661 Q85.8398 475.666 87.3994 478.658 Q88.9272 481.65 88.9272 485.979 Q88.9272 491.453 85.8716 494.7 Q82.7843 497.914 77.6281 497.914 Q71.6125 497.914 68.5569 493.904 Q65.5014 489.862 65.5014 481.873 L65.5014 473.661 L64.9285 473.661 Q60.8862 473.661 58.6901 476.335 Q56.4621 478.976 56.4621 483.782 Q56.4621 486.838 57.1941 489.734 Q57.9262 492.631 59.3903 495.304 L53.9795 495.304 Q52.7381 492.09 52.1334 489.066 Q51.4968 486.042 51.4968 483.178 Q51.4968 475.443 55.5072 471.624 Q59.5176 467.805 67.6657 467.805 Z\" fill=\"#000000\" fill-rule=\"evenodd\" fill-opacity=\"1\" /><path clip-path=\"url(#clip2600)\" d=\"M 0 0 M38.479 461.662 L38.479 455.805 L88.0042 455.805 L88.0042 461.662 L38.479 461.662 Z\" fill=\"#000000\" fill-rule=\"evenodd\" fill-opacity=\"1\" /><path clip-path=\"url(#clip2600)\" d=\"M 0 0 M73.9359 450.267 L52.3562 450.267 L52.3562 444.411 L73.7131 444.411 Q78.7739 444.411 81.3202 442.437 Q83.8346 440.464 83.8346 436.517 Q83.8346 431.775 80.8109 429.037 Q77.7872 426.268 72.5673 426.268 L52.3562 426.268 L52.3562 420.412 L88.0042 420.412 L88.0042 426.268 L82.5296 426.268 Q85.7762 428.401 87.3676 431.234 Q88.9272 434.034 88.9272 437.758 Q88.9272 443.901 85.1078 447.084 Q81.2883 450.267 73.9359 450.267 M51.4968 435.53 L51.4968 435.53 Z\" fill=\"#000000\" fill-rule=\"evenodd\" fill-opacity=\"1\" /><path clip-path=\"url(#clip2600)\" d=\"M 0 0 M68.7161 383.777 L71.5806 383.777 L71.5806 410.704 Q77.6281 410.322 80.8109 407.076 Q83.9619 403.797 83.9619 397.973 Q83.9619 394.599 83.1344 391.448 Q82.3069 388.265 80.6518 385.146 L86.1899 385.146 Q87.5267 388.297 88.227 391.607 Q88.9272 394.917 88.9272 398.323 Q88.9272 406.853 83.9619 411.85 Q78.9967 416.815 70.5303 416.815 Q61.7774 416.815 56.6531 412.105 Q51.4968 407.362 51.4968 399.341 Q51.4968 392.148 56.1438 387.979 Q60.7589 383.777 68.7161 383.777 M66.9973 389.634 Q62.1912 389.697 59.3266 392.339 Q56.4621 394.949 56.4621 399.278 Q56.4621 404.179 59.2312 407.139 Q62.0002 410.068 67.0292 410.513 L66.9973 389.634 Z\" fill=\"#000000\" fill-rule=\"evenodd\" fill-opacity=\"1\" /><polyline clip-path=\"url(#clip2602)\" style=\"stroke:#009af9; stroke-width:4; stroke-opacity:1; fill:none\" points=\"\n",
       "  251.44,86.1857 293.075,86.1905 334.71,86.1969 376.345,86.2054 417.98,86.2167 459.615,86.2316 501.25,86.2514 542.885,86.2777 584.52,86.3125 626.155,86.3586 \n",
       "  667.79,86.4198 709.425,86.5009 751.06,86.6084 792.694,86.7509 834.329,86.9398 875.964,87.1903 917.599,87.5224 959.234,87.9626 1000.87,88.5461 1042.5,89.3199 \n",
       "  1084.14,90.3455 1125.77,91.6944 1167.41,93.0474 1209.04,94.2953 1250.68,95.5363 1292.31,96.8702 1333.95,98.3144 1375.58,99.6955 1417.22,101.102 1458.85,102.647 \n",
       "  1500.49,104.454 1542.12,106.668 1583.76,109.465 1625.39,113.069 1667.03,117.77 1708.66,123.942 1750.3,132.081 1791.93,142.837 1833.57,157.071 1875.2,175.922 \n",
       "  1916.84,200.898 1958.47,233.999 2000.11,277.873 2041.74,336.031 2083.38,413.127 2125.01,515.331 2166.65,650.821 2208.28,830.439 2249.92,1068.56 2291.55,1384.24 \n",
       "  \n",
       "  \"/>\n",
       "</svg>\n"
      ]
     },
     "execution_count": 15,
     "metadata": {},
     "output_type": "execute_result"
    }
   ],
   "source": [
    "# Plot the result\n",
    "plot(lambda, values, xaxis = :log, labels = \"\")\n",
    "xlabel!(\"Lambda\")\n",
    "ylabel!(\"Objective function value\")"
   ]
  },
  {
   "cell_type": "code",
   "execution_count": 16,
   "metadata": {},
   "outputs": [
    {
     "data": {
      "image/svg+xml": [
       "<?xml version=\"1.0\" encoding=\"utf-8\"?>\n",
       "<svg xmlns=\"http://www.w3.org/2000/svg\" xmlns:xlink=\"http://www.w3.org/1999/xlink\" width=\"600\" height=\"400\" viewBox=\"0 0 2400 1600\">\n",
       "<defs>\n",
       "  <clipPath id=\"clip3000\">\n",
       "    <rect x=\"0\" y=\"0\" width=\"2400\" height=\"1600\"/>\n",
       "  </clipPath>\n",
       "</defs>\n",
       "<path clip-path=\"url(#clip3000)\" d=\"\n",
       "M0 1600 L2400 1600 L2400 0 L0 0  Z\n",
       "  \" fill=\"#ffffff\" fill-rule=\"evenodd\" fill-opacity=\"1\"/>\n",
       "<defs>\n",
       "  <clipPath id=\"clip3001\">\n",
       "    <rect x=\"480\" y=\"0\" width=\"1681\" height=\"1600\"/>\n",
       "  </clipPath>\n",
       "</defs>\n",
       "<path clip-path=\"url(#clip3000)\" d=\"\n",
       "M238.616 1423.18 L2352.76 1423.18 L2352.76 47.2441 L238.616 47.2441  Z\n",
       "  \" fill=\"#ffffff\" fill-rule=\"evenodd\" fill-opacity=\"1\"/>\n",
       "<defs>\n",
       "  <clipPath id=\"clip3002\">\n",
       "    <rect x=\"238\" y=\"47\" width=\"2115\" height=\"1377\"/>\n",
       "  </clipPath>\n",
       "</defs>\n",
       "<polyline clip-path=\"url(#clip3002)\" style=\"stroke:#000000; stroke-width:2; stroke-opacity:0.1; fill:none\" points=\"\n",
       "  298.45,1423.18 298.45,47.2441 \n",
       "  \"/>\n",
       "<polyline clip-path=\"url(#clip3002)\" style=\"stroke:#000000; stroke-width:2; stroke-opacity:0.1; fill:none\" points=\"\n",
       "  630.862,1423.18 630.862,47.2441 \n",
       "  \"/>\n",
       "<polyline clip-path=\"url(#clip3002)\" style=\"stroke:#000000; stroke-width:2; stroke-opacity:0.1; fill:none\" points=\"\n",
       "  963.274,1423.18 963.274,47.2441 \n",
       "  \"/>\n",
       "<polyline clip-path=\"url(#clip3002)\" style=\"stroke:#000000; stroke-width:2; stroke-opacity:0.1; fill:none\" points=\"\n",
       "  1295.69,1423.18 1295.69,47.2441 \n",
       "  \"/>\n",
       "<polyline clip-path=\"url(#clip3002)\" style=\"stroke:#000000; stroke-width:2; stroke-opacity:0.1; fill:none\" points=\"\n",
       "  1628.1,1423.18 1628.1,47.2441 \n",
       "  \"/>\n",
       "<polyline clip-path=\"url(#clip3002)\" style=\"stroke:#000000; stroke-width:2; stroke-opacity:0.1; fill:none\" points=\"\n",
       "  1960.51,1423.18 1960.51,47.2441 \n",
       "  \"/>\n",
       "<polyline clip-path=\"url(#clip3002)\" style=\"stroke:#000000; stroke-width:2; stroke-opacity:0.1; fill:none\" points=\"\n",
       "  2292.92,1423.18 2292.92,47.2441 \n",
       "  \"/>\n",
       "<polyline clip-path=\"url(#clip3002)\" style=\"stroke:#000000; stroke-width:2; stroke-opacity:0.1; fill:none\" points=\"\n",
       "  238.616,1228.55 2352.76,1228.55 \n",
       "  \"/>\n",
       "<polyline clip-path=\"url(#clip3002)\" style=\"stroke:#000000; stroke-width:2; stroke-opacity:0.1; fill:none\" points=\"\n",
       "  238.616,1015.88 2352.76,1015.88 \n",
       "  \"/>\n",
       "<polyline clip-path=\"url(#clip3002)\" style=\"stroke:#000000; stroke-width:2; stroke-opacity:0.1; fill:none\" points=\"\n",
       "  238.616,803.213 2352.76,803.213 \n",
       "  \"/>\n",
       "<polyline clip-path=\"url(#clip3002)\" style=\"stroke:#000000; stroke-width:2; stroke-opacity:0.1; fill:none\" points=\"\n",
       "  238.616,590.546 2352.76,590.546 \n",
       "  \"/>\n",
       "<polyline clip-path=\"url(#clip3002)\" style=\"stroke:#000000; stroke-width:2; stroke-opacity:0.1; fill:none\" points=\"\n",
       "  238.616,377.879 2352.76,377.879 \n",
       "  \"/>\n",
       "<polyline clip-path=\"url(#clip3002)\" style=\"stroke:#000000; stroke-width:2; stroke-opacity:0.1; fill:none\" points=\"\n",
       "  238.616,165.213 2352.76,165.213 \n",
       "  \"/>\n",
       "<polyline clip-path=\"url(#clip3000)\" style=\"stroke:#000000; stroke-width:4; stroke-opacity:1; fill:none\" points=\"\n",
       "  238.616,1423.18 2352.76,1423.18 \n",
       "  \"/>\n",
       "<polyline clip-path=\"url(#clip3000)\" style=\"stroke:#000000; stroke-width:4; stroke-opacity:1; fill:none\" points=\"\n",
       "  238.616,1423.18 238.616,47.2441 \n",
       "  \"/>\n",
       "<polyline clip-path=\"url(#clip3000)\" style=\"stroke:#000000; stroke-width:4; stroke-opacity:1; fill:none\" points=\"\n",
       "  298.45,1423.18 298.45,1406.67 \n",
       "  \"/>\n",
       "<polyline clip-path=\"url(#clip3000)\" style=\"stroke:#000000; stroke-width:4; stroke-opacity:1; fill:none\" points=\"\n",
       "  630.862,1423.18 630.862,1406.67 \n",
       "  \"/>\n",
       "<polyline clip-path=\"url(#clip3000)\" style=\"stroke:#000000; stroke-width:4; stroke-opacity:1; fill:none\" points=\"\n",
       "  963.274,1423.18 963.274,1406.67 \n",
       "  \"/>\n",
       "<polyline clip-path=\"url(#clip3000)\" style=\"stroke:#000000; stroke-width:4; stroke-opacity:1; fill:none\" points=\"\n",
       "  1295.69,1423.18 1295.69,1406.67 \n",
       "  \"/>\n",
       "<polyline clip-path=\"url(#clip3000)\" style=\"stroke:#000000; stroke-width:4; stroke-opacity:1; fill:none\" points=\"\n",
       "  1628.1,1423.18 1628.1,1406.67 \n",
       "  \"/>\n",
       "<polyline clip-path=\"url(#clip3000)\" style=\"stroke:#000000; stroke-width:4; stroke-opacity:1; fill:none\" points=\"\n",
       "  1960.51,1423.18 1960.51,1406.67 \n",
       "  \"/>\n",
       "<polyline clip-path=\"url(#clip3000)\" style=\"stroke:#000000; stroke-width:4; stroke-opacity:1; fill:none\" points=\"\n",
       "  2292.92,1423.18 2292.92,1406.67 \n",
       "  \"/>\n",
       "<polyline clip-path=\"url(#clip3000)\" style=\"stroke:#000000; stroke-width:4; stroke-opacity:1; fill:none\" points=\"\n",
       "  238.616,1228.55 263.986,1228.55 \n",
       "  \"/>\n",
       "<polyline clip-path=\"url(#clip3000)\" style=\"stroke:#000000; stroke-width:4; stroke-opacity:1; fill:none\" points=\"\n",
       "  238.616,1015.88 263.986,1015.88 \n",
       "  \"/>\n",
       "<polyline clip-path=\"url(#clip3000)\" style=\"stroke:#000000; stroke-width:4; stroke-opacity:1; fill:none\" points=\"\n",
       "  238.616,803.213 263.986,803.213 \n",
       "  \"/>\n",
       "<polyline clip-path=\"url(#clip3000)\" style=\"stroke:#000000; stroke-width:4; stroke-opacity:1; fill:none\" points=\"\n",
       "  238.616,590.546 263.986,590.546 \n",
       "  \"/>\n",
       "<polyline clip-path=\"url(#clip3000)\" style=\"stroke:#000000; stroke-width:4; stroke-opacity:1; fill:none\" points=\"\n",
       "  238.616,377.879 263.986,377.879 \n",
       "  \"/>\n",
       "<polyline clip-path=\"url(#clip3000)\" style=\"stroke:#000000; stroke-width:4; stroke-opacity:1; fill:none\" points=\"\n",
       "  238.616,165.213 263.986,165.213 \n",
       "  \"/>\n",
       "<path clip-path=\"url(#clip3000)\" d=\"M 0 0 M254.026 1494.25 L261.664 1494.25 L261.664 1467.89 L253.354 1469.55 L253.354 1465.29 L261.618 1463.63 L266.294 1463.63 L266.294 1494.25 L273.933 1494.25 L273.933 1498.19 L254.026 1498.19 L254.026 1494.25 Z\" fill=\"#000000\" fill-rule=\"evenodd\" fill-opacity=\"1\" /><path clip-path=\"url(#clip3000)\" d=\"M 0 0 M289.002 1466.71 Q285.391 1466.71 283.563 1470.27 Q281.757 1473.81 281.757 1480.94 Q281.757 1488.05 283.563 1491.61 Q285.391 1495.15 289.002 1495.15 Q292.637 1495.15 294.442 1491.61 Q296.271 1488.05 296.271 1480.94 Q296.271 1473.81 294.442 1470.27 Q292.637 1466.71 289.002 1466.71 M289.002 1463 Q294.812 1463 297.868 1467.61 Q300.947 1472.19 300.947 1480.94 Q300.947 1489.67 297.868 1494.28 Q294.812 1498.86 289.002 1498.86 Q283.192 1498.86 280.113 1494.28 Q277.058 1489.67 277.058 1480.94 Q277.058 1472.19 280.113 1467.61 Q283.192 1463 289.002 1463 Z\" fill=\"#000000\" fill-rule=\"evenodd\" fill-opacity=\"1\" /><path clip-path=\"url(#clip3000)\" d=\"M 0 0 M300.947 1458.68 L311.084 1458.68 L311.084 1461.77 L300.947 1461.77 L300.947 1458.68 Z\" fill=\"#000000\" fill-rule=\"evenodd\" fill-opacity=\"1\" /><path clip-path=\"url(#clip3000)\" d=\"M 0 0 M337.753 1455.64 Q340.481 1456.22 342.004 1458.06 Q343.546 1459.91 343.546 1462.61 Q343.546 1466.77 340.687 1469.05 Q337.829 1471.32 332.563 1471.32 Q330.795 1471.32 328.914 1470.96 Q327.052 1470.63 325.058 1469.93 L325.058 1466.26 Q326.638 1467.18 328.519 1467.65 Q330.4 1468.12 332.45 1468.12 Q336.023 1468.12 337.885 1466.71 Q339.766 1465.3 339.766 1462.61 Q339.766 1460.13 338.017 1458.74 Q336.286 1457.33 333.183 1457.33 L329.911 1457.33 L329.911 1454.21 L333.334 1454.21 Q336.136 1454.21 337.622 1453.1 Q339.108 1451.97 339.108 1449.86 Q339.108 1447.7 337.565 1446.55 Q336.042 1445.39 333.183 1445.39 Q331.622 1445.39 329.835 1445.72 Q328.049 1446.06 325.905 1446.78 L325.905 1443.39 Q328.067 1442.79 329.948 1442.49 Q331.848 1442.19 333.522 1442.19 Q337.848 1442.19 340.368 1444.16 Q342.888 1446.12 342.888 1449.47 Q342.888 1451.8 341.553 1453.42 Q340.217 1455.02 337.753 1455.64 Z\" fill=\"#000000\" fill-rule=\"evenodd\" fill-opacity=\"1\" /><path clip-path=\"url(#clip3000)\" d=\"M 0 0 M586.767 1494.25 L594.406 1494.25 L594.406 1467.89 L586.095 1469.55 L586.095 1465.29 L594.359 1463.63 L599.035 1463.63 L599.035 1494.25 L606.674 1494.25 L606.674 1498.19 L586.767 1498.19 L586.767 1494.25 Z\" fill=\"#000000\" fill-rule=\"evenodd\" fill-opacity=\"1\" /><path clip-path=\"url(#clip3000)\" d=\"M 0 0 M621.743 1466.71 Q618.132 1466.71 616.304 1470.27 Q614.498 1473.81 614.498 1480.94 Q614.498 1488.05 616.304 1491.61 Q618.132 1495.15 621.743 1495.15 Q625.378 1495.15 627.183 1491.61 Q629.012 1488.05 629.012 1480.94 Q629.012 1473.81 627.183 1470.27 Q625.378 1466.71 621.743 1466.71 M621.743 1463 Q627.553 1463 630.609 1467.61 Q633.688 1472.19 633.688 1480.94 Q633.688 1489.67 630.609 1494.28 Q627.553 1498.86 621.743 1498.86 Q615.933 1498.86 612.855 1494.28 Q609.799 1489.67 609.799 1480.94 Q609.799 1472.19 612.855 1467.61 Q615.933 1463 621.743 1463 Z\" fill=\"#000000\" fill-rule=\"evenodd\" fill-opacity=\"1\" /><path clip-path=\"url(#clip3000)\" d=\"M 0 0 M633.688 1458.68 L643.825 1458.68 L643.825 1461.77 L633.688 1461.77 L633.688 1458.68 Z\" fill=\"#000000\" fill-rule=\"evenodd\" fill-opacity=\"1\" /><path clip-path=\"url(#clip3000)\" d=\"M 0 0 M662.37 1467.58 L675.629 1467.58 L675.629 1470.78 L657.799 1470.78 L657.799 1467.58 Q659.962 1465.34 663.686 1461.58 Q667.429 1457.8 668.388 1456.71 Q670.212 1454.66 670.927 1453.25 Q671.661 1451.82 671.661 1450.45 Q671.661 1448.21 670.081 1446.8 Q668.52 1445.39 665.999 1445.39 Q664.213 1445.39 662.219 1446.01 Q660.244 1446.63 657.987 1447.89 L657.987 1444.05 Q660.282 1443.13 662.276 1442.66 Q664.269 1442.19 665.924 1442.19 Q670.288 1442.19 672.883 1444.37 Q675.479 1446.55 675.479 1450.2 Q675.479 1451.93 674.82 1453.49 Q674.181 1455.03 672.469 1457.14 Q671.999 1457.69 669.479 1460.3 Q666.959 1462.9 662.37 1467.58 Z\" fill=\"#000000\" fill-rule=\"evenodd\" fill-opacity=\"1\" /><path clip-path=\"url(#clip3000)\" d=\"M 0 0 M919.733 1494.25 L927.372 1494.25 L927.372 1467.89 L919.062 1469.55 L919.062 1465.29 L927.326 1463.63 L932.002 1463.63 L932.002 1494.25 L939.641 1494.25 L939.641 1498.19 L919.733 1498.19 L919.733 1494.25 Z\" fill=\"#000000\" fill-rule=\"evenodd\" fill-opacity=\"1\" /><path clip-path=\"url(#clip3000)\" d=\"M 0 0 M954.71 1466.71 Q951.099 1466.71 949.27 1470.27 Q947.465 1473.81 947.465 1480.94 Q947.465 1488.05 949.27 1491.61 Q951.099 1495.15 954.71 1495.15 Q958.344 1495.15 960.15 1491.61 Q961.979 1488.05 961.979 1480.94 Q961.979 1473.81 960.15 1470.27 Q958.344 1466.71 954.71 1466.71 M954.71 1463 Q960.52 1463 963.576 1467.61 Q966.654 1472.19 966.654 1480.94 Q966.654 1489.67 963.576 1494.28 Q960.52 1498.86 954.71 1498.86 Q948.9 1498.86 945.821 1494.28 Q942.766 1489.67 942.766 1480.94 Q942.766 1472.19 945.821 1467.61 Q948.9 1463 954.71 1463 Z\" fill=\"#000000\" fill-rule=\"evenodd\" fill-opacity=\"1\" /><path clip-path=\"url(#clip3000)\" d=\"M 0 0 M966.654 1458.68 L976.792 1458.68 L976.792 1461.77 L966.654 1461.77 L966.654 1458.68 Z\" fill=\"#000000\" fill-rule=\"evenodd\" fill-opacity=\"1\" /><path clip-path=\"url(#clip3000)\" d=\"M 0 0 M991.311 1467.58 L997.518 1467.58 L997.518 1446.16 L990.766 1447.51 L990.766 1444.05 L997.48 1442.7 L1001.28 1442.7 L1001.28 1467.58 L1007.49 1467.58 L1007.49 1470.78 L991.311 1470.78 L991.311 1467.58 Z\" fill=\"#000000\" fill-rule=\"evenodd\" fill-opacity=\"1\" /><path clip-path=\"url(#clip3000)\" d=\"M 0 0 M1262.86 1494.25 L1270.5 1494.25 L1270.5 1467.89 L1262.19 1469.55 L1262.19 1465.29 L1270.45 1463.63 L1275.12 1463.63 L1275.12 1494.25 L1282.76 1494.25 L1282.76 1498.19 L1262.86 1498.19 L1262.86 1494.25 Z\" fill=\"#000000\" fill-rule=\"evenodd\" fill-opacity=\"1\" /><path clip-path=\"url(#clip3000)\" d=\"M 0 0 M1297.83 1466.71 Q1294.22 1466.71 1292.39 1470.27 Q1290.59 1473.81 1290.59 1480.94 Q1290.59 1488.05 1292.39 1491.61 Q1294.22 1495.15 1297.83 1495.15 Q1301.47 1495.15 1303.27 1491.61 Q1305.1 1488.05 1305.1 1480.94 Q1305.1 1473.81 1303.27 1470.27 Q1301.47 1466.71 1297.83 1466.71 M1297.83 1463 Q1303.64 1463 1306.7 1467.61 Q1309.78 1472.19 1309.78 1480.94 Q1309.78 1489.67 1306.7 1494.28 Q1303.64 1498.86 1297.83 1498.86 Q1292.02 1498.86 1288.94 1494.28 Q1285.89 1489.67 1285.89 1480.94 Q1285.89 1472.19 1288.94 1467.61 Q1292.02 1463 1297.83 1463 Z\" fill=\"#000000\" fill-rule=\"evenodd\" fill-opacity=\"1\" /><path clip-path=\"url(#clip3000)\" d=\"M 0 0 M1319.48 1445.2 Q1316.55 1445.2 1315.06 1448.09 Q1313.6 1450.97 1313.6 1456.76 Q1313.6 1462.54 1315.06 1465.44 Q1316.55 1468.31 1319.48 1468.31 Q1322.44 1468.31 1323.9 1465.44 Q1325.39 1462.54 1325.39 1456.76 Q1325.39 1450.97 1323.9 1448.09 Q1322.44 1445.2 1319.48 1445.2 M1319.48 1442.19 Q1324.2 1442.19 1326.69 1445.93 Q1329.19 1449.66 1329.19 1456.76 Q1329.19 1463.86 1326.69 1467.6 Q1324.2 1471.32 1319.48 1471.32 Q1314.76 1471.32 1312.26 1467.6 Q1309.78 1463.86 1309.78 1456.76 Q1309.78 1449.66 1312.26 1445.93 Q1314.76 1442.19 1319.48 1442.19 Z\" fill=\"#000000\" fill-rule=\"evenodd\" fill-opacity=\"1\" /><path clip-path=\"url(#clip3000)\" d=\"M 0 0 M1596.61 1494.25 L1604.25 1494.25 L1604.25 1467.89 L1595.94 1469.55 L1595.94 1465.29 L1604.21 1463.63 L1608.88 1463.63 L1608.88 1494.25 L1616.52 1494.25 L1616.52 1498.19 L1596.61 1498.19 L1596.61 1494.25 Z\" fill=\"#000000\" fill-rule=\"evenodd\" fill-opacity=\"1\" /><path clip-path=\"url(#clip3000)\" d=\"M 0 0 M1631.59 1466.71 Q1627.98 1466.71 1626.15 1470.27 Q1624.34 1473.81 1624.34 1480.94 Q1624.34 1488.05 1626.15 1491.61 Q1627.98 1495.15 1631.59 1495.15 Q1635.22 1495.15 1637.03 1491.61 Q1638.86 1488.05 1638.86 1480.94 Q1638.86 1473.81 1637.03 1470.27 Q1635.22 1466.71 1631.59 1466.71 M1631.59 1463 Q1637.4 1463 1640.46 1467.61 Q1643.53 1472.19 1643.53 1480.94 Q1643.53 1489.67 1640.46 1494.28 Q1637.4 1498.86 1631.59 1498.86 Q1625.78 1498.86 1622.7 1494.28 Q1619.65 1489.67 1619.65 1480.94 Q1619.65 1472.19 1622.7 1467.61 Q1625.78 1463 1631.59 1463 Z\" fill=\"#000000\" fill-rule=\"evenodd\" fill-opacity=\"1\" /><path clip-path=\"url(#clip3000)\" d=\"M 0 0 M1644.08 1467.58 L1650.29 1467.58 L1650.29 1446.16 L1643.53 1447.51 L1643.53 1444.05 L1650.25 1442.7 L1654.05 1442.7 L1654.05 1467.58 L1660.25 1467.58 L1660.25 1470.78 L1644.08 1470.78 L1644.08 1467.58 Z\" fill=\"#000000\" fill-rule=\"evenodd\" fill-opacity=\"1\" /><path clip-path=\"url(#clip3000)\" d=\"M 0 0 M1928.47 1494.25 L1936.11 1494.25 L1936.11 1467.89 L1927.8 1469.55 L1927.8 1465.29 L1936.06 1463.63 L1940.74 1463.63 L1940.74 1494.25 L1948.38 1494.25 L1948.38 1498.19 L1928.47 1498.19 L1928.47 1494.25 Z\" fill=\"#000000\" fill-rule=\"evenodd\" fill-opacity=\"1\" /><path clip-path=\"url(#clip3000)\" d=\"M 0 0 M1963.45 1466.71 Q1959.84 1466.71 1958.01 1470.27 Q1956.2 1473.81 1956.2 1480.94 Q1956.2 1488.05 1958.01 1491.61 Q1959.84 1495.15 1963.45 1495.15 Q1967.08 1495.15 1968.89 1491.61 Q1970.72 1488.05 1970.72 1480.94 Q1970.72 1473.81 1968.89 1470.27 Q1967.08 1466.71 1963.45 1466.71 M1963.45 1463 Q1969.26 1463 1972.31 1467.61 Q1975.39 1472.19 1975.39 1480.94 Q1975.39 1489.67 1972.31 1494.28 Q1969.26 1498.86 1963.45 1498.86 Q1957.64 1498.86 1954.56 1494.28 Q1951.5 1489.67 1951.5 1480.94 Q1951.5 1472.19 1954.56 1467.61 Q1957.64 1463 1963.45 1463 Z\" fill=\"#000000\" fill-rule=\"evenodd\" fill-opacity=\"1\" /><path clip-path=\"url(#clip3000)\" d=\"M 0 0 M1979.96 1467.58 L1993.22 1467.58 L1993.22 1470.78 L1975.39 1470.78 L1975.39 1467.58 Q1977.55 1465.34 1981.28 1461.58 Q1985.02 1457.8 1985.98 1456.71 Q1987.8 1454.66 1988.52 1453.25 Q1989.25 1451.82 1989.25 1450.45 Q1989.25 1448.21 1987.67 1446.8 Q1986.11 1445.39 1983.59 1445.39 Q1981.8 1445.39 1979.81 1446.01 Q1977.84 1446.63 1975.58 1447.89 L1975.58 1444.05 Q1977.87 1443.13 1979.87 1442.66 Q1981.86 1442.19 1983.52 1442.19 Q1987.88 1442.19 1990.47 1444.37 Q1993.07 1446.55 1993.07 1450.2 Q1993.07 1451.93 1992.41 1453.49 Q1991.77 1455.03 1990.06 1457.14 Q1989.59 1457.69 1987.07 1460.3 Q1984.55 1462.9 1979.96 1467.58 Z\" fill=\"#000000\" fill-rule=\"evenodd\" fill-opacity=\"1\" /><path clip-path=\"url(#clip3000)\" d=\"M 0 0 M2260.55 1494.25 L2268.19 1494.25 L2268.19 1467.89 L2259.88 1469.55 L2259.88 1465.29 L2268.15 1463.63 L2272.82 1463.63 L2272.82 1494.25 L2280.46 1494.25 L2280.46 1498.19 L2260.55 1498.19 L2260.55 1494.25 Z\" fill=\"#000000\" fill-rule=\"evenodd\" fill-opacity=\"1\" /><path clip-path=\"url(#clip3000)\" d=\"M 0 0 M2295.53 1466.71 Q2291.92 1466.71 2290.09 1470.27 Q2288.28 1473.81 2288.28 1480.94 Q2288.28 1488.05 2290.09 1491.61 Q2291.92 1495.15 2295.53 1495.15 Q2299.16 1495.15 2300.97 1491.61 Q2302.8 1488.05 2302.8 1480.94 Q2302.8 1473.81 2300.97 1470.27 Q2299.16 1466.71 2295.53 1466.71 M2295.53 1463 Q2301.34 1463 2304.4 1467.61 Q2307.47 1472.19 2307.47 1480.94 Q2307.47 1489.67 2304.4 1494.28 Q2301.34 1498.86 2295.53 1498.86 Q2289.72 1498.86 2286.64 1494.28 Q2283.59 1489.67 2283.59 1480.94 Q2283.59 1472.19 2286.64 1467.61 Q2289.72 1463 2295.53 1463 Z\" fill=\"#000000\" fill-rule=\"evenodd\" fill-opacity=\"1\" /><path clip-path=\"url(#clip3000)\" d=\"M 0 0 M2320.17 1455.64 Q2322.9 1456.22 2324.42 1458.06 Q2325.96 1459.91 2325.96 1462.61 Q2325.96 1466.77 2323.1 1469.05 Q2320.24 1471.32 2314.98 1471.32 Q2313.21 1471.32 2311.33 1470.96 Q2309.47 1470.63 2307.47 1469.93 L2307.47 1466.26 Q2309.05 1467.18 2310.93 1467.65 Q2312.82 1468.12 2314.87 1468.12 Q2318.44 1468.12 2320.3 1466.71 Q2322.18 1465.3 2322.18 1462.61 Q2322.18 1460.13 2320.43 1458.74 Q2318.7 1457.33 2315.6 1457.33 L2312.33 1457.33 L2312.33 1454.21 L2315.75 1454.21 Q2318.55 1454.21 2320.04 1453.1 Q2321.52 1451.97 2321.52 1449.86 Q2321.52 1447.7 2319.98 1446.55 Q2318.46 1445.39 2315.6 1445.39 Q2314.04 1445.39 2312.25 1445.72 Q2310.46 1446.06 2308.32 1446.78 L2308.32 1443.39 Q2310.48 1442.79 2312.36 1442.49 Q2314.26 1442.19 2315.94 1442.19 Q2320.26 1442.19 2322.78 1444.16 Q2325.3 1446.12 2325.3 1449.47 Q2325.3 1451.8 2323.97 1453.42 Q2322.63 1455.02 2320.17 1455.64 Z\" fill=\"#000000\" fill-rule=\"evenodd\" fill-opacity=\"1\" /><path clip-path=\"url(#clip3000)\" d=\"M 0 0 M140.288 1214.35 Q136.677 1214.35 134.848 1217.91 Q133.043 1221.45 133.043 1228.58 Q133.043 1235.69 134.848 1239.25 Q136.677 1242.79 140.288 1242.79 Q143.922 1242.79 145.728 1239.25 Q147.556 1235.69 147.556 1228.58 Q147.556 1221.45 145.728 1217.91 Q143.922 1214.35 140.288 1214.35 M140.288 1210.64 Q146.098 1210.64 149.154 1215.25 Q152.232 1219.83 152.232 1228.58 Q152.232 1237.31 149.154 1241.91 Q146.098 1246.5 140.288 1246.5 Q134.478 1246.5 131.399 1241.91 Q128.343 1237.31 128.343 1228.58 Q128.343 1219.83 131.399 1215.25 Q134.478 1210.64 140.288 1210.64 Z\" fill=\"#000000\" fill-rule=\"evenodd\" fill-opacity=\"1\" /><path clip-path=\"url(#clip3000)\" d=\"M 0 0 M157.302 1239.95 L162.186 1239.95 L162.186 1245.83 L157.302 1245.83 L157.302 1239.95 Z\" fill=\"#000000\" fill-rule=\"evenodd\" fill-opacity=\"1\" /><path clip-path=\"url(#clip3000)\" d=\"M 0 0 M177.255 1214.35 Q173.644 1214.35 171.815 1217.91 Q170.01 1221.45 170.01 1228.58 Q170.01 1235.69 171.815 1239.25 Q173.644 1242.79 177.255 1242.79 Q180.889 1242.79 182.695 1239.25 Q184.524 1235.69 184.524 1228.58 Q184.524 1221.45 182.695 1217.91 Q180.889 1214.35 177.255 1214.35 M177.255 1210.64 Q183.065 1210.64 186.121 1215.25 Q189.2 1219.83 189.2 1228.58 Q189.2 1237.31 186.121 1241.91 Q183.065 1246.5 177.255 1246.5 Q171.445 1246.5 168.366 1241.91 Q165.311 1237.31 165.311 1228.58 Q165.311 1219.83 168.366 1215.25 Q171.445 1210.64 177.255 1210.64 Z\" fill=\"#000000\" fill-rule=\"evenodd\" fill-opacity=\"1\" /><path clip-path=\"url(#clip3000)\" d=\"M 0 0 M198.297 1241.89 L214.616 1241.89 L214.616 1245.83 L192.672 1245.83 L192.672 1241.89 Q195.334 1239.14 199.917 1234.51 Q204.524 1229.85 205.704 1228.51 Q207.95 1225.99 208.829 1224.25 Q209.732 1222.49 209.732 1220.8 Q209.732 1218.05 207.787 1216.31 Q205.866 1214.58 202.764 1214.58 Q200.565 1214.58 198.112 1215.34 Q195.681 1216.1 192.903 1217.66 L192.903 1212.93 Q195.727 1211.8 198.181 1211.22 Q200.635 1210.64 202.672 1210.64 Q208.042 1210.64 211.237 1213.33 Q214.431 1216.01 214.431 1220.5 Q214.431 1222.63 213.621 1224.55 Q212.834 1226.45 210.727 1229.04 Q210.149 1229.72 207.047 1232.93 Q203.945 1236.13 198.297 1241.89 Z\" fill=\"#000000\" fill-rule=\"evenodd\" fill-opacity=\"1\" /><path clip-path=\"url(#clip3000)\" d=\"M 0 0 M139.339 1001.68 Q135.728 1001.68 133.899 1005.24 Q132.093 1008.79 132.093 1015.91 Q132.093 1023.02 133.899 1026.59 Q135.728 1030.13 139.339 1030.13 Q142.973 1030.13 144.779 1026.59 Q146.607 1023.02 146.607 1015.91 Q146.607 1008.79 144.779 1005.24 Q142.973 1001.68 139.339 1001.68 M139.339 997.975 Q145.149 997.975 148.204 1002.58 Q151.283 1007.16 151.283 1015.91 Q151.283 1024.64 148.204 1029.25 Q145.149 1033.83 139.339 1033.83 Q133.529 1033.83 130.45 1029.25 Q127.394 1024.64 127.394 1015.91 Q127.394 1007.16 130.45 1002.58 Q133.529 997.975 139.339 997.975 Z\" fill=\"#000000\" fill-rule=\"evenodd\" fill-opacity=\"1\" /><path clip-path=\"url(#clip3000)\" d=\"M 0 0 M156.353 1027.28 L161.237 1027.28 L161.237 1033.16 L156.353 1033.16 L156.353 1027.28 Z\" fill=\"#000000\" fill-rule=\"evenodd\" fill-opacity=\"1\" /><path clip-path=\"url(#clip3000)\" d=\"M 0 0 M176.306 1001.68 Q172.695 1001.68 170.866 1005.24 Q169.061 1008.79 169.061 1015.91 Q169.061 1023.02 170.866 1026.59 Q172.695 1030.13 176.306 1030.13 Q179.94 1030.13 181.746 1026.59 Q183.575 1023.02 183.575 1015.91 Q183.575 1008.79 181.746 1005.24 Q179.94 1001.68 176.306 1001.68 M176.306 997.975 Q182.116 997.975 185.172 1002.58 Q188.251 1007.16 188.251 1015.91 Q188.251 1024.64 185.172 1029.25 Q182.116 1033.83 176.306 1033.83 Q170.496 1033.83 167.417 1029.25 Q164.362 1024.64 164.362 1015.91 Q164.362 1007.16 167.417 1002.58 Q170.496 997.975 176.306 997.975 Z\" fill=\"#000000\" fill-rule=\"evenodd\" fill-opacity=\"1\" /><path clip-path=\"url(#clip3000)\" d=\"M 0 0 M207.487 1014.53 Q210.843 1015.24 212.718 1017.51 Q214.616 1019.78 214.616 1023.11 Q214.616 1028.23 211.098 1031.03 Q207.579 1033.83 201.098 1033.83 Q198.922 1033.83 196.607 1033.39 Q194.315 1032.97 191.862 1032.12 L191.862 1027.6 Q193.806 1028.74 196.121 1029.32 Q198.436 1029.9 200.959 1029.9 Q205.357 1029.9 207.649 1028.16 Q209.963 1026.42 209.963 1023.11 Q209.963 1020.06 207.811 1018.35 Q205.681 1016.61 201.862 1016.61 L197.834 1016.61 L197.834 1012.77 L202.047 1012.77 Q205.496 1012.77 207.325 1011.4 Q209.153 1010.01 209.153 1007.42 Q209.153 1004.76 207.255 1003.35 Q205.38 1001.91 201.862 1001.91 Q199.94 1001.91 197.741 1002.33 Q195.542 1002.74 192.903 1003.62 L192.903 999.456 Q195.565 998.716 197.88 998.345 Q200.218 997.975 202.278 997.975 Q207.602 997.975 210.704 1000.41 Q213.806 1002.81 213.806 1006.93 Q213.806 1009.8 212.162 1011.79 Q210.519 1013.76 207.487 1014.53 Z\" fill=\"#000000\" fill-rule=\"evenodd\" fill-opacity=\"1\" /><path clip-path=\"url(#clip3000)\" d=\"M 0 0 M138.205 789.012 Q134.593 789.012 132.765 792.577 Q130.959 796.118 130.959 803.248 Q130.959 810.354 132.765 813.919 Q134.593 817.461 138.205 817.461 Q141.839 817.461 143.644 813.919 Q145.473 810.354 145.473 803.248 Q145.473 796.118 143.644 792.577 Q141.839 789.012 138.205 789.012 M138.205 785.308 Q144.015 785.308 147.07 789.915 Q150.149 794.498 150.149 803.248 Q150.149 811.975 147.07 816.581 Q144.015 821.164 138.205 821.164 Q132.394 821.164 129.316 816.581 Q126.26 811.975 126.26 803.248 Q126.26 794.498 129.316 789.915 Q132.394 785.308 138.205 785.308 Z\" fill=\"#000000\" fill-rule=\"evenodd\" fill-opacity=\"1\" /><path clip-path=\"url(#clip3000)\" d=\"M 0 0 M155.218 814.614 L160.103 814.614 L160.103 820.493 L155.218 820.493 L155.218 814.614 Z\" fill=\"#000000\" fill-rule=\"evenodd\" fill-opacity=\"1\" /><path clip-path=\"url(#clip3000)\" d=\"M 0 0 M175.172 789.012 Q171.561 789.012 169.732 792.577 Q167.927 796.118 167.927 803.248 Q167.927 810.354 169.732 813.919 Q171.561 817.461 175.172 817.461 Q178.806 817.461 180.612 813.919 Q182.44 810.354 182.44 803.248 Q182.44 796.118 180.612 792.577 Q178.806 789.012 175.172 789.012 M175.172 785.308 Q180.982 785.308 184.038 789.915 Q187.116 794.498 187.116 803.248 Q187.116 811.975 184.038 816.581 Q180.982 821.164 175.172 821.164 Q169.362 821.164 166.283 816.581 Q163.228 811.975 163.228 803.248 Q163.228 794.498 166.283 789.915 Q169.362 785.308 175.172 785.308 Z\" fill=\"#000000\" fill-rule=\"evenodd\" fill-opacity=\"1\" /><path clip-path=\"url(#clip3000)\" d=\"M 0 0 M205.033 790.007 L193.227 808.456 L205.033 808.456 L205.033 790.007 M203.806 785.933 L209.686 785.933 L209.686 808.456 L214.616 808.456 L214.616 812.345 L209.686 812.345 L209.686 820.493 L205.033 820.493 L205.033 812.345 L189.431 812.345 L189.431 807.831 L203.806 785.933 Z\" fill=\"#000000\" fill-rule=\"evenodd\" fill-opacity=\"1\" /><path clip-path=\"url(#clip3000)\" d=\"M 0 0 M139.686 576.345 Q136.075 576.345 134.246 579.91 Q132.441 583.451 132.441 590.581 Q132.441 597.687 134.246 601.252 Q136.075 604.794 139.686 604.794 Q143.32 604.794 145.126 601.252 Q146.954 597.687 146.954 590.581 Q146.954 583.451 145.126 579.91 Q143.32 576.345 139.686 576.345 M139.686 572.641 Q145.496 572.641 148.552 577.248 Q151.63 581.831 151.63 590.581 Q151.63 599.308 148.552 603.914 Q145.496 608.498 139.686 608.498 Q133.876 608.498 130.797 603.914 Q127.742 599.308 127.742 590.581 Q127.742 581.831 130.797 577.248 Q133.876 572.641 139.686 572.641 Z\" fill=\"#000000\" fill-rule=\"evenodd\" fill-opacity=\"1\" /><path clip-path=\"url(#clip3000)\" d=\"M 0 0 M156.7 601.947 L161.584 601.947 L161.584 607.826 L156.7 607.826 L156.7 601.947 Z\" fill=\"#000000\" fill-rule=\"evenodd\" fill-opacity=\"1\" /><path clip-path=\"url(#clip3000)\" d=\"M 0 0 M176.653 576.345 Q173.042 576.345 171.214 579.91 Q169.408 583.451 169.408 590.581 Q169.408 597.687 171.214 601.252 Q173.042 604.794 176.653 604.794 Q180.288 604.794 182.093 601.252 Q183.922 597.687 183.922 590.581 Q183.922 583.451 182.093 579.91 Q180.288 576.345 176.653 576.345 M176.653 572.641 Q182.464 572.641 185.519 577.248 Q188.598 581.831 188.598 590.581 Q188.598 599.308 185.519 603.914 Q182.464 608.498 176.653 608.498 Q170.843 608.498 167.765 603.914 Q164.709 599.308 164.709 590.581 Q164.709 581.831 167.765 577.248 Q170.843 572.641 176.653 572.641 Z\" fill=\"#000000\" fill-rule=\"evenodd\" fill-opacity=\"1\" /><path clip-path=\"url(#clip3000)\" d=\"M 0 0 M193.713 573.266 L212.07 573.266 L212.07 577.201 L197.996 577.201 L197.996 585.674 Q199.014 585.326 200.033 585.164 Q201.051 584.979 202.07 584.979 Q207.857 584.979 211.237 588.15 Q214.616 591.322 214.616 596.738 Q214.616 602.317 211.144 605.419 Q207.672 608.498 201.352 608.498 Q199.176 608.498 196.908 608.127 Q194.663 607.757 192.255 607.016 L192.255 602.317 Q194.338 603.451 196.561 604.007 Q198.783 604.562 201.26 604.562 Q205.264 604.562 207.602 602.456 Q209.94 600.35 209.94 596.738 Q209.94 593.127 207.602 591.021 Q205.264 588.914 201.26 588.914 Q199.385 588.914 197.51 589.331 Q195.658 589.748 193.713 590.627 L193.713 573.266 Z\" fill=\"#000000\" fill-rule=\"evenodd\" fill-opacity=\"1\" /><path clip-path=\"url(#clip3000)\" d=\"M 0 0 M138.529 363.678 Q134.918 363.678 133.089 367.243 Q131.283 370.785 131.283 377.914 Q131.283 385.021 133.089 388.585 Q134.918 392.127 138.529 392.127 Q142.163 392.127 143.968 388.585 Q145.797 385.021 145.797 377.914 Q145.797 370.785 143.968 367.243 Q142.163 363.678 138.529 363.678 M138.529 359.974 Q144.339 359.974 147.394 364.581 Q150.473 369.164 150.473 377.914 Q150.473 386.641 147.394 391.247 Q144.339 395.831 138.529 395.831 Q132.718 395.831 129.64 391.247 Q126.584 386.641 126.584 377.914 Q126.584 369.164 129.64 364.581 Q132.718 359.974 138.529 359.974 Z\" fill=\"#000000\" fill-rule=\"evenodd\" fill-opacity=\"1\" /><path clip-path=\"url(#clip3000)\" d=\"M 0 0 M155.542 389.28 L160.427 389.28 L160.427 395.159 L155.542 395.159 L155.542 389.28 Z\" fill=\"#000000\" fill-rule=\"evenodd\" fill-opacity=\"1\" /><path clip-path=\"url(#clip3000)\" d=\"M 0 0 M175.496 363.678 Q171.885 363.678 170.056 367.243 Q168.251 370.785 168.251 377.914 Q168.251 385.021 170.056 388.585 Q171.885 392.127 175.496 392.127 Q179.13 392.127 180.936 388.585 Q182.764 385.021 182.764 377.914 Q182.764 370.785 180.936 367.243 Q179.13 363.678 175.496 363.678 M175.496 359.974 Q181.306 359.974 184.362 364.581 Q187.44 369.164 187.44 377.914 Q187.44 386.641 184.362 391.247 Q181.306 395.831 175.496 395.831 Q169.686 395.831 166.607 391.247 Q163.552 386.641 163.552 377.914 Q163.552 369.164 166.607 364.581 Q169.686 359.974 175.496 359.974 Z\" fill=\"#000000\" fill-rule=\"evenodd\" fill-opacity=\"1\" /><path clip-path=\"url(#clip3000)\" d=\"M 0 0 M203.088 376.016 Q199.94 376.016 198.088 378.169 Q196.26 380.322 196.26 384.072 Q196.26 387.798 198.088 389.974 Q199.94 392.127 203.088 392.127 Q206.237 392.127 208.065 389.974 Q209.917 387.798 209.917 384.072 Q209.917 380.322 208.065 378.169 Q206.237 376.016 203.088 376.016 M212.371 361.363 L212.371 365.623 Q210.612 364.789 208.806 364.349 Q207.024 363.91 205.264 363.91 Q200.635 363.91 198.181 367.035 Q195.751 370.16 195.403 376.479 Q196.769 374.465 198.829 373.4 Q200.889 372.312 203.366 372.312 Q208.575 372.312 211.584 375.484 Q214.616 378.632 214.616 384.072 Q214.616 389.396 211.468 392.613 Q208.32 395.831 203.088 395.831 Q197.093 395.831 193.922 391.247 Q190.751 386.641 190.751 377.914 Q190.751 369.72 194.639 364.859 Q198.528 359.974 205.079 359.974 Q206.838 359.974 208.621 360.322 Q210.426 360.669 212.371 361.363 Z\" fill=\"#000000\" fill-rule=\"evenodd\" fill-opacity=\"1\" /><path clip-path=\"url(#clip3000)\" d=\"M 0 0 M139.593 151.011 Q135.982 151.011 134.154 154.576 Q132.348 158.118 132.348 165.247 Q132.348 172.354 134.154 175.919 Q135.982 179.46 139.593 179.46 Q143.228 179.46 145.033 175.919 Q146.862 172.354 146.862 165.247 Q146.862 158.118 145.033 154.576 Q143.228 151.011 139.593 151.011 M139.593 147.308 Q145.404 147.308 148.459 151.914 Q151.538 156.497 151.538 165.247 Q151.538 173.974 148.459 178.581 Q145.404 183.164 139.593 183.164 Q133.783 183.164 130.705 178.581 Q127.649 173.974 127.649 165.247 Q127.649 156.497 130.705 151.914 Q133.783 147.308 139.593 147.308 Z\" fill=\"#000000\" fill-rule=\"evenodd\" fill-opacity=\"1\" /><path clip-path=\"url(#clip3000)\" d=\"M 0 0 M156.607 176.613 L161.491 176.613 L161.491 182.493 L156.607 182.493 L156.607 176.613 Z\" fill=\"#000000\" fill-rule=\"evenodd\" fill-opacity=\"1\" /><path clip-path=\"url(#clip3000)\" d=\"M 0 0 M176.561 151.011 Q172.95 151.011 171.121 154.576 Q169.315 158.118 169.315 165.247 Q169.315 172.354 171.121 175.919 Q172.95 179.46 176.561 179.46 Q180.195 179.46 182.001 175.919 Q183.829 172.354 183.829 165.247 Q183.829 158.118 182.001 154.576 Q180.195 151.011 176.561 151.011 M176.561 147.308 Q182.371 147.308 185.427 151.914 Q188.505 156.497 188.505 165.247 Q188.505 173.974 185.427 178.581 Q182.371 183.164 176.561 183.164 Q170.751 183.164 167.672 178.581 Q164.616 173.974 164.616 165.247 Q164.616 156.497 167.672 151.914 Q170.751 147.308 176.561 147.308 Z\" fill=\"#000000\" fill-rule=\"evenodd\" fill-opacity=\"1\" /><path clip-path=\"url(#clip3000)\" d=\"M 0 0 M192.394 147.933 L214.616 147.933 L214.616 149.923 L202.07 182.493 L197.186 182.493 L208.991 151.868 L192.394 151.868 L192.394 147.933 Z\" fill=\"#000000\" fill-rule=\"evenodd\" fill-opacity=\"1\" /><path clip-path=\"url(#clip3000)\" d=\"M 0 0 M1181.26 1508.52 L1187.69 1508.52 L1187.69 1550.63 L1210.83 1550.63 L1210.83 1556.04 L1181.26 1556.04 L1181.26 1508.52 Z\" fill=\"#000000\" fill-rule=\"evenodd\" fill-opacity=\"1\" /><path clip-path=\"url(#clip3000)\" d=\"M 0 0 M1233.17 1538.12 Q1226.08 1538.12 1223.34 1539.75 Q1220.6 1541.37 1220.6 1545.29 Q1220.6 1548.4 1222.64 1550.25 Q1224.71 1552.07 1228.24 1552.07 Q1233.11 1552.07 1236.04 1548.63 Q1239 1545.16 1239 1539.43 L1239 1538.12 L1233.17 1538.12 M1244.86 1535.71 L1244.86 1556.04 L1239 1556.04 L1239 1550.63 Q1236.99 1553.88 1234 1555.44 Q1231.01 1556.97 1226.68 1556.97 Q1221.21 1556.97 1217.96 1553.91 Q1214.75 1550.82 1214.75 1545.67 Q1214.75 1539.65 1218.76 1536.6 Q1222.8 1533.54 1230.79 1533.54 L1239 1533.54 L1239 1532.97 Q1239 1528.93 1236.33 1526.73 Q1233.68 1524.5 1228.88 1524.5 Q1225.82 1524.5 1222.93 1525.23 Q1220.03 1525.97 1217.36 1527.43 L1217.36 1522.02 Q1220.57 1520.78 1223.59 1520.17 Q1226.62 1519.54 1229.48 1519.54 Q1237.22 1519.54 1241.04 1523.55 Q1244.86 1527.56 1244.86 1535.71 Z\" fill=\"#000000\" fill-rule=\"evenodd\" fill-opacity=\"1\" /><path clip-path=\"url(#clip3000)\" d=\"M 0 0 M1278.75 1527.24 Q1280.95 1523.29 1284 1521.41 Q1287.06 1519.54 1291.2 1519.54 Q1296.77 1519.54 1299.79 1523.45 Q1302.82 1527.33 1302.82 1534.53 L1302.82 1556.04 L1296.93 1556.04 L1296.93 1534.72 Q1296.93 1529.59 1295.11 1527.11 Q1293.3 1524.63 1289.57 1524.63 Q1285.02 1524.63 1282.38 1527.65 Q1279.74 1530.68 1279.74 1535.9 L1279.74 1556.04 L1273.85 1556.04 L1273.85 1534.72 Q1273.85 1529.56 1272.04 1527.11 Q1270.22 1524.63 1266.44 1524.63 Q1261.95 1524.63 1259.31 1527.68 Q1256.66 1530.71 1256.66 1535.9 L1256.66 1556.04 L1250.78 1556.04 L1250.78 1520.4 L1256.66 1520.4 L1256.66 1525.93 Q1258.67 1522.66 1261.47 1521.1 Q1264.27 1519.54 1268.12 1519.54 Q1272.01 1519.54 1274.71 1521.51 Q1277.45 1523.48 1278.75 1527.24 Z\" fill=\"#000000\" fill-rule=\"evenodd\" fill-opacity=\"1\" /><path clip-path=\"url(#clip3000)\" d=\"M 0 0 M1334.55 1538.25 Q1334.55 1531.79 1331.88 1528.13 Q1329.23 1524.44 1324.59 1524.44 Q1319.94 1524.44 1317.27 1528.13 Q1314.62 1531.79 1314.62 1538.25 Q1314.62 1544.71 1317.27 1548.4 Q1319.94 1552.07 1324.59 1552.07 Q1329.23 1552.07 1331.88 1548.4 Q1334.55 1544.71 1334.55 1538.25 M1314.62 1525.81 Q1316.47 1522.62 1319.27 1521.1 Q1322.1 1519.54 1326.02 1519.54 Q1332.51 1519.54 1336.55 1524.69 Q1340.63 1529.85 1340.63 1538.25 Q1340.63 1546.65 1336.55 1551.81 Q1332.51 1556.97 1326.02 1556.97 Q1322.1 1556.97 1319.27 1555.44 Q1316.47 1553.88 1314.62 1550.7 L1314.62 1556.04 L1308.74 1556.04 L1308.74 1506.52 L1314.62 1506.52 L1314.62 1525.81 Z\" fill=\"#000000\" fill-rule=\"evenodd\" fill-opacity=\"1\" /><path clip-path=\"url(#clip3000)\" d=\"M 0 0 M1370.23 1525.81 L1370.23 1506.52 L1376.08 1506.52 L1376.08 1556.04 L1370.23 1556.04 L1370.23 1550.7 Q1368.38 1553.88 1365.55 1555.44 Q1362.75 1556.97 1358.8 1556.97 Q1352.34 1556.97 1348.27 1551.81 Q1344.22 1546.65 1344.22 1538.25 Q1344.22 1529.85 1348.27 1524.69 Q1352.34 1519.54 1358.8 1519.54 Q1362.75 1519.54 1365.55 1521.1 Q1368.38 1522.62 1370.23 1525.81 M1350.27 1538.25 Q1350.27 1544.71 1352.91 1548.4 Q1355.59 1552.07 1360.23 1552.07 Q1364.88 1552.07 1367.55 1548.4 Q1370.23 1544.71 1370.23 1538.25 Q1370.23 1531.79 1367.55 1528.13 Q1364.88 1524.44 1360.23 1524.44 Q1355.59 1524.44 1352.91 1528.13 Q1350.27 1531.79 1350.27 1538.25 Z\" fill=\"#000000\" fill-rule=\"evenodd\" fill-opacity=\"1\" /><path clip-path=\"url(#clip3000)\" d=\"M 0 0 M1398.43 1538.12 Q1391.33 1538.12 1388.59 1539.75 Q1385.86 1541.37 1385.86 1545.29 Q1385.86 1548.4 1387.89 1550.25 Q1389.96 1552.07 1393.5 1552.07 Q1398.36 1552.07 1401.29 1548.63 Q1404.25 1545.16 1404.25 1539.43 L1404.25 1538.12 L1398.43 1538.12 M1410.11 1535.71 L1410.11 1556.04 L1404.25 1556.04 L1404.25 1550.63 Q1402.25 1553.88 1399.26 1555.44 Q1396.26 1556.97 1391.94 1556.97 Q1386.46 1556.97 1383.21 1553.91 Q1380 1550.82 1380 1545.67 Q1380 1539.65 1384.01 1536.6 Q1388.05 1533.54 1396.04 1533.54 L1404.25 1533.54 L1404.25 1532.97 Q1404.25 1528.93 1401.58 1526.73 Q1398.94 1524.5 1394.13 1524.5 Q1391.08 1524.5 1388.18 1525.23 Q1385.28 1525.97 1382.61 1527.43 L1382.61 1522.02 Q1385.82 1520.78 1388.85 1520.17 Q1391.87 1519.54 1394.74 1519.54 Q1402.47 1519.54 1406.29 1523.55 Q1410.11 1527.56 1410.11 1535.71 Z\" fill=\"#000000\" fill-rule=\"evenodd\" fill-opacity=\"1\" /><path clip-path=\"url(#clip3000)\" d=\"M 0 0 M40.4842 1068.17 L40.4842 1058.59 L72.8219 1046.46 L40.4842 1034.27 L40.4842 1024.69 L88.0042 1024.69 L88.0042 1030.96 L46.277 1030.96 L78.8694 1043.22 L78.8694 1049.68 L46.277 1061.93 L88.0042 1061.93 L88.0042 1068.17 L40.4842 1068.17 Z\" fill=\"#000000\" fill-rule=\"evenodd\" fill-opacity=\"1\" /><path clip-path=\"url(#clip3000)\" d=\"M 0 0 M70.0847 1002.35 Q70.0847 1009.45 71.7079 1012.18 Q73.3312 1014.92 77.2461 1014.92 Q80.3653 1014.92 82.2114 1012.88 Q84.0256 1010.82 84.0256 1007.28 Q84.0256 1002.41 80.5881 999.484 Q77.1188 996.524 71.3897 996.524 L70.0847 996.524 L70.0847 1002.35 M67.6657 990.668 L88.0042 990.668 L88.0042 996.524 L82.5933 996.524 Q85.8398 998.529 87.3994 1001.52 Q88.9272 1004.51 88.9272 1008.84 Q88.9272 1014.32 85.8716 1017.56 Q82.7843 1020.78 77.6281 1020.78 Q71.6125 1020.78 68.5569 1016.77 Q65.5014 1012.72 65.5014 1004.74 L65.5014 996.524 L64.9285 996.524 Q60.8862 996.524 58.6901 999.198 Q56.4621 1001.84 56.4621 1006.65 Q56.4621 1009.7 57.1941 1012.6 Q57.9262 1015.49 59.3903 1018.17 L53.9795 1018.17 Q52.7381 1014.95 52.1334 1011.93 Q51.4968 1008.91 51.4968 1006.04 Q51.4968 998.307 55.5072 994.487 Q59.5176 990.668 67.6657 990.668 Z\" fill=\"#000000\" fill-rule=\"evenodd\" fill-opacity=\"1\" /><path clip-path=\"url(#clip3000)\" d=\"M 0 0 M52.3562 954.893 L69.7028 967.783 L88.0042 954.224 L88.0042 961.131 L73.9996 971.507 L88.0042 981.883 L88.0042 988.79 L69.3526 974.944 L52.3562 987.612 L52.3562 980.705 L65.0558 971.252 L52.3562 961.799 L52.3562 954.893 Z\" fill=\"#000000\" fill-rule=\"evenodd\" fill-opacity=\"1\" /><path clip-path=\"url(#clip3000)\" d=\"M 0 0 M52.3562 948.081 L52.3562 942.225 L88.0042 942.225 L88.0042 948.081 L52.3562 948.081 M38.479 948.081 L38.479 942.225 L45.895 942.225 L45.895 948.081 L38.479 948.081 Z\" fill=\"#000000\" fill-rule=\"evenodd\" fill-opacity=\"1\" /><path clip-path=\"url(#clip3000)\" d=\"M 0 0 M59.1993 908.327 Q55.2526 906.131 53.3747 903.076 Q51.4968 900.02 51.4968 895.882 Q51.4968 890.312 55.4117 887.289 Q59.2948 884.265 66.4881 884.265 L88.0042 884.265 L88.0042 890.153 L66.679 890.153 Q61.5546 890.153 59.072 891.967 Q56.5894 893.782 56.5894 897.506 Q56.5894 902.057 59.6131 904.699 Q62.6368 907.341 67.8567 907.341 L88.0042 907.341 L88.0042 913.229 L66.679 913.229 Q61.5228 913.229 59.072 915.043 Q56.5894 916.857 56.5894 920.645 Q56.5894 925.133 59.6449 927.775 Q62.6686 930.416 67.8567 930.416 L88.0042 930.416 L88.0042 936.305 L52.3562 936.305 L52.3562 930.416 L57.8944 930.416 Q54.616 928.411 53.0564 925.61 Q51.4968 922.809 51.4968 918.958 Q51.4968 915.075 53.4702 912.37 Q55.4436 909.632 59.1993 908.327 Z\" fill=\"#000000\" fill-rule=\"evenodd\" fill-opacity=\"1\" /><path clip-path=\"url(#clip3000)\" d=\"M 0 0 M73.9359 878.727 L52.3562 878.727 L52.3562 872.87 L73.7131 872.87 Q78.7739 872.87 81.3202 870.897 Q83.8346 868.924 83.8346 864.977 Q83.8346 860.234 80.8109 857.497 Q77.7872 854.728 72.5673 854.728 L52.3562 854.728 L52.3562 848.872 L88.0042 848.872 L88.0042 854.728 L82.5296 854.728 Q85.7762 856.861 87.3676 859.693 Q88.9272 862.494 88.9272 866.218 Q88.9272 872.361 85.1078 875.544 Q81.2883 878.727 73.9359 878.727 M51.4968 863.99 L51.4968 863.99 Z\" fill=\"#000000\" fill-rule=\"evenodd\" fill-opacity=\"1\" /><path clip-path=\"url(#clip3000)\" d=\"M 0 0 M59.1993 814.974 Q55.2526 812.778 53.3747 809.723 Q51.4968 806.667 51.4968 802.529 Q51.4968 796.959 55.4117 793.936 Q59.2948 790.912 66.4881 790.912 L88.0042 790.912 L88.0042 796.8 L66.679 796.8 Q61.5546 796.8 59.072 798.614 Q56.5894 800.429 56.5894 804.153 Q56.5894 808.704 59.6131 811.346 Q62.6368 813.988 67.8567 813.988 L88.0042 813.988 L88.0042 819.876 L66.679 819.876 Q61.5228 819.876 59.072 821.69 Q56.5894 823.504 56.5894 827.292 Q56.5894 831.78 59.6449 834.422 Q62.6686 837.063 67.8567 837.063 L88.0042 837.063 L88.0042 842.952 L52.3562 842.952 L52.3562 837.063 L57.8944 837.063 Q54.616 835.058 53.0564 832.257 Q51.4968 829.456 51.4968 825.605 Q51.4968 821.722 53.4702 819.016 Q55.4436 816.279 59.1993 814.974 Z\" fill=\"#000000\" fill-rule=\"evenodd\" fill-opacity=\"1\" /><path clip-path=\"url(#clip3000)\" d=\"M 0 0 M59.1993 736.294 Q55.2526 734.098 53.3747 731.042 Q51.4968 727.987 51.4968 723.849 Q51.4968 718.279 55.4117 715.255 Q59.2948 712.232 66.4881 712.232 L88.0042 712.232 L88.0042 718.12 L66.679 718.12 Q61.5546 718.12 59.072 719.934 Q56.5894 721.748 56.5894 725.472 Q56.5894 730.024 59.6131 732.666 Q62.6368 735.307 67.8567 735.307 L88.0042 735.307 L88.0042 741.196 L66.679 741.196 Q61.5228 741.196 59.072 743.01 Q56.5894 744.824 56.5894 748.612 Q56.5894 753.1 59.6449 755.741 Q62.6686 758.383 67.8567 758.383 L88.0042 758.383 L88.0042 764.271 L52.3562 764.271 L52.3562 758.383 L57.8944 758.383 Q54.616 756.378 53.0564 753.577 Q51.4968 750.776 51.4968 746.925 Q51.4968 743.042 53.4702 740.336 Q55.4436 737.599 59.1993 736.294 Z\" fill=\"#000000\" fill-rule=\"evenodd\" fill-opacity=\"1\" /><path clip-path=\"url(#clip3000)\" d=\"M 0 0 M68.7161 675.597 L71.5806 675.597 L71.5806 702.524 Q77.6281 702.142 80.8109 698.896 Q83.9619 695.617 83.9619 689.793 Q83.9619 686.419 83.1344 683.268 Q82.3069 680.085 80.6518 676.966 L86.1899 676.966 Q87.5267 680.117 88.227 683.427 Q88.9272 686.737 88.9272 690.143 Q88.9272 698.673 83.9619 703.67 Q78.9967 708.635 70.5303 708.635 Q61.7774 708.635 56.6531 703.925 Q51.4968 699.182 51.4968 691.161 Q51.4968 683.968 56.1438 679.798 Q60.7589 675.597 68.7161 675.597 M66.9973 681.454 Q62.1912 681.517 59.3266 684.159 Q56.4621 686.769 56.4621 691.098 Q56.4621 695.999 59.2312 698.959 Q62.0002 701.887 67.0292 702.333 L66.9973 681.454 Z\" fill=\"#000000\" fill-rule=\"evenodd\" fill-opacity=\"1\" /><path clip-path=\"url(#clip3000)\" d=\"M 0 0 M70.0847 653.253 Q70.0847 660.351 71.7079 663.089 Q73.3312 665.826 77.2461 665.826 Q80.3653 665.826 82.2114 663.789 Q84.0256 661.72 84.0256 658.187 Q84.0256 653.317 80.5881 650.389 Q77.1188 647.429 71.3897 647.429 L70.0847 647.429 L70.0847 653.253 M67.6657 641.572 L88.0042 641.572 L88.0042 647.429 L82.5933 647.429 Q85.8398 649.434 87.3994 652.426 Q88.9272 655.418 88.9272 659.747 Q88.9272 665.221 85.8716 668.468 Q82.7843 671.682 77.6281 671.682 Q71.6125 671.682 68.5569 667.672 Q65.5014 663.63 65.5014 655.641 L65.5014 647.429 L64.9285 647.429 Q60.8862 647.429 58.6901 650.102 Q56.4621 652.744 56.4621 657.55 Q56.4621 660.606 57.1941 663.502 Q57.9262 666.399 59.3903 669.072 L53.9795 669.072 Q52.7381 665.858 52.1334 662.834 Q51.4968 659.81 51.4968 656.946 Q51.4968 649.211 55.5072 645.392 Q59.5176 641.572 67.6657 641.572 Z\" fill=\"#000000\" fill-rule=\"evenodd\" fill-opacity=\"1\" /><path clip-path=\"url(#clip3000)\" d=\"M 0 0 M66.4881 605.797 L88.0042 605.797 L88.0042 611.654 L66.679 611.654 Q61.6183 611.654 59.1038 613.627 Q56.5894 615.6 56.5894 619.547 Q56.5894 624.29 59.6131 627.027 Q62.6368 629.764 67.8567 629.764 L88.0042 629.764 L88.0042 635.652 L52.3562 635.652 L52.3562 629.764 L57.8944 629.764 Q54.6797 627.663 53.0883 624.831 Q51.4968 621.966 51.4968 618.242 Q51.4968 612.099 55.3163 608.948 Q59.1038 605.797 66.4881 605.797 Z\" fill=\"#000000\" fill-rule=\"evenodd\" fill-opacity=\"1\" /><path clip-path=\"url(#clip3000)\" d=\"M 0 0 M57.8307 558.277 Q57.2578 559.264 57.0032 560.441 Q56.7167 561.587 56.7167 562.988 Q56.7167 567.953 59.9632 570.627 Q63.1779 573.268 69.2253 573.268 L88.0042 573.268 L88.0042 579.157 L52.3562 579.157 L52.3562 573.268 L57.8944 573.268 Q54.6479 571.422 53.0883 568.462 Q51.4968 565.502 51.4968 561.269 Q51.4968 560.664 51.5923 559.932 Q51.656 559.2 51.8151 558.309 L57.8307 558.277 Z\" fill=\"#000000\" fill-rule=\"evenodd\" fill-opacity=\"1\" /><path clip-path=\"url(#clip3000)\" d=\"M 0 0 M68.7161 523.075 L71.5806 523.075 L71.5806 550.002 Q77.6281 549.62 80.8109 546.373 Q83.9619 543.095 83.9619 537.27 Q83.9619 533.896 83.1344 530.745 Q82.3069 527.563 80.6518 524.443 L86.1899 524.443 Q87.5267 527.594 88.227 530.905 Q88.9272 534.215 88.9272 537.62 Q88.9272 546.15 83.9619 551.148 Q78.9967 556.113 70.5303 556.113 Q61.7774 556.113 56.6531 551.402 Q51.4968 546.66 51.4968 538.639 Q51.4968 531.446 56.1438 527.276 Q60.7589 523.075 68.7161 523.075 M66.9973 528.931 Q62.1912 528.995 59.3266 531.637 Q56.4621 534.247 56.4621 538.575 Q56.4621 543.477 59.2312 546.437 Q62.0002 549.365 67.0292 549.811 L66.9973 528.931 Z\" fill=\"#000000\" fill-rule=\"evenodd\" fill-opacity=\"1\" /><path clip-path=\"url(#clip3000)\" d=\"M 0 0 M42.2347 511.139 L52.3562 511.139 L52.3562 499.076 L56.9077 499.076 L56.9077 511.139 L76.2594 511.139 Q80.6199 511.139 81.8613 509.961 Q83.1026 508.752 83.1026 505.092 L83.1026 499.076 L88.0042 499.076 L88.0042 505.092 Q88.0042 511.871 85.4897 514.449 Q82.9434 517.027 76.2594 517.027 L56.9077 517.027 L56.9077 521.324 L52.3562 521.324 L52.3562 517.027 L42.2347 517.027 L42.2347 511.139 Z\" fill=\"#000000\" fill-rule=\"evenodd\" fill-opacity=\"1\" /><path clip-path=\"url(#clip3000)\" d=\"M 0 0 M73.9359 493.538 L52.3562 493.538 L52.3562 487.681 L73.7131 487.681 Q78.7739 487.681 81.3202 485.708 Q83.8346 483.735 83.8346 479.788 Q83.8346 475.046 80.8109 472.308 Q77.7872 469.539 72.5673 469.539 L52.3562 469.539 L52.3562 463.683 L88.0042 463.683 L88.0042 469.539 L82.5296 469.539 Q85.7762 471.672 87.3676 474.504 Q88.9272 477.305 88.9272 481.029 Q88.9272 487.172 85.1078 490.355 Q81.2883 493.538 73.9359 493.538 M51.4968 478.801 L51.4968 478.801 Z\" fill=\"#000000\" fill-rule=\"evenodd\" fill-opacity=\"1\" /><path clip-path=\"url(#clip3000)\" d=\"M 0 0 M57.8307 436.883 Q57.2578 437.87 57.0032 439.047 Q56.7167 440.193 56.7167 441.594 Q56.7167 446.559 59.9632 449.233 Q63.1779 451.874 69.2253 451.874 L88.0042 451.874 L88.0042 457.763 L52.3562 457.763 L52.3562 451.874 L57.8944 451.874 Q54.6479 450.028 53.0883 447.068 Q51.4968 444.108 51.4968 439.875 Q51.4968 439.27 51.5923 438.538 Q51.656 437.806 51.8151 436.915 L57.8307 436.883 Z\" fill=\"#000000\" fill-rule=\"evenodd\" fill-opacity=\"1\" /><path clip-path=\"url(#clip3000)\" d=\"M 0 0 M66.4881 402.254 L88.0042 402.254 L88.0042 408.11 L66.679 408.11 Q61.6183 408.11 59.1038 410.084 Q56.5894 412.057 56.5894 416.004 Q56.5894 420.746 59.6131 423.483 Q62.6368 426.221 67.8567 426.221 L88.0042 426.221 L88.0042 432.109 L52.3562 432.109 L52.3562 426.221 L57.8944 426.221 Q54.6797 424.12 53.0883 421.287 Q51.4968 418.423 51.4968 414.699 Q51.4968 408.556 55.3163 405.405 Q59.1038 402.254 66.4881 402.254 Z\" fill=\"#000000\" fill-rule=\"evenodd\" fill-opacity=\"1\" /><polyline clip-path=\"url(#clip3002)\" style=\"stroke:#009af9; stroke-width:4; stroke-opacity:1; fill:none\" points=\"\n",
       "  298.45,86.1876 339.154,86.1876 379.857,86.1876 420.561,86.1876 461.264,86.1876 501.968,86.1876 542.671,86.1876 583.375,86.1876 624.078,86.1876 664.782,86.1876 \n",
       "  705.485,86.1876 746.189,86.1876 786.892,86.1876 827.596,86.1876 868.299,86.1876 909.003,86.1876 949.706,86.1876 990.41,86.1876 1031.11,86.1876 1071.82,86.1857 \n",
       "  1112.52,86.1876 1153.22,126.585 1193.93,314.874 1234.63,457.042 1275.33,564.22 1316.04,645.067 1356.74,790.707 1397.44,936.754 1438.15,1046.92 1478.85,1130.02 \n",
       "  1519.56,1192.7 1560.26,1239.98 1600.96,1275.65 1641.67,1302.55 1682.37,1322.84 1723.07,1338.15 1763.78,1349.7 1804.48,1358.41 1845.18,1364.98 1885.89,1369.93 \n",
       "  1926.59,1373.67 1967.29,1376.49 2008,1378.62 2048.7,1380.22 2089.4,1381.43 2130.11,1382.34 2170.81,1383.03 2211.51,1383.55 2252.22,1383.94 2292.92,1384.24 \n",
       "  \n",
       "  \"/>\n",
       "</svg>\n"
      ]
     },
     "execution_count": 16,
     "metadata": {},
     "output_type": "execute_result"
    }
   ],
   "source": [
    "mean_returns = x_values * means';\n",
    "plot(lambda, mean_returns, xaxis = :log, labels = \"\")\n",
    "xlabel!(\"Lambda\")\n",
    "ylabel!(\"Maximum mean return\")"
   ]
  },
  {
   "cell_type": "code",
   "execution_count": 17,
   "metadata": {},
   "outputs": [
    {
     "data": {
      "image/svg+xml": [
       "<?xml version=\"1.0\" encoding=\"utf-8\"?>\n",
       "<svg xmlns=\"http://www.w3.org/2000/svg\" xmlns:xlink=\"http://www.w3.org/1999/xlink\" width=\"600\" height=\"400\" viewBox=\"0 0 2400 1600\">\n",
       "<defs>\n",
       "  <clipPath id=\"clip3400\">\n",
       "    <rect x=\"0\" y=\"0\" width=\"2400\" height=\"1600\"/>\n",
       "  </clipPath>\n",
       "</defs>\n",
       "<path clip-path=\"url(#clip3400)\" d=\"\n",
       "M0 1600 L2400 1600 L2400 0 L0 0  Z\n",
       "  \" fill=\"#ffffff\" fill-rule=\"evenodd\" fill-opacity=\"1\"/>\n",
       "<defs>\n",
       "  <clipPath id=\"clip3401\">\n",
       "    <rect x=\"480\" y=\"0\" width=\"1681\" height=\"1600\"/>\n",
       "  </clipPath>\n",
       "</defs>\n",
       "<path clip-path=\"url(#clip3400)\" d=\"\n",
       "M238.13 1423.18 L2352.76 1423.18 L2352.76 47.2441 L238.13 47.2441  Z\n",
       "  \" fill=\"#ffffff\" fill-rule=\"evenodd\" fill-opacity=\"1\"/>\n",
       "<defs>\n",
       "  <clipPath id=\"clip3402\">\n",
       "    <rect x=\"238\" y=\"47\" width=\"2116\" height=\"1377\"/>\n",
       "  </clipPath>\n",
       "</defs>\n",
       "<polyline clip-path=\"url(#clip3402)\" style=\"stroke:#000000; stroke-width:2; stroke-opacity:0.1; fill:none\" points=\"\n",
       "  297.978,1423.18 297.978,47.2441 \n",
       "  \"/>\n",
       "<polyline clip-path=\"url(#clip3402)\" style=\"stroke:#000000; stroke-width:2; stroke-opacity:0.1; fill:none\" points=\"\n",
       "  630.466,1423.18 630.466,47.2441 \n",
       "  \"/>\n",
       "<polyline clip-path=\"url(#clip3402)\" style=\"stroke:#000000; stroke-width:2; stroke-opacity:0.1; fill:none\" points=\"\n",
       "  962.955,1423.18 962.955,47.2441 \n",
       "  \"/>\n",
       "<polyline clip-path=\"url(#clip3402)\" style=\"stroke:#000000; stroke-width:2; stroke-opacity:0.1; fill:none\" points=\"\n",
       "  1295.44,1423.18 1295.44,47.2441 \n",
       "  \"/>\n",
       "<polyline clip-path=\"url(#clip3402)\" style=\"stroke:#000000; stroke-width:2; stroke-opacity:0.1; fill:none\" points=\"\n",
       "  1627.93,1423.18 1627.93,47.2441 \n",
       "  \"/>\n",
       "<polyline clip-path=\"url(#clip3402)\" style=\"stroke:#000000; stroke-width:2; stroke-opacity:0.1; fill:none\" points=\"\n",
       "  1960.42,1423.18 1960.42,47.2441 \n",
       "  \"/>\n",
       "<polyline clip-path=\"url(#clip3402)\" style=\"stroke:#000000; stroke-width:2; stroke-opacity:0.1; fill:none\" points=\"\n",
       "  2292.91,1423.18 2292.91,47.2441 \n",
       "  \"/>\n",
       "<polyline clip-path=\"url(#clip3402)\" style=\"stroke:#000000; stroke-width:2; stroke-opacity:0.1; fill:none\" points=\"\n",
       "  238.13,1384.23 2352.76,1384.23 \n",
       "  \"/>\n",
       "<polyline clip-path=\"url(#clip3402)\" style=\"stroke:#000000; stroke-width:2; stroke-opacity:0.1; fill:none\" points=\"\n",
       "  238.13,1059.72 2352.76,1059.72 \n",
       "  \"/>\n",
       "<polyline clip-path=\"url(#clip3402)\" style=\"stroke:#000000; stroke-width:2; stroke-opacity:0.1; fill:none\" points=\"\n",
       "  238.13,735.211 2352.76,735.211 \n",
       "  \"/>\n",
       "<polyline clip-path=\"url(#clip3402)\" style=\"stroke:#000000; stroke-width:2; stroke-opacity:0.1; fill:none\" points=\"\n",
       "  238.13,410.699 2352.76,410.699 \n",
       "  \"/>\n",
       "<polyline clip-path=\"url(#clip3402)\" style=\"stroke:#000000; stroke-width:2; stroke-opacity:0.1; fill:none\" points=\"\n",
       "  238.13,86.1873 2352.76,86.1873 \n",
       "  \"/>\n",
       "<polyline clip-path=\"url(#clip3400)\" style=\"stroke:#000000; stroke-width:4; stroke-opacity:1; fill:none\" points=\"\n",
       "  238.13,1423.18 2352.76,1423.18 \n",
       "  \"/>\n",
       "<polyline clip-path=\"url(#clip3400)\" style=\"stroke:#000000; stroke-width:4; stroke-opacity:1; fill:none\" points=\"\n",
       "  238.13,1423.18 238.13,47.2441 \n",
       "  \"/>\n",
       "<polyline clip-path=\"url(#clip3400)\" style=\"stroke:#000000; stroke-width:4; stroke-opacity:1; fill:none\" points=\"\n",
       "  297.978,1423.18 297.978,1406.67 \n",
       "  \"/>\n",
       "<polyline clip-path=\"url(#clip3400)\" style=\"stroke:#000000; stroke-width:4; stroke-opacity:1; fill:none\" points=\"\n",
       "  630.466,1423.18 630.466,1406.67 \n",
       "  \"/>\n",
       "<polyline clip-path=\"url(#clip3400)\" style=\"stroke:#000000; stroke-width:4; stroke-opacity:1; fill:none\" points=\"\n",
       "  962.955,1423.18 962.955,1406.67 \n",
       "  \"/>\n",
       "<polyline clip-path=\"url(#clip3400)\" style=\"stroke:#000000; stroke-width:4; stroke-opacity:1; fill:none\" points=\"\n",
       "  1295.44,1423.18 1295.44,1406.67 \n",
       "  \"/>\n",
       "<polyline clip-path=\"url(#clip3400)\" style=\"stroke:#000000; stroke-width:4; stroke-opacity:1; fill:none\" points=\"\n",
       "  1627.93,1423.18 1627.93,1406.67 \n",
       "  \"/>\n",
       "<polyline clip-path=\"url(#clip3400)\" style=\"stroke:#000000; stroke-width:4; stroke-opacity:1; fill:none\" points=\"\n",
       "  1960.42,1423.18 1960.42,1406.67 \n",
       "  \"/>\n",
       "<polyline clip-path=\"url(#clip3400)\" style=\"stroke:#000000; stroke-width:4; stroke-opacity:1; fill:none\" points=\"\n",
       "  2292.91,1423.18 2292.91,1406.67 \n",
       "  \"/>\n",
       "<polyline clip-path=\"url(#clip3400)\" style=\"stroke:#000000; stroke-width:4; stroke-opacity:1; fill:none\" points=\"\n",
       "  238.13,1384.23 263.506,1384.23 \n",
       "  \"/>\n",
       "<polyline clip-path=\"url(#clip3400)\" style=\"stroke:#000000; stroke-width:4; stroke-opacity:1; fill:none\" points=\"\n",
       "  238.13,1059.72 263.506,1059.72 \n",
       "  \"/>\n",
       "<polyline clip-path=\"url(#clip3400)\" style=\"stroke:#000000; stroke-width:4; stroke-opacity:1; fill:none\" points=\"\n",
       "  238.13,735.211 263.506,735.211 \n",
       "  \"/>\n",
       "<polyline clip-path=\"url(#clip3400)\" style=\"stroke:#000000; stroke-width:4; stroke-opacity:1; fill:none\" points=\"\n",
       "  238.13,410.699 263.506,410.699 \n",
       "  \"/>\n",
       "<polyline clip-path=\"url(#clip3400)\" style=\"stroke:#000000; stroke-width:4; stroke-opacity:1; fill:none\" points=\"\n",
       "  238.13,86.1873 263.506,86.1873 \n",
       "  \"/>\n",
       "<path clip-path=\"url(#clip3400)\" d=\"M 0 0 M253.553 1494.25 L261.192 1494.25 L261.192 1467.89 L252.882 1469.55 L252.882 1465.29 L261.146 1463.63 L265.822 1463.63 L265.822 1494.25 L273.461 1494.25 L273.461 1498.19 L253.553 1498.19 L253.553 1494.25 Z\" fill=\"#000000\" fill-rule=\"evenodd\" fill-opacity=\"1\" /><path clip-path=\"url(#clip3400)\" d=\"M 0 0 M288.53 1466.71 Q284.919 1466.71 283.09 1470.27 Q281.285 1473.81 281.285 1480.94 Q281.285 1488.05 283.09 1491.61 Q284.919 1495.15 288.53 1495.15 Q292.164 1495.15 293.97 1491.61 Q295.798 1488.05 295.798 1480.94 Q295.798 1473.81 293.97 1470.27 Q292.164 1466.71 288.53 1466.71 M288.53 1463 Q294.34 1463 297.396 1467.61 Q300.474 1472.19 300.474 1480.94 Q300.474 1489.67 297.396 1494.28 Q294.34 1498.86 288.53 1498.86 Q282.72 1498.86 279.641 1494.28 Q276.586 1489.67 276.586 1480.94 Q276.586 1472.19 279.641 1467.61 Q282.72 1463 288.53 1463 Z\" fill=\"#000000\" fill-rule=\"evenodd\" fill-opacity=\"1\" /><path clip-path=\"url(#clip3400)\" d=\"M 0 0 M300.474 1458.68 L310.612 1458.68 L310.612 1461.77 L300.474 1461.77 L300.474 1458.68 Z\" fill=\"#000000\" fill-rule=\"evenodd\" fill-opacity=\"1\" /><path clip-path=\"url(#clip3400)\" d=\"M 0 0 M337.281 1455.64 Q340.008 1456.22 341.532 1458.06 Q343.074 1459.91 343.074 1462.61 Q343.074 1466.77 340.215 1469.05 Q337.356 1471.32 332.09 1471.32 Q330.322 1471.32 328.441 1470.96 Q326.58 1470.63 324.586 1469.93 L324.586 1466.26 Q326.166 1467.18 328.047 1467.65 Q329.927 1468.12 331.977 1468.12 Q335.551 1468.12 337.413 1466.71 Q339.294 1465.3 339.294 1462.61 Q339.294 1460.13 337.544 1458.74 Q335.814 1457.33 332.711 1457.33 L329.438 1457.33 L329.438 1454.21 L332.861 1454.21 Q335.664 1454.21 337.149 1453.1 Q338.635 1451.97 338.635 1449.86 Q338.635 1447.7 337.093 1446.55 Q335.57 1445.39 332.711 1445.39 Q331.15 1445.39 329.363 1445.72 Q327.576 1446.06 325.432 1446.78 L325.432 1443.39 Q327.595 1442.79 329.476 1442.49 Q331.375 1442.19 333.049 1442.19 Q337.375 1442.19 339.895 1444.16 Q342.416 1446.12 342.416 1449.47 Q342.416 1451.8 341.08 1453.42 Q339.745 1455.02 337.281 1455.64 Z\" fill=\"#000000\" fill-rule=\"evenodd\" fill-opacity=\"1\" /><path clip-path=\"url(#clip3400)\" d=\"M 0 0 M586.371 1494.25 L594.01 1494.25 L594.01 1467.89 L585.699 1469.55 L585.699 1465.29 L593.963 1463.63 L598.639 1463.63 L598.639 1494.25 L606.278 1494.25 L606.278 1498.19 L586.371 1498.19 L586.371 1494.25 Z\" fill=\"#000000\" fill-rule=\"evenodd\" fill-opacity=\"1\" /><path clip-path=\"url(#clip3400)\" d=\"M 0 0 M621.347 1466.71 Q617.736 1466.71 615.908 1470.27 Q614.102 1473.81 614.102 1480.94 Q614.102 1488.05 615.908 1491.61 Q617.736 1495.15 621.347 1495.15 Q624.982 1495.15 626.787 1491.61 Q628.616 1488.05 628.616 1480.94 Q628.616 1473.81 626.787 1470.27 Q624.982 1466.71 621.347 1466.71 M621.347 1463 Q627.158 1463 630.213 1467.61 Q633.292 1472.19 633.292 1480.94 Q633.292 1489.67 630.213 1494.28 Q627.158 1498.86 621.347 1498.86 Q615.537 1498.86 612.459 1494.28 Q609.403 1489.67 609.403 1480.94 Q609.403 1472.19 612.459 1467.61 Q615.537 1463 621.347 1463 Z\" fill=\"#000000\" fill-rule=\"evenodd\" fill-opacity=\"1\" /><path clip-path=\"url(#clip3400)\" d=\"M 0 0 M633.292 1458.68 L643.429 1458.68 L643.429 1461.77 L633.292 1461.77 L633.292 1458.68 Z\" fill=\"#000000\" fill-rule=\"evenodd\" fill-opacity=\"1\" /><path clip-path=\"url(#clip3400)\" d=\"M 0 0 M661.974 1467.58 L675.233 1467.58 L675.233 1470.78 L657.403 1470.78 L657.403 1467.58 Q659.566 1465.34 663.29 1461.58 Q667.033 1457.8 667.992 1456.71 Q669.816 1454.66 670.531 1453.25 Q671.265 1451.82 671.265 1450.45 Q671.265 1448.21 669.685 1446.8 Q668.124 1445.39 665.604 1445.39 Q663.817 1445.39 661.823 1446.01 Q659.848 1446.63 657.591 1447.89 L657.591 1444.05 Q659.886 1443.13 661.88 1442.66 Q663.873 1442.19 665.528 1442.19 Q669.892 1442.19 672.487 1444.37 Q675.083 1446.55 675.083 1450.2 Q675.083 1451.93 674.424 1453.49 Q673.785 1455.03 672.073 1457.14 Q671.603 1457.69 669.083 1460.3 Q666.563 1462.9 661.974 1467.58 Z\" fill=\"#000000\" fill-rule=\"evenodd\" fill-opacity=\"1\" /><path clip-path=\"url(#clip3400)\" d=\"M 0 0 M919.414 1494.25 L927.053 1494.25 L927.053 1467.89 L918.743 1469.55 L918.743 1465.29 L927.006 1463.63 L931.682 1463.63 L931.682 1494.25 L939.321 1494.25 L939.321 1498.19 L919.414 1498.19 L919.414 1494.25 Z\" fill=\"#000000\" fill-rule=\"evenodd\" fill-opacity=\"1\" /><path clip-path=\"url(#clip3400)\" d=\"M 0 0 M954.391 1466.71 Q950.78 1466.71 948.951 1470.27 Q947.145 1473.81 947.145 1480.94 Q947.145 1488.05 948.951 1491.61 Q950.78 1495.15 954.391 1495.15 Q958.025 1495.15 959.83 1491.61 Q961.659 1488.05 961.659 1480.94 Q961.659 1473.81 959.83 1470.27 Q958.025 1466.71 954.391 1466.71 M954.391 1463 Q960.201 1463 963.256 1467.61 Q966.335 1472.19 966.335 1480.94 Q966.335 1489.67 963.256 1494.28 Q960.201 1498.86 954.391 1498.86 Q948.58 1498.86 945.502 1494.28 Q942.446 1489.67 942.446 1480.94 Q942.446 1472.19 945.502 1467.61 Q948.58 1463 954.391 1463 Z\" fill=\"#000000\" fill-rule=\"evenodd\" fill-opacity=\"1\" /><path clip-path=\"url(#clip3400)\" d=\"M 0 0 M966.335 1458.68 L976.472 1458.68 L976.472 1461.77 L966.335 1461.77 L966.335 1458.68 Z\" fill=\"#000000\" fill-rule=\"evenodd\" fill-opacity=\"1\" /><path clip-path=\"url(#clip3400)\" d=\"M 0 0 M990.992 1467.58 L997.199 1467.58 L997.199 1446.16 L990.447 1447.51 L990.447 1444.05 L997.161 1442.7 L1000.96 1442.7 L1000.96 1467.58 L1007.17 1467.58 L1007.17 1470.78 L990.992 1470.78 L990.992 1467.58 Z\" fill=\"#000000\" fill-rule=\"evenodd\" fill-opacity=\"1\" /><path clip-path=\"url(#clip3400)\" d=\"M 0 0 M1262.61 1494.25 L1270.25 1494.25 L1270.25 1467.89 L1261.94 1469.55 L1261.94 1465.29 L1270.21 1463.63 L1274.88 1463.63 L1274.88 1494.25 L1282.52 1494.25 L1282.52 1498.19 L1262.61 1498.19 L1262.61 1494.25 Z\" fill=\"#000000\" fill-rule=\"evenodd\" fill-opacity=\"1\" /><path clip-path=\"url(#clip3400)\" d=\"M 0 0 M1297.59 1466.71 Q1293.98 1466.71 1292.15 1470.27 Q1290.34 1473.81 1290.34 1480.94 Q1290.34 1488.05 1292.15 1491.61 Q1293.98 1495.15 1297.59 1495.15 Q1301.22 1495.15 1303.03 1491.61 Q1304.86 1488.05 1304.86 1480.94 Q1304.86 1473.81 1303.03 1470.27 Q1301.22 1466.71 1297.59 1466.71 M1297.59 1463 Q1303.4 1463 1306.46 1467.61 Q1309.53 1472.19 1309.53 1480.94 Q1309.53 1489.67 1306.46 1494.28 Q1303.4 1498.86 1297.59 1498.86 Q1291.78 1498.86 1288.7 1494.28 Q1285.65 1489.67 1285.65 1480.94 Q1285.65 1472.19 1288.7 1467.61 Q1291.78 1463 1297.59 1463 Z\" fill=\"#000000\" fill-rule=\"evenodd\" fill-opacity=\"1\" /><path clip-path=\"url(#clip3400)\" d=\"M 0 0 M1319.24 1445.2 Q1316.31 1445.2 1314.82 1448.09 Q1313.35 1450.97 1313.35 1456.76 Q1313.35 1462.54 1314.82 1465.44 Q1316.31 1468.31 1319.24 1468.31 Q1322.19 1468.31 1323.66 1465.44 Q1325.14 1462.54 1325.14 1456.76 Q1325.14 1450.97 1323.66 1448.09 Q1322.19 1445.2 1319.24 1445.2 M1319.24 1442.19 Q1323.96 1442.19 1326.44 1445.93 Q1328.94 1449.66 1328.94 1456.76 Q1328.94 1463.86 1326.44 1467.6 Q1323.96 1471.32 1319.24 1471.32 Q1314.52 1471.32 1312.02 1467.6 Q1309.53 1463.86 1309.53 1456.76 Q1309.53 1449.66 1312.02 1445.93 Q1314.52 1442.19 1319.24 1442.19 Z\" fill=\"#000000\" fill-rule=\"evenodd\" fill-opacity=\"1\" /><path clip-path=\"url(#clip3400)\" d=\"M 0 0 M1596.45 1494.25 L1604.09 1494.25 L1604.09 1467.89 L1595.78 1469.55 L1595.78 1465.29 L1604.04 1463.63 L1608.71 1463.63 L1608.71 1494.25 L1616.35 1494.25 L1616.35 1498.19 L1596.45 1498.19 L1596.45 1494.25 Z\" fill=\"#000000\" fill-rule=\"evenodd\" fill-opacity=\"1\" /><path clip-path=\"url(#clip3400)\" d=\"M 0 0 M1631.42 1466.71 Q1627.81 1466.71 1625.98 1470.27 Q1624.18 1473.81 1624.18 1480.94 Q1624.18 1488.05 1625.98 1491.61 Q1627.81 1495.15 1631.42 1495.15 Q1635.06 1495.15 1636.86 1491.61 Q1638.69 1488.05 1638.69 1480.94 Q1638.69 1473.81 1636.86 1470.27 Q1635.06 1466.71 1631.42 1466.71 M1631.42 1463 Q1637.23 1463 1640.29 1467.61 Q1643.37 1472.19 1643.37 1480.94 Q1643.37 1489.67 1640.29 1494.28 Q1637.23 1498.86 1631.42 1498.86 Q1625.61 1498.86 1622.53 1494.28 Q1619.48 1489.67 1619.48 1480.94 Q1619.48 1472.19 1622.53 1467.61 Q1625.61 1463 1631.42 1463 Z\" fill=\"#000000\" fill-rule=\"evenodd\" fill-opacity=\"1\" /><path clip-path=\"url(#clip3400)\" d=\"M 0 0 M1643.91 1467.58 L1650.12 1467.58 L1650.12 1446.16 L1643.37 1447.51 L1643.37 1444.05 L1650.08 1442.7 L1653.88 1442.7 L1653.88 1467.58 L1660.09 1467.58 L1660.09 1470.78 L1643.91 1470.78 L1643.91 1467.58 Z\" fill=\"#000000\" fill-rule=\"evenodd\" fill-opacity=\"1\" /><path clip-path=\"url(#clip3400)\" d=\"M 0 0 M1928.38 1494.25 L1936.02 1494.25 L1936.02 1467.89 L1927.71 1469.55 L1927.71 1465.29 L1935.97 1463.63 L1940.65 1463.63 L1940.65 1494.25 L1948.29 1494.25 L1948.29 1498.19 L1928.38 1498.19 L1928.38 1494.25 Z\" fill=\"#000000\" fill-rule=\"evenodd\" fill-opacity=\"1\" /><path clip-path=\"url(#clip3400)\" d=\"M 0 0 M1963.36 1466.71 Q1959.75 1466.71 1957.92 1470.27 Q1956.11 1473.81 1956.11 1480.94 Q1956.11 1488.05 1957.92 1491.61 Q1959.75 1495.15 1963.36 1495.15 Q1966.99 1495.15 1968.8 1491.61 Q1970.63 1488.05 1970.63 1480.94 Q1970.63 1473.81 1968.8 1470.27 Q1966.99 1466.71 1963.36 1466.71 M1963.36 1463 Q1969.17 1463 1972.22 1467.61 Q1975.3 1472.19 1975.3 1480.94 Q1975.3 1489.67 1972.22 1494.28 Q1969.17 1498.86 1963.36 1498.86 Q1957.55 1498.86 1954.47 1494.28 Q1951.41 1489.67 1951.41 1480.94 Q1951.41 1472.19 1954.47 1467.61 Q1957.55 1463 1963.36 1463 Z\" fill=\"#000000\" fill-rule=\"evenodd\" fill-opacity=\"1\" /><path clip-path=\"url(#clip3400)\" d=\"M 0 0 M1979.87 1467.58 L1993.13 1467.58 L1993.13 1470.78 L1975.3 1470.78 L1975.3 1467.58 Q1977.46 1465.34 1981.19 1461.58 Q1984.93 1457.8 1985.89 1456.71 Q1987.71 1454.66 1988.43 1453.25 Q1989.16 1451.82 1989.16 1450.45 Q1989.16 1448.21 1987.58 1446.8 Q1986.02 1445.39 1983.5 1445.39 Q1981.71 1445.39 1979.72 1446.01 Q1977.75 1446.63 1975.49 1447.89 L1975.49 1444.05 Q1977.78 1443.13 1979.78 1442.66 Q1981.77 1442.19 1983.43 1442.19 Q1987.79 1442.19 1990.38 1444.37 Q1992.98 1446.55 1992.98 1450.2 Q1992.98 1451.93 1992.32 1453.49 Q1991.68 1455.03 1989.97 1457.14 Q1989.5 1457.69 1986.98 1460.3 Q1984.46 1462.9 1979.87 1467.58 Z\" fill=\"#000000\" fill-rule=\"evenodd\" fill-opacity=\"1\" /><path clip-path=\"url(#clip3400)\" d=\"M 0 0 M2260.54 1494.25 L2268.18 1494.25 L2268.18 1467.89 L2259.87 1469.55 L2259.87 1465.29 L2268.13 1463.63 L2272.81 1463.63 L2272.81 1494.25 L2280.45 1494.25 L2280.45 1498.19 L2260.54 1498.19 L2260.54 1494.25 Z\" fill=\"#000000\" fill-rule=\"evenodd\" fill-opacity=\"1\" /><path clip-path=\"url(#clip3400)\" d=\"M 0 0 M2295.52 1466.71 Q2291.9 1466.71 2290.08 1470.27 Q2288.27 1473.81 2288.27 1480.94 Q2288.27 1488.05 2290.08 1491.61 Q2291.9 1495.15 2295.52 1495.15 Q2299.15 1495.15 2300.96 1491.61 Q2302.78 1488.05 2302.78 1480.94 Q2302.78 1473.81 2300.96 1470.27 Q2299.15 1466.71 2295.52 1466.71 M2295.52 1463 Q2301.33 1463 2304.38 1467.61 Q2307.46 1472.19 2307.46 1480.94 Q2307.46 1489.67 2304.38 1494.28 Q2301.33 1498.86 2295.52 1498.86 Q2289.71 1498.86 2286.63 1494.28 Q2283.57 1489.67 2283.57 1480.94 Q2283.57 1472.19 2286.63 1467.61 Q2289.71 1463 2295.52 1463 Z\" fill=\"#000000\" fill-rule=\"evenodd\" fill-opacity=\"1\" /><path clip-path=\"url(#clip3400)\" d=\"M 0 0 M2320.16 1455.64 Q2322.88 1456.22 2324.41 1458.06 Q2325.95 1459.91 2325.95 1462.61 Q2325.95 1466.77 2323.09 1469.05 Q2320.23 1471.32 2314.96 1471.32 Q2313.2 1471.32 2311.32 1470.96 Q2309.45 1470.63 2307.46 1469.93 L2307.46 1466.26 Q2309.04 1467.18 2310.92 1467.65 Q2312.8 1468.12 2314.85 1468.12 Q2318.43 1468.12 2320.29 1466.71 Q2322.17 1465.3 2322.17 1462.61 Q2322.17 1460.13 2320.42 1458.74 Q2318.69 1457.33 2315.59 1457.33 L2312.31 1457.33 L2312.31 1454.21 L2315.74 1454.21 Q2318.54 1454.21 2320.02 1453.1 Q2321.51 1451.97 2321.51 1449.86 Q2321.51 1447.7 2319.97 1446.55 Q2318.44 1445.39 2315.59 1445.39 Q2314.02 1445.39 2312.24 1445.72 Q2310.45 1446.06 2308.31 1446.78 L2308.31 1443.39 Q2310.47 1442.79 2312.35 1442.49 Q2314.25 1442.19 2315.92 1442.19 Q2320.25 1442.19 2322.77 1444.16 Q2325.29 1446.12 2325.29 1449.47 Q2325.29 1451.8 2323.95 1453.42 Q2322.62 1455.02 2320.16 1455.64 Z\" fill=\"#000000\" fill-rule=\"evenodd\" fill-opacity=\"1\" /><path clip-path=\"url(#clip3400)\" d=\"M 0 0 M138.205 1370.03 Q134.593 1370.03 132.765 1373.6 Q130.959 1377.14 130.959 1384.27 Q130.959 1391.38 132.765 1394.94 Q134.593 1398.48 138.205 1398.48 Q141.839 1398.48 143.644 1394.94 Q145.473 1391.38 145.473 1384.27 Q145.473 1377.14 143.644 1373.6 Q141.839 1370.03 138.205 1370.03 M138.205 1366.33 Q144.015 1366.33 147.07 1370.94 Q150.149 1375.52 150.149 1384.27 Q150.149 1393 147.07 1397.6 Q144.015 1402.19 138.205 1402.19 Q132.394 1402.19 129.316 1397.6 Q126.26 1393 126.26 1384.27 Q126.26 1375.52 129.316 1370.94 Q132.394 1366.33 138.205 1366.33 Z\" fill=\"#000000\" fill-rule=\"evenodd\" fill-opacity=\"1\" /><path clip-path=\"url(#clip3400)\" d=\"M 0 0 M155.218 1395.63 L160.103 1395.63 L160.103 1401.51 L155.218 1401.51 L155.218 1395.63 Z\" fill=\"#000000\" fill-rule=\"evenodd\" fill-opacity=\"1\" /><path clip-path=\"url(#clip3400)\" d=\"M 0 0 M175.172 1370.03 Q171.561 1370.03 169.732 1373.6 Q167.927 1377.14 167.927 1384.27 Q167.927 1391.38 169.732 1394.94 Q171.561 1398.48 175.172 1398.48 Q178.806 1398.48 180.612 1394.94 Q182.44 1391.38 182.44 1384.27 Q182.44 1377.14 180.612 1373.6 Q178.806 1370.03 175.172 1370.03 M175.172 1366.33 Q180.982 1366.33 184.038 1370.94 Q187.116 1375.52 187.116 1384.27 Q187.116 1393 184.038 1397.6 Q180.982 1402.19 175.172 1402.19 Q169.362 1402.19 166.283 1397.6 Q163.228 1393 163.228 1384.27 Q163.228 1375.52 166.283 1370.94 Q169.362 1366.33 175.172 1366.33 Z\" fill=\"#000000\" fill-rule=\"evenodd\" fill-opacity=\"1\" /><path clip-path=\"url(#clip3400)\" d=\"M 0 0 M202.186 1370.03 Q198.575 1370.03 196.746 1373.6 Q194.94 1377.14 194.94 1384.27 Q194.94 1391.38 196.746 1394.94 Q198.575 1398.48 202.186 1398.48 Q205.82 1398.48 207.625 1394.94 Q209.454 1391.38 209.454 1384.27 Q209.454 1377.14 207.625 1373.6 Q205.82 1370.03 202.186 1370.03 M202.186 1366.33 Q207.996 1366.33 211.051 1370.94 Q214.13 1375.52 214.13 1384.27 Q214.13 1393 211.051 1397.6 Q207.996 1402.19 202.186 1402.19 Q196.376 1402.19 193.297 1397.6 Q190.241 1393 190.241 1384.27 Q190.241 1375.52 193.297 1370.94 Q196.376 1366.33 202.186 1366.33 Z\" fill=\"#000000\" fill-rule=\"evenodd\" fill-opacity=\"1\" /><path clip-path=\"url(#clip3400)\" d=\"M 0 0 M140.797 1045.52 Q137.186 1045.52 135.357 1049.09 Q133.552 1052.63 133.552 1059.76 Q133.552 1066.86 135.357 1070.43 Q137.186 1073.97 140.797 1073.97 Q144.431 1073.97 146.237 1070.43 Q148.066 1066.86 148.066 1059.76 Q148.066 1052.63 146.237 1049.09 Q144.431 1045.52 140.797 1045.52 M140.797 1041.82 Q146.607 1041.82 149.663 1046.42 Q152.741 1051.01 152.741 1059.76 Q152.741 1068.48 149.663 1073.09 Q146.607 1077.67 140.797 1077.67 Q134.987 1077.67 131.908 1073.09 Q128.853 1068.48 128.853 1059.76 Q128.853 1051.01 131.908 1046.42 Q134.987 1041.82 140.797 1041.82 Z\" fill=\"#000000\" fill-rule=\"evenodd\" fill-opacity=\"1\" /><path clip-path=\"url(#clip3400)\" d=\"M 0 0 M157.811 1071.12 L162.695 1071.12 L162.695 1077 L157.811 1077 L157.811 1071.12 Z\" fill=\"#000000\" fill-rule=\"evenodd\" fill-opacity=\"1\" /><path clip-path=\"url(#clip3400)\" d=\"M 0 0 M171.792 1073.07 L188.112 1073.07 L188.112 1077 L166.167 1077 L166.167 1073.07 Q168.829 1070.31 173.413 1065.68 Q178.019 1061.03 179.2 1059.69 Q181.445 1057.16 182.325 1055.43 Q183.227 1053.67 183.227 1051.98 Q183.227 1049.22 181.283 1047.49 Q179.362 1045.75 176.26 1045.75 Q174.061 1045.75 171.607 1046.52 Q169.177 1047.28 166.399 1048.83 L166.399 1044.11 Q169.223 1042.97 171.677 1042.4 Q174.13 1041.82 176.167 1041.82 Q181.538 1041.82 184.732 1044.5 Q187.926 1047.19 187.926 1051.68 Q187.926 1053.81 187.116 1055.73 Q186.329 1057.63 184.223 1060.22 Q183.644 1060.89 180.542 1064.11 Q177.44 1067.3 171.792 1073.07 Z\" fill=\"#000000\" fill-rule=\"evenodd\" fill-opacity=\"1\" /><path clip-path=\"url(#clip3400)\" d=\"M 0 0 M193.227 1042.44 L211.584 1042.44 L211.584 1046.38 L197.51 1046.38 L197.51 1054.85 Q198.528 1054.5 199.547 1054.34 Q200.565 1054.16 201.584 1054.16 Q207.371 1054.16 210.75 1057.33 Q214.13 1060.5 214.13 1065.91 Q214.13 1071.49 210.658 1074.59 Q207.186 1077.67 200.866 1077.67 Q198.69 1077.67 196.422 1077.3 Q194.176 1076.93 191.769 1076.19 L191.769 1071.49 Q193.852 1072.63 196.075 1073.18 Q198.297 1073.74 200.774 1073.74 Q204.778 1073.74 207.116 1071.63 Q209.454 1069.53 209.454 1065.91 Q209.454 1062.3 207.116 1060.2 Q204.778 1058.09 200.774 1058.09 Q198.899 1058.09 197.024 1058.51 Q195.172 1058.92 193.227 1059.8 L193.227 1042.44 Z\" fill=\"#000000\" fill-rule=\"evenodd\" fill-opacity=\"1\" /><path clip-path=\"url(#clip3400)\" d=\"M 0 0 M139.2 721.009 Q135.589 721.009 133.76 724.574 Q131.955 728.116 131.955 735.245 Q131.955 742.352 133.76 745.917 Q135.589 749.458 139.2 749.458 Q142.834 749.458 144.64 745.917 Q146.468 742.352 146.468 735.245 Q146.468 728.116 144.64 724.574 Q142.834 721.009 139.2 721.009 M139.2 717.306 Q145.01 717.306 148.066 721.912 Q151.144 726.495 151.144 735.245 Q151.144 743.972 148.066 748.579 Q145.01 753.162 139.2 753.162 Q133.39 753.162 130.311 748.579 Q127.256 743.972 127.256 735.245 Q127.256 726.495 130.311 721.912 Q133.39 717.306 139.2 717.306 Z\" fill=\"#000000\" fill-rule=\"evenodd\" fill-opacity=\"1\" /><path clip-path=\"url(#clip3400)\" d=\"M 0 0 M156.214 746.611 L161.098 746.611 L161.098 752.491 L156.214 752.491 L156.214 746.611 Z\" fill=\"#000000\" fill-rule=\"evenodd\" fill-opacity=\"1\" /><path clip-path=\"url(#clip3400)\" d=\"M 0 0 M166.214 717.931 L184.57 717.931 L184.57 721.866 L170.496 721.866 L170.496 730.338 Q171.515 729.991 172.533 729.829 Q173.552 729.644 174.57 729.644 Q180.357 729.644 183.737 732.815 Q187.116 735.986 187.116 741.403 Q187.116 746.981 183.644 750.083 Q180.172 753.162 173.852 753.162 Q171.677 753.162 169.408 752.792 Q167.163 752.421 164.755 751.68 L164.755 746.981 Q166.839 748.116 169.061 748.671 Q171.283 749.227 173.76 749.227 Q177.765 749.227 180.102 747.12 Q182.44 745.014 182.44 741.403 Q182.44 737.792 180.102 735.685 Q177.765 733.579 173.76 733.579 Q171.885 733.579 170.01 733.995 Q168.158 734.412 166.214 735.292 L166.214 717.931 Z\" fill=\"#000000\" fill-rule=\"evenodd\" fill-opacity=\"1\" /><path clip-path=\"url(#clip3400)\" d=\"M 0 0 M202.186 721.009 Q198.575 721.009 196.746 724.574 Q194.94 728.116 194.94 735.245 Q194.94 742.352 196.746 745.917 Q198.575 749.458 202.186 749.458 Q205.82 749.458 207.625 745.917 Q209.454 742.352 209.454 735.245 Q209.454 728.116 207.625 724.574 Q205.82 721.009 202.186 721.009 M202.186 717.306 Q207.996 717.306 211.051 721.912 Q214.13 726.495 214.13 735.245 Q214.13 743.972 211.051 748.579 Q207.996 753.162 202.186 753.162 Q196.376 753.162 193.297 748.579 Q190.241 743.972 190.241 735.245 Q190.241 726.495 193.297 721.912 Q196.376 717.306 202.186 717.306 Z\" fill=\"#000000\" fill-rule=\"evenodd\" fill-opacity=\"1\" /><path clip-path=\"url(#clip3400)\" d=\"M 0 0 M140.103 396.498 Q136.492 396.498 134.663 400.062 Q132.857 403.604 132.857 410.734 Q132.857 417.84 134.663 421.405 Q136.492 424.947 140.103 424.947 Q143.737 424.947 145.542 421.405 Q147.371 417.84 147.371 410.734 Q147.371 403.604 145.542 400.062 Q143.737 396.498 140.103 396.498 M140.103 392.794 Q145.913 392.794 148.968 397.4 Q152.047 401.984 152.047 410.734 Q152.047 419.46 148.968 424.067 Q145.913 428.65 140.103 428.65 Q134.293 428.65 131.214 424.067 Q128.158 419.46 128.158 410.734 Q128.158 401.984 131.214 397.4 Q134.293 392.794 140.103 392.794 Z\" fill=\"#000000\" fill-rule=\"evenodd\" fill-opacity=\"1\" /><path clip-path=\"url(#clip3400)\" d=\"M 0 0 M157.116 422.099 L162.001 422.099 L162.001 427.979 L157.116 427.979 L157.116 422.099 Z\" fill=\"#000000\" fill-rule=\"evenodd\" fill-opacity=\"1\" /><path clip-path=\"url(#clip3400)\" d=\"M 0 0 M165.89 393.419 L188.112 393.419 L188.112 395.41 L175.565 427.979 L170.681 427.979 L182.487 397.354 L165.89 397.354 L165.89 393.419 Z\" fill=\"#000000\" fill-rule=\"evenodd\" fill-opacity=\"1\" /><path clip-path=\"url(#clip3400)\" d=\"M 0 0 M193.227 393.419 L211.584 393.419 L211.584 397.354 L197.51 397.354 L197.51 405.826 Q198.528 405.479 199.547 405.317 Q200.565 405.132 201.584 405.132 Q207.371 405.132 210.75 408.303 Q214.13 411.474 214.13 416.891 Q214.13 422.47 210.658 425.572 Q207.186 428.65 200.866 428.65 Q198.69 428.65 196.422 428.28 Q194.176 427.91 191.769 427.169 L191.769 422.47 Q193.852 423.604 196.075 424.16 Q198.297 424.715 200.774 424.715 Q204.778 424.715 207.116 422.609 Q209.454 420.502 209.454 416.891 Q209.454 413.28 207.116 411.173 Q204.778 409.067 200.774 409.067 Q198.899 409.067 197.024 409.484 Q195.172 409.9 193.227 410.78 L193.227 393.419 Z\" fill=\"#000000\" fill-rule=\"evenodd\" fill-opacity=\"1\" /><path clip-path=\"url(#clip3400)\" d=\"M 0 0 M130.242 99.5321 L137.88 99.5321 L137.88 73.1665 L129.57 74.8332 L129.57 70.574 L137.834 68.9073 L142.51 68.9073 L142.51 99.5321 L150.149 99.5321 L150.149 103.467 L130.242 103.467 L130.242 99.5321 Z\" fill=\"#000000\" fill-rule=\"evenodd\" fill-opacity=\"1\" /><path clip-path=\"url(#clip3400)\" d=\"M 0 0 M155.218 97.5877 L160.103 97.5877 L160.103 103.467 L155.218 103.467 L155.218 97.5877 Z\" fill=\"#000000\" fill-rule=\"evenodd\" fill-opacity=\"1\" /><path clip-path=\"url(#clip3400)\" d=\"M 0 0 M175.172 71.986 Q171.561 71.986 169.732 75.5508 Q167.927 79.0924 167.927 86.222 Q167.927 93.3285 169.732 96.8933 Q171.561 100.435 175.172 100.435 Q178.806 100.435 180.612 96.8933 Q182.44 93.3285 182.44 86.222 Q182.44 79.0924 180.612 75.5508 Q178.806 71.986 175.172 71.986 M175.172 68.2823 Q180.982 68.2823 184.038 72.8888 Q187.116 77.4721 187.116 86.222 Q187.116 94.9488 184.038 99.5553 Q180.982 104.139 175.172 104.139 Q169.362 104.139 166.283 99.5553 Q163.228 94.9488 163.228 86.222 Q163.228 77.4721 166.283 72.8888 Q169.362 68.2823 175.172 68.2823 Z\" fill=\"#000000\" fill-rule=\"evenodd\" fill-opacity=\"1\" /><path clip-path=\"url(#clip3400)\" d=\"M 0 0 M202.186 71.986 Q198.575 71.986 196.746 75.5508 Q194.94 79.0924 194.94 86.222 Q194.94 93.3285 196.746 96.8933 Q198.575 100.435 202.186 100.435 Q205.82 100.435 207.625 96.8933 Q209.454 93.3285 209.454 86.222 Q209.454 79.0924 207.625 75.5508 Q205.82 71.986 202.186 71.986 M202.186 68.2823 Q207.996 68.2823 211.051 72.8888 Q214.13 77.4721 214.13 86.222 Q214.13 94.9488 211.051 99.5553 Q207.996 104.139 202.186 104.139 Q196.376 104.139 193.297 99.5553 Q190.241 94.9488 190.241 86.222 Q190.241 77.4721 193.297 72.8888 Q196.376 68.2823 202.186 68.2823 Z\" fill=\"#000000\" fill-rule=\"evenodd\" fill-opacity=\"1\" /><path clip-path=\"url(#clip3400)\" d=\"M 0 0 M1181.02 1508.52 L1187.45 1508.52 L1187.45 1550.63 L1210.59 1550.63 L1210.59 1556.04 L1181.02 1556.04 L1181.02 1508.52 Z\" fill=\"#000000\" fill-rule=\"evenodd\" fill-opacity=\"1\" /><path clip-path=\"url(#clip3400)\" d=\"M 0 0 M1232.93 1538.12 Q1225.83 1538.12 1223.1 1539.75 Q1220.36 1541.37 1220.36 1545.29 Q1220.36 1548.4 1222.4 1550.25 Q1224.47 1552.07 1228 1552.07 Q1232.87 1552.07 1235.8 1548.63 Q1238.76 1545.16 1238.76 1539.43 L1238.76 1538.12 L1232.93 1538.12 M1244.61 1535.71 L1244.61 1556.04 L1238.76 1556.04 L1238.76 1550.63 Q1236.75 1553.88 1233.76 1555.44 Q1230.77 1556.97 1226.44 1556.97 Q1220.96 1556.97 1217.72 1553.91 Q1214.5 1550.82 1214.5 1545.67 Q1214.5 1539.65 1218.51 1536.6 Q1222.56 1533.54 1230.54 1533.54 L1238.76 1533.54 L1238.76 1532.97 Q1238.76 1528.93 1236.08 1526.73 Q1233.44 1524.5 1228.63 1524.5 Q1225.58 1524.5 1222.68 1525.23 Q1219.79 1525.97 1217.11 1527.43 L1217.11 1522.02 Q1220.33 1520.78 1223.35 1520.17 Q1226.38 1519.54 1229.24 1519.54 Q1236.97 1519.54 1240.79 1523.55 Q1244.61 1527.56 1244.61 1535.71 Z\" fill=\"#000000\" fill-rule=\"evenodd\" fill-opacity=\"1\" /><path clip-path=\"url(#clip3400)\" d=\"M 0 0 M1278.51 1527.24 Q1280.71 1523.29 1283.76 1521.41 Q1286.82 1519.54 1290.96 1519.54 Q1296.53 1519.54 1299.55 1523.45 Q1302.57 1527.33 1302.57 1534.53 L1302.57 1556.04 L1296.68 1556.04 L1296.68 1534.72 Q1296.68 1529.59 1294.87 1527.11 Q1293.06 1524.63 1289.33 1524.63 Q1284.78 1524.63 1282.14 1527.65 Q1279.5 1530.68 1279.5 1535.9 L1279.5 1556.04 L1273.61 1556.04 L1273.61 1534.72 Q1273.61 1529.56 1271.79 1527.11 Q1269.98 1524.63 1266.19 1524.63 Q1261.7 1524.63 1259.06 1527.68 Q1256.42 1530.71 1256.42 1535.9 L1256.42 1556.04 L1250.53 1556.04 L1250.53 1520.4 L1256.42 1520.4 L1256.42 1525.93 Q1258.43 1522.66 1261.23 1521.1 Q1264.03 1519.54 1267.88 1519.54 Q1271.76 1519.54 1274.47 1521.51 Q1277.21 1523.48 1278.51 1527.24 Z\" fill=\"#000000\" fill-rule=\"evenodd\" fill-opacity=\"1\" /><path clip-path=\"url(#clip3400)\" d=\"M 0 0 M1334.31 1538.25 Q1334.31 1531.79 1331.63 1528.13 Q1328.99 1524.44 1324.34 1524.44 Q1319.7 1524.44 1317.02 1528.13 Q1314.38 1531.79 1314.38 1538.25 Q1314.38 1544.71 1317.02 1548.4 Q1319.7 1552.07 1324.34 1552.07 Q1328.99 1552.07 1331.63 1548.4 Q1334.31 1544.71 1334.31 1538.25 M1314.38 1525.81 Q1316.23 1522.62 1319.03 1521.1 Q1321.86 1519.54 1325.78 1519.54 Q1332.27 1519.54 1336.31 1524.69 Q1340.38 1529.85 1340.38 1538.25 Q1340.38 1546.65 1336.31 1551.81 Q1332.27 1556.97 1325.78 1556.97 Q1321.86 1556.97 1319.03 1555.44 Q1316.23 1553.88 1314.38 1550.7 L1314.38 1556.04 L1308.49 1556.04 L1308.49 1506.52 L1314.38 1506.52 L1314.38 1525.81 Z\" fill=\"#000000\" fill-rule=\"evenodd\" fill-opacity=\"1\" /><path clip-path=\"url(#clip3400)\" d=\"M 0 0 M1369.99 1525.81 L1369.99 1506.52 L1375.84 1506.52 L1375.84 1556.04 L1369.99 1556.04 L1369.99 1550.7 Q1368.14 1553.88 1365.31 1555.44 Q1362.51 1556.97 1358.56 1556.97 Q1352.1 1556.97 1348.02 1551.81 Q1343.98 1546.65 1343.98 1538.25 Q1343.98 1529.85 1348.02 1524.69 Q1352.1 1519.54 1358.56 1519.54 Q1362.51 1519.54 1365.31 1521.1 Q1368.14 1522.62 1369.99 1525.81 M1350.03 1538.25 Q1350.03 1544.71 1352.67 1548.4 Q1355.34 1552.07 1359.99 1552.07 Q1364.64 1552.07 1367.31 1548.4 Q1369.99 1544.71 1369.99 1538.25 Q1369.99 1531.79 1367.31 1528.13 Q1364.64 1524.44 1359.99 1524.44 Q1355.34 1524.44 1352.67 1528.13 Q1350.03 1531.79 1350.03 1538.25 Z\" fill=\"#000000\" fill-rule=\"evenodd\" fill-opacity=\"1\" /><path clip-path=\"url(#clip3400)\" d=\"M 0 0 M1398.19 1538.12 Q1391.09 1538.12 1388.35 1539.75 Q1385.61 1541.37 1385.61 1545.29 Q1385.61 1548.4 1387.65 1550.25 Q1389.72 1552.07 1393.25 1552.07 Q1398.12 1552.07 1401.05 1548.63 Q1404.01 1545.16 1404.01 1539.43 L1404.01 1538.12 L1398.19 1538.12 M1409.87 1535.71 L1409.87 1556.04 L1404.01 1556.04 L1404.01 1550.63 Q1402 1553.88 1399.01 1555.44 Q1396.02 1556.97 1391.69 1556.97 Q1386.22 1556.97 1382.97 1553.91 Q1379.76 1550.82 1379.76 1545.67 Q1379.76 1539.65 1383.77 1536.6 Q1387.81 1533.54 1395.8 1533.54 L1404.01 1533.54 L1404.01 1532.97 Q1404.01 1528.93 1401.34 1526.73 Q1398.69 1524.5 1393.89 1524.5 Q1390.83 1524.5 1387.94 1525.23 Q1385.04 1525.97 1382.37 1527.43 L1382.37 1522.02 Q1385.58 1520.78 1388.61 1520.17 Q1391.63 1519.54 1394.49 1519.54 Q1402.23 1519.54 1406.05 1523.55 Q1409.87 1527.56 1409.87 1535.71 Z\" fill=\"#000000\" fill-rule=\"evenodd\" fill-opacity=\"1\" /><path clip-path=\"url(#clip3400)\" d=\"M 0 0 M40.4842 1062.92 L40.4842 1035.61 L45.895 1035.61 L45.895 1056.49 L59.8996 1056.49 L59.8996 1037.65 L65.3104 1037.65 L65.3104 1056.49 L88.0042 1056.49 L88.0042 1062.92 L40.4842 1062.92 Z\" fill=\"#000000\" fill-rule=\"evenodd\" fill-opacity=\"1\" /><path clip-path=\"url(#clip3400)\" d=\"M 0 0 M57.8307 1013.55 Q57.2578 1014.54 57.0032 1015.72 Q56.7167 1016.86 56.7167 1018.26 Q56.7167 1023.23 59.9632 1025.9 Q63.1779 1028.54 69.2253 1028.54 L88.0042 1028.54 L88.0042 1034.43 L52.3562 1034.43 L52.3562 1028.54 L57.8944 1028.54 Q54.6479 1026.7 53.0883 1023.74 Q51.4968 1020.78 51.4968 1016.54 Q51.4968 1015.94 51.5923 1015.21 Q51.656 1014.48 51.8151 1013.58 L57.8307 1013.55 Z\" fill=\"#000000\" fill-rule=\"evenodd\" fill-opacity=\"1\" /><path clip-path=\"url(#clip3400)\" d=\"M 0 0 M70.0847 991.209 Q70.0847 998.307 71.7079 1001.04 Q73.3312 1003.78 77.2461 1003.78 Q80.3653 1003.78 82.2114 1001.74 Q84.0256 999.675 84.0256 996.142 Q84.0256 991.273 80.5881 988.344 Q77.1188 985.384 71.3897 985.384 L70.0847 985.384 L70.0847 991.209 M67.6657 979.528 L88.0042 979.528 L88.0042 985.384 L82.5933 985.384 Q85.8398 987.389 87.3994 990.381 Q88.9272 993.373 88.9272 997.702 Q88.9272 1003.18 85.8716 1006.42 Q82.7843 1009.64 77.6281 1009.64 Q71.6125 1009.64 68.5569 1005.63 Q65.5014 1001.58 65.5014 993.596 L65.5014 985.384 L64.9285 985.384 Q60.8862 985.384 58.6901 988.058 Q56.4621 990.7 56.4621 995.506 Q56.4621 998.561 57.1941 1001.46 Q57.9262 1004.35 59.3903 1007.03 L53.9795 1007.03 Q52.7381 1003.81 52.1334 1000.79 Q51.4968 997.766 51.4968 994.901 Q51.4968 987.167 55.5072 983.347 Q59.5176 979.528 67.6657 979.528 Z\" fill=\"#000000\" fill-rule=\"evenodd\" fill-opacity=\"1\" /><path clip-path=\"url(#clip3400)\" d=\"M 0 0 M53.7248 947.731 L59.1993 947.731 Q57.8307 950.214 57.1623 952.728 Q56.4621 955.211 56.4621 957.757 Q56.4621 963.454 60.0905 966.605 Q63.6872 969.756 70.212 969.756 Q76.7369 969.756 80.3653 966.605 Q83.9619 963.454 83.9619 957.757 Q83.9619 955.211 83.2935 952.728 Q82.5933 950.214 81.2247 947.731 L86.6355 947.731 Q87.7814 950.182 88.3543 952.824 Q88.9272 955.434 88.9272 958.394 Q88.9272 966.446 83.8664 971.189 Q78.8057 975.931 70.212 975.931 Q61.491 975.931 56.4939 971.157 Q51.4968 966.351 51.4968 958.012 Q51.4968 955.306 52.0697 952.728 Q52.6108 950.15 53.7248 947.731 Z\" fill=\"#000000\" fill-rule=\"evenodd\" fill-opacity=\"1\" /><path clip-path=\"url(#clip3400)\" d=\"M 0 0 M42.2347 935.795 L52.3562 935.795 L52.3562 923.732 L56.9077 923.732 L56.9077 935.795 L76.2594 935.795 Q80.6199 935.795 81.8613 934.618 Q83.1026 933.408 83.1026 929.748 L83.1026 923.732 L88.0042 923.732 L88.0042 929.748 Q88.0042 936.527 85.4897 939.106 Q82.9434 941.684 76.2594 941.684 L56.9077 941.684 L56.9077 945.981 L52.3562 945.981 L52.3562 941.684 L42.2347 941.684 L42.2347 935.795 Z\" fill=\"#000000\" fill-rule=\"evenodd\" fill-opacity=\"1\" /><path clip-path=\"url(#clip3400)\" d=\"M 0 0 M52.3562 917.589 L52.3562 911.733 L88.0042 911.733 L88.0042 917.589 L52.3562 917.589 M38.479 917.589 L38.479 911.733 L45.895 911.733 L45.895 917.589 L38.479 917.589 Z\" fill=\"#000000\" fill-rule=\"evenodd\" fill-opacity=\"1\" /><path clip-path=\"url(#clip3400)\" d=\"M 0 0 M56.4621 891.777 Q56.4621 896.487 60.1542 899.224 Q63.8145 901.962 70.212 901.962 Q76.6095 901.962 80.3017 899.256 Q83.9619 896.519 83.9619 891.777 Q83.9619 887.098 80.2698 884.36 Q76.5777 881.623 70.212 881.623 Q63.8781 881.623 60.186 884.36 Q56.4621 887.098 56.4621 891.777 M51.4968 891.777 Q51.4968 884.138 56.4621 879.777 Q61.4273 875.417 70.212 875.417 Q78.9649 875.417 83.9619 879.777 Q88.9272 884.138 88.9272 891.777 Q88.9272 899.447 83.9619 903.808 Q78.9649 908.136 70.212 908.136 Q61.4273 908.136 56.4621 903.808 Q51.4968 899.447 51.4968 891.777 Z\" fill=\"#000000\" fill-rule=\"evenodd\" fill-opacity=\"1\" /><path clip-path=\"url(#clip3400)\" d=\"M 0 0 M66.4881 839.641 L88.0042 839.641 L88.0042 845.498 L66.679 845.498 Q61.6183 845.498 59.1038 847.471 Q56.5894 849.445 56.5894 853.391 Q56.5894 858.134 59.6131 860.871 Q62.6368 863.608 67.8567 863.608 L88.0042 863.608 L88.0042 869.497 L52.3562 869.497 L52.3562 863.608 L57.8944 863.608 Q54.6797 861.508 53.0883 858.675 Q51.4968 855.81 51.4968 852.086 Q51.4968 845.943 55.3163 842.792 Q59.1038 839.641 66.4881 839.641 Z\" fill=\"#000000\" fill-rule=\"evenodd\" fill-opacity=\"1\" /><path clip-path=\"url(#clip3400)\" d=\"M 0 0 M56.4621 798.965 Q56.4621 803.675 60.1542 806.412 Q63.8145 809.15 70.212 809.15 Q76.6095 809.15 80.3017 806.444 Q83.9619 803.707 83.9619 798.965 Q83.9619 794.286 80.2698 791.548 Q76.5777 788.811 70.212 788.811 Q63.8781 788.811 60.186 791.548 Q56.4621 794.286 56.4621 798.965 M51.4968 798.965 Q51.4968 791.326 56.4621 786.965 Q61.4273 782.605 70.212 782.605 Q78.9649 782.605 83.9619 786.965 Q88.9272 791.326 88.9272 798.965 Q88.9272 806.635 83.9619 810.996 Q78.9649 815.324 70.212 815.324 Q61.4273 815.324 56.4621 810.996 Q51.4968 806.635 51.4968 798.965 Z\" fill=\"#000000\" fill-rule=\"evenodd\" fill-opacity=\"1\" /><path clip-path=\"url(#clip3400)\" d=\"M 0 0 M38.479 758.415 L43.3487 758.415 L43.3487 764.017 Q43.3487 767.168 44.6219 768.409 Q45.895 769.619 49.2052 769.619 L52.3562 769.619 L52.3562 759.975 L56.9077 759.975 L56.9077 769.619 L88.0042 769.619 L88.0042 775.507 L56.9077 775.507 L56.9077 781.109 L52.3562 781.109 L52.3562 775.507 L49.8736 775.507 Q43.9216 775.507 41.2162 772.738 Q38.479 769.969 38.479 763.953 L38.479 758.415 Z\" fill=\"#000000\" fill-rule=\"evenodd\" fill-opacity=\"1\" /><path clip-path=\"url(#clip3400)\" d=\"M 0 0 M52.3562 731.552 L52.3562 725.695 L88.0042 725.695 L88.0042 731.552 L52.3562 731.552 M38.479 731.552 L38.479 725.695 L45.895 725.695 L45.895 731.552 L38.479 731.552 Z\" fill=\"#000000\" fill-rule=\"evenodd\" fill-opacity=\"1\" /><path clip-path=\"url(#clip3400)\" d=\"M 0 0 M66.4881 689.92 L88.0042 689.92 L88.0042 695.776 L66.679 695.776 Q61.6183 695.776 59.1038 697.75 Q56.5894 699.723 56.5894 703.67 Q56.5894 708.412 59.6131 711.15 Q62.6368 713.887 67.8567 713.887 L88.0042 713.887 L88.0042 719.775 L52.3562 719.775 L52.3562 713.887 L57.8944 713.887 Q54.6797 711.786 53.0883 708.953 Q51.4968 706.089 51.4968 702.365 Q51.4968 696.222 55.3163 693.071 Q59.1038 689.92 66.4881 689.92 Z\" fill=\"#000000\" fill-rule=\"evenodd\" fill-opacity=\"1\" /><path clip-path=\"url(#clip3400)\" d=\"M 0 0 M52.3562 687.978 L52.3562 681.772 L82.275 670.632 L52.3562 659.492 L52.3562 653.285 L88.0042 666.653 L88.0042 674.61 L52.3562 687.978 Z\" fill=\"#000000\" fill-rule=\"evenodd\" fill-opacity=\"1\" /><path clip-path=\"url(#clip3400)\" d=\"M 0 0 M68.7161 616.651 L71.5806 616.651 L71.5806 643.578 Q77.6281 643.196 80.8109 639.949 Q83.9619 636.671 83.9619 630.846 Q83.9619 627.472 83.1344 624.321 Q82.3069 621.139 80.6518 618.019 L86.1899 618.019 Q87.5267 621.17 88.227 624.481 Q88.9272 627.791 88.9272 631.196 Q88.9272 639.726 83.9619 644.723 Q78.9967 649.689 70.5303 649.689 Q61.7774 649.689 56.6531 644.978 Q51.4968 640.236 51.4968 632.215 Q51.4968 625.022 56.1438 620.852 Q60.7589 616.651 68.7161 616.651 M66.9973 622.507 Q62.1912 622.571 59.3266 625.213 Q56.4621 627.822 56.4621 632.151 Q56.4621 637.053 59.2312 640.013 Q62.0002 642.941 67.0292 643.387 L66.9973 622.507 Z\" fill=\"#000000\" fill-rule=\"evenodd\" fill-opacity=\"1\" /><path clip-path=\"url(#clip3400)\" d=\"M 0 0 M53.4065 587.782 L58.9447 587.782 Q57.6716 590.265 57.035 592.938 Q56.3984 595.612 56.3984 598.477 Q56.3984 602.837 57.7352 605.033 Q59.072 607.198 61.7456 607.198 Q63.7826 607.198 64.9603 605.638 Q66.1061 604.078 67.1565 599.368 L67.6021 597.363 Q68.9389 591.124 71.3897 588.514 Q73.8086 585.872 78.1691 585.872 Q83.1344 585.872 86.0308 589.819 Q88.9272 593.734 88.9272 600.609 Q88.9272 603.474 88.3543 606.593 Q87.8132 609.68 86.6992 613.118 L80.6518 613.118 Q82.3387 609.871 83.198 606.72 Q84.0256 603.569 84.0256 600.482 Q84.0256 596.344 82.6251 594.116 Q81.1929 591.888 78.6147 591.888 Q76.2276 591.888 74.9545 593.511 Q73.6813 595.103 72.5037 600.545 L72.0262 602.582 Q70.8804 608.025 68.5251 610.444 Q66.138 612.863 62.0002 612.863 Q56.9713 612.863 54.2341 609.298 Q51.4968 605.733 51.4968 599.177 Q51.4968 595.93 51.9743 593.066 Q52.4517 590.201 53.4065 587.782 Z\" fill=\"#000000\" fill-rule=\"evenodd\" fill-opacity=\"1\" /><path clip-path=\"url(#clip3400)\" d=\"M 0 0 M42.2347 573.937 L52.3562 573.937 L52.3562 561.874 L56.9077 561.874 L56.9077 573.937 L76.2594 573.937 Q80.6199 573.937 81.8613 572.759 Q83.1026 571.55 83.1026 567.889 L83.1026 561.874 L88.0042 561.874 L88.0042 567.889 Q88.0042 574.669 85.4897 577.247 Q82.9434 579.825 76.2594 579.825 L56.9077 579.825 L56.9077 584.122 L52.3562 584.122 L52.3562 579.825 L42.2347 579.825 L42.2347 573.937 Z\" fill=\"#000000\" fill-rule=\"evenodd\" fill-opacity=\"1\" /><path clip-path=\"url(#clip3400)\" d=\"M 0 0 M59.1993 527.976 Q55.2526 525.78 53.3747 522.725 Q51.4968 519.669 51.4968 515.531 Q51.4968 509.961 55.4117 506.938 Q59.2948 503.914 66.4881 503.914 L88.0042 503.914 L88.0042 509.802 L66.679 509.802 Q61.5546 509.802 59.072 511.617 Q56.5894 513.431 56.5894 517.155 Q56.5894 521.706 59.6131 524.348 Q62.6368 526.99 67.8567 526.99 L88.0042 526.99 L88.0042 532.878 L66.679 532.878 Q61.5228 532.878 59.072 534.692 Q56.5894 536.506 56.5894 540.294 Q56.5894 544.782 59.6449 547.424 Q62.6686 550.065 67.8567 550.065 L88.0042 550.065 L88.0042 555.954 L52.3562 555.954 L52.3562 550.065 L57.8944 550.065 Q54.616 548.06 53.0564 545.259 Q51.4968 542.458 51.4968 538.607 Q51.4968 534.724 53.4702 532.019 Q55.4436 529.281 59.1993 527.976 Z\" fill=\"#000000\" fill-rule=\"evenodd\" fill-opacity=\"1\" /><path clip-path=\"url(#clip3400)\" d=\"M 0 0 M68.7161 467.279 L71.5806 467.279 L71.5806 494.206 Q77.6281 493.824 80.8109 490.578 Q83.9619 487.3 83.9619 481.475 Q83.9619 478.101 83.1344 474.95 Q82.3069 471.767 80.6518 468.648 L86.1899 468.648 Q87.5267 471.799 88.227 475.109 Q88.9272 478.419 88.9272 481.825 Q88.9272 490.355 83.9619 495.352 Q78.9967 500.317 70.5303 500.317 Q61.7774 500.317 56.6531 495.607 Q51.4968 490.864 51.4968 482.844 Q51.4968 475.65 56.1438 471.481 Q60.7589 467.279 68.7161 467.279 M66.9973 473.136 Q62.1912 473.199 59.3266 475.841 Q56.4621 478.451 56.4621 482.78 Q56.4621 487.681 59.2312 490.642 Q62.0002 493.57 67.0292 494.015 L66.9973 473.136 Z\" fill=\"#000000\" fill-rule=\"evenodd\" fill-opacity=\"1\" /><path clip-path=\"url(#clip3400)\" d=\"M 0 0 M66.4881 431.504 L88.0042 431.504 L88.0042 437.361 L66.679 437.361 Q61.6183 437.361 59.1038 439.334 Q56.5894 441.307 56.5894 445.254 Q56.5894 449.996 59.6131 452.734 Q62.6368 455.471 67.8567 455.471 L88.0042 455.471 L88.0042 461.359 L52.3562 461.359 L52.3562 455.471 L57.8944 455.471 Q54.6797 453.37 53.0883 450.538 Q51.4968 447.673 51.4968 443.949 Q51.4968 437.806 55.3163 434.655 Q59.1038 431.504 66.4881 431.504 Z\" fill=\"#000000\" fill-rule=\"evenodd\" fill-opacity=\"1\" /><path clip-path=\"url(#clip3400)\" d=\"M 0 0 M42.2347 419.568 L52.3562 419.568 L52.3562 407.505 L56.9077 407.505 L56.9077 419.568 L76.2594 419.568 Q80.6199 419.568 81.8613 418.391 Q83.1026 417.181 83.1026 413.521 L83.1026 407.505 L88.0042 407.505 L88.0042 413.521 Q88.0042 420.3 85.4897 422.879 Q82.9434 425.457 76.2594 425.457 L56.9077 425.457 L56.9077 429.754 L52.3562 429.754 L52.3562 425.457 L42.2347 425.457 L42.2347 419.568 Z\" fill=\"#000000\" fill-rule=\"evenodd\" fill-opacity=\"1\" /><polyline clip-path=\"url(#clip3402)\" style=\"stroke:#009af9; stroke-width:4; stroke-opacity:1; fill:none\" points=\"\n",
       "  297.978,1384.23 338.691,1384.23 379.404,1384.23 420.117,1384.23 460.829,1384.23 501.542,1384.23 542.255,1384.23 582.968,1384.23 623.681,1384.23 664.394,1384.23 \n",
       "  705.107,1384.23 745.819,1384.23 786.532,1384.23 827.245,1384.23 867.958,1384.23 908.671,1384.23 949.384,1384.23 990.097,1384.23 1030.81,1384.23 1071.52,1384.23 \n",
       "  1112.24,1384.23 1152.95,1332.56 1193.66,1091.68 1234.37,909.828 1275.09,772.722 1315.8,669.302 1356.51,733.291 1397.23,842.259 1437.94,924.455 1478.65,986.457 \n",
       "  1519.36,1033.22 1560.08,1068.5 1600.79,1095.11 1641.5,1115.19 1682.22,1130.33 1722.93,1141.75 1763.64,1150.36 1804.35,1156.86 1845.07,1161.76 1885.78,1165.46 \n",
       "  1926.49,1168.25 1967.21,1170.35 2007.92,1171.94 2048.63,1173.14 2089.34,1174.04 2130.06,1174.72 2170.77,1175.24 2211.48,1175.62 2252.2,1175.92 2292.91,1176.14 \n",
       "  \n",
       "  \"/>\n",
       "<polyline clip-path=\"url(#clip3402)\" style=\"stroke:#e26f46; stroke-width:4; stroke-opacity:1; fill:none\" points=\"\n",
       "  297.978,1384.23 338.691,1384.23 379.404,1384.23 420.117,1384.23 460.829,1384.23 501.542,1384.23 542.255,1384.23 582.968,1384.23 623.681,1384.23 664.394,1384.23 \n",
       "  705.107,1384.23 745.819,1384.23 786.532,1384.23 827.245,1384.23 867.958,1384.23 908.671,1384.23 949.384,1384.23 990.097,1384.23 1030.81,1384.23 1071.52,1384.23 \n",
       "  1112.24,1384.23 1152.95,1384.23 1193.66,1384.24 1234.37,1384.23 1275.09,1384.23 1315.8,1384.23 1356.51,1202.22 1397.23,987.127 1437.94,824.877 1478.65,702.49 \n",
       "  1519.36,610.172 1560.08,540.536 1600.79,488.008 1641.5,448.386 1682.22,418.498 1722.93,395.954 1763.64,378.948 1804.35,366.12 1845.07,356.445 1885.78,349.146 \n",
       "  1926.49,343.64 1967.21,339.487 2007.92,336.355 2048.63,333.992 2089.34,332.21 2130.06,330.865 2170.77,329.851 2211.48,329.086 2252.2,328.509 2292.91,328.074 \n",
       "  \n",
       "  \"/>\n",
       "<polyline clip-path=\"url(#clip3402)\" style=\"stroke:#3da44d; stroke-width:4; stroke-opacity:1; fill:none\" points=\"\n",
       "  297.978,86.1873 338.691,86.1873 379.404,86.1873 420.117,86.1873 460.829,86.1873 501.542,86.1873 542.255,86.1873 582.968,86.1873 623.681,86.1873 664.394,86.1873 \n",
       "  705.107,86.1873 745.819,86.1873 786.532,86.1873 827.245,86.1873 867.958,86.1873 908.671,86.1873 949.384,86.1873 990.097,86.1873 1030.81,86.1873 1071.52,86.1857 \n",
       "  1112.24,86.1873 1152.95,137.865 1193.66,378.732 1234.37,560.593 1275.09,697.699 1315.8,801.119 1356.51,919.141 1397.23,1025.27 1437.94,1105.32 1478.65,1165.71 \n",
       "  1519.36,1211.26 1560.08,1245.62 1600.79,1271.53 1641.5,1291.08 1682.22,1305.83 1722.93,1316.95 1763.64,1325.34 1804.35,1331.67 1845.07,1336.45 1885.78,1340.05 \n",
       "  1926.49,1342.76 1967.21,1344.81 2007.92,1346.36 2048.63,1347.52 2089.34,1348.4 2130.06,1349.07 2170.77,1349.57 2211.48,1349.95 2252.2,1350.23 2292.91,1350.45 \n",
       "  \n",
       "  \"/>\n",
       "<path clip-path=\"url(#clip3400)\" d=\"\n",
       "M1965.09 1002.75 L2280.76 1002.75 L2280.76 760.832 L1965.09 760.832  Z\n",
       "  \" fill=\"#ffffff\" fill-rule=\"evenodd\" fill-opacity=\"1\"/>\n",
       "<polyline clip-path=\"url(#clip3400)\" style=\"stroke:#000000; stroke-width:4; stroke-opacity:1; fill:none\" points=\"\n",
       "  1965.09,1002.75 2280.76,1002.75 2280.76,760.832 1965.09,760.832 1965.09,1002.75 \n",
       "  \"/>\n",
       "<polyline clip-path=\"url(#clip3400)\" style=\"stroke:#009af9; stroke-width:4; stroke-opacity:1; fill:none\" points=\"\n",
       "  1989.09,821.312 2133.09,821.312 \n",
       "  \"/>\n",
       "<path clip-path=\"url(#clip3400)\" d=\"M 0 0 M2181.74 812.666 L2172.36 825.282 L2182.22 838.592 L2177.2 838.592 L2169.65 828.407 L2162.11 838.592 L2157.09 838.592 L2167.15 825.027 L2157.94 812.666 L2162.96 812.666 L2169.84 821.902 L2176.71 812.666 L2181.74 812.666 Z\" fill=\"#000000\" fill-rule=\"evenodd\" fill-opacity=\"1\" /><path clip-path=\"url(#clip3400)\" d=\"M 0 0 M2206.39 846.462 L2206.39 849.773 L2181.76 849.773 L2181.76 846.462 L2206.39 846.462 Z\" fill=\"#000000\" fill-rule=\"evenodd\" fill-opacity=\"1\" /><path clip-path=\"url(#clip3400)\" d=\"M 0 0 M2212.27 834.657 L2219.91 834.657 L2219.91 808.291 L2211.6 809.958 L2211.6 805.699 L2219.86 804.032 L2224.54 804.032 L2224.54 834.657 L2232.18 834.657 L2232.18 838.592 L2212.27 838.592 L2212.27 834.657 Z\" fill=\"#000000\" fill-rule=\"evenodd\" fill-opacity=\"1\" /><polyline clip-path=\"url(#clip3400)\" style=\"stroke:#e26f46; stroke-width:4; stroke-opacity:1; fill:none\" points=\"\n",
       "  1989.09,881.792 2133.09,881.792 \n",
       "  \"/>\n",
       "<path clip-path=\"url(#clip3400)\" d=\"M 0 0 M2181.74 873.146 L2172.36 885.762 L2182.22 899.072 L2177.2 899.072 L2169.65 888.887 L2162.11 899.072 L2157.09 899.072 L2167.15 885.507 L2157.94 873.146 L2162.96 873.146 L2169.84 882.382 L2176.71 873.146 L2181.74 873.146 Z\" fill=\"#000000\" fill-rule=\"evenodd\" fill-opacity=\"1\" /><path clip-path=\"url(#clip3400)\" d=\"M 0 0 M2206.39 906.942 L2206.39 910.253 L2181.76 910.253 L2181.76 906.942 L2206.39 906.942 Z\" fill=\"#000000\" fill-rule=\"evenodd\" fill-opacity=\"1\" /><path clip-path=\"url(#clip3400)\" d=\"M 0 0 M2215.49 895.137 L2231.81 895.137 L2231.81 899.072 L2209.86 899.072 L2209.86 895.137 Q2212.52 892.382 2217.11 887.753 Q2221.71 883.1 2222.89 881.757 Q2225.14 879.234 2226.02 877.498 Q2226.92 875.739 2226.92 874.049 Q2226.92 871.294 2224.98 869.558 Q2223.06 867.822 2219.96 867.822 Q2217.76 867.822 2215.3 868.586 Q2212.87 869.35 2210.09 870.901 L2210.09 866.179 Q2212.92 865.045 2215.37 864.466 Q2217.83 863.887 2219.86 863.887 Q2225.23 863.887 2228.43 866.572 Q2231.62 869.257 2231.62 873.748 Q2231.62 875.878 2230.81 877.799 Q2230.02 879.697 2227.92 882.29 Q2227.34 882.961 2224.24 886.179 Q2221.14 889.373 2215.49 895.137 Z\" fill=\"#000000\" fill-rule=\"evenodd\" fill-opacity=\"1\" /><polyline clip-path=\"url(#clip3400)\" style=\"stroke:#3da44d; stroke-width:4; stroke-opacity:1; fill:none\" points=\"\n",
       "  1989.09,942.272 2133.09,942.272 \n",
       "  \"/>\n",
       "<path clip-path=\"url(#clip3400)\" d=\"M 0 0 M2181.74 933.626 L2172.36 946.242 L2182.22 959.552 L2177.2 959.552 L2169.65 949.367 L2162.11 959.552 L2157.09 959.552 L2167.15 945.987 L2157.94 933.626 L2162.96 933.626 L2169.84 942.862 L2176.71 933.626 L2181.74 933.626 Z\" fill=\"#000000\" fill-rule=\"evenodd\" fill-opacity=\"1\" /><path clip-path=\"url(#clip3400)\" d=\"M 0 0 M2206.39 967.422 L2206.39 970.733 L2181.76 970.733 L2181.76 967.422 L2206.39 967.422 Z\" fill=\"#000000\" fill-rule=\"evenodd\" fill-opacity=\"1\" /><path clip-path=\"url(#clip3400)\" d=\"M 0 0 M2225.63 940.918 Q2228.98 941.636 2230.86 943.904 Q2232.76 946.173 2232.76 949.506 Q2232.76 954.622 2229.24 957.423 Q2225.72 960.223 2219.24 960.223 Q2217.06 960.223 2214.75 959.784 Q2212.46 959.367 2210 958.51 L2210 953.997 Q2211.95 955.131 2214.26 955.71 Q2216.58 956.288 2219.1 956.288 Q2223.5 956.288 2225.79 954.552 Q2228.1 952.816 2228.1 949.506 Q2228.1 946.45 2225.95 944.737 Q2223.82 943.001 2220 943.001 L2215.97 943.001 L2215.97 939.159 L2220.19 939.159 Q2223.64 939.159 2225.46 937.793 Q2227.29 936.404 2227.29 933.812 Q2227.29 931.15 2225.39 929.737 Q2223.52 928.302 2220 928.302 Q2218.08 928.302 2215.88 928.719 Q2213.68 929.136 2211.04 930.015 L2211.04 925.849 Q2213.71 925.108 2216.02 924.737 Q2218.36 924.367 2220.42 924.367 Q2225.74 924.367 2228.84 926.798 Q2231.95 929.205 2231.95 933.325 Q2231.95 936.196 2230.3 938.186 Q2228.66 940.154 2225.63 940.918 Z\" fill=\"#000000\" fill-rule=\"evenodd\" fill-opacity=\"1\" /></svg>\n"
      ]
     },
     "execution_count": 17,
     "metadata": {},
     "output_type": "execute_result"
    }
   ],
   "source": [
    "plot(lambda, x_values[:,1], xaxis = :log, label = \"x_1\", legend = :right)\n",
    "plot!(lambda, x_values[:,2], xaxis = :log, label = \"x_2\", legend = :right)\n",
    "plot!(lambda, x_values[:,3], xaxis = :log, label = \"x_3\", legend = :right)\n",
    "xlabel!(\"Lambda\")\n",
    "ylabel!(\"Fraction of investment\")"
   ]
  }
 ],
 "metadata": {
  "kernelspec": {
   "display_name": "Julia 1.4.1",
   "language": "julia",
   "name": "julia-1.4"
  },
  "language_info": {
   "file_extension": ".jl",
   "mimetype": "application/julia",
   "name": "julia",
   "version": "1.4.1"
  },
  "toc": {
   "base_numbering": 1,
   "nav_menu": {},
   "number_sections": false,
   "sideBar": true,
   "skip_h1_title": false,
   "title_cell": "Table of Contents",
   "title_sidebar": "Contents",
   "toc_cell": false,
   "toc_position": {},
   "toc_section_display": true,
   "toc_window_display": false
  }
 },
 "nbformat": 4,
 "nbformat_minor": 4
}
