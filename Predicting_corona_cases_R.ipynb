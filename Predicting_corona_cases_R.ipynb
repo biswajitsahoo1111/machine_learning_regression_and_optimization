{
 "cells": [
  {
   "cell_type": "markdown",
   "metadata": {},
   "source": [
    "# Predicting Corona Cases in New York\n",
    "\n",
    "In this notebook, we will use data made available by [New York Times](https://github.com/nytimes/covid-19-data). We will use `piecewise linear regression` to predict number of covid cases in New York. Data collection for this example is an ongoing process. For our study, we have taken data from March 1, 2020 to June 16, 2020."
   ]
  },
  {
   "cell_type": "code",
   "execution_count": 1,
   "metadata": {},
   "outputs": [],
   "source": [
    "library(segmented)"
   ]
  },
  {
   "cell_type": "code",
   "execution_count": 2,
   "metadata": {},
   "outputs": [],
   "source": [
    "data = read.csv(\"https://raw.githubusercontent.com/nytimes/covid-19-data/master/us-states.csv\", header = T)\n",
    "ny_data= data[data$state== \"New York\",]\n",
    "ny_data = ny_data[1:106,]               # We use data From March 1, 2020 to June 16, 2020"
   ]
  },
  {
   "cell_type": "code",
   "execution_count": 3,
   "metadata": {},
   "outputs": [
    {
     "data": {
      "text/html": [
       "<table>\n",
       "<caption>A data.frame: 6 × 5</caption>\n",
       "<thead>\n",
       "\t<tr><th></th><th scope=col>date</th><th scope=col>state</th><th scope=col>fips</th><th scope=col>cases</th><th scope=col>deaths</th></tr>\n",
       "\t<tr><th></th><th scope=col>&lt;chr&gt;</th><th scope=col>&lt;chr&gt;</th><th scope=col>&lt;int&gt;</th><th scope=col>&lt;int&gt;</th><th scope=col>&lt;int&gt;</th></tr>\n",
       "</thead>\n",
       "<tbody>\n",
       "\t<tr><th scope=row>247</th><td>2020-03-01</td><td>New York</td><td>36</td><td> 1</td><td>0</td></tr>\n",
       "\t<tr><th scope=row>262</th><td>2020-03-02</td><td>New York</td><td>36</td><td> 1</td><td>0</td></tr>\n",
       "\t<tr><th scope=row>277</th><td>2020-03-03</td><td>New York</td><td>36</td><td> 2</td><td>0</td></tr>\n",
       "\t<tr><th scope=row>294</th><td>2020-03-04</td><td>New York</td><td>36</td><td>11</td><td>0</td></tr>\n",
       "\t<tr><th scope=row>314</th><td>2020-03-05</td><td>New York</td><td>36</td><td>22</td><td>0</td></tr>\n",
       "\t<tr><th scope=row>339</th><td>2020-03-06</td><td>New York</td><td>36</td><td>44</td><td>0</td></tr>\n",
       "</tbody>\n",
       "</table>\n"
      ],
      "text/latex": [
       "A data.frame: 6 × 5\n",
       "\\begin{tabular}{r|lllll}\n",
       "  & date & state & fips & cases & deaths\\\\\n",
       "  & <chr> & <chr> & <int> & <int> & <int>\\\\\n",
       "\\hline\n",
       "\t247 & 2020-03-01 & New York & 36 &  1 & 0\\\\\n",
       "\t262 & 2020-03-02 & New York & 36 &  1 & 0\\\\\n",
       "\t277 & 2020-03-03 & New York & 36 &  2 & 0\\\\\n",
       "\t294 & 2020-03-04 & New York & 36 & 11 & 0\\\\\n",
       "\t314 & 2020-03-05 & New York & 36 & 22 & 0\\\\\n",
       "\t339 & 2020-03-06 & New York & 36 & 44 & 0\\\\\n",
       "\\end{tabular}\n"
      ],
      "text/markdown": [
       "\n",
       "A data.frame: 6 × 5\n",
       "\n",
       "| <!--/--> | date &lt;chr&gt; | state &lt;chr&gt; | fips &lt;int&gt; | cases &lt;int&gt; | deaths &lt;int&gt; |\n",
       "|---|---|---|---|---|---|\n",
       "| 247 | 2020-03-01 | New York | 36 |  1 | 0 |\n",
       "| 262 | 2020-03-02 | New York | 36 |  1 | 0 |\n",
       "| 277 | 2020-03-03 | New York | 36 |  2 | 0 |\n",
       "| 294 | 2020-03-04 | New York | 36 | 11 | 0 |\n",
       "| 314 | 2020-03-05 | New York | 36 | 22 | 0 |\n",
       "| 339 | 2020-03-06 | New York | 36 | 44 | 0 |\n",
       "\n"
      ],
      "text/plain": [
       "    date       state    fips cases deaths\n",
       "247 2020-03-01 New York 36    1    0     \n",
       "262 2020-03-02 New York 36    1    0     \n",
       "277 2020-03-03 New York 36    2    0     \n",
       "294 2020-03-04 New York 36   11    0     \n",
       "314 2020-03-05 New York 36   22    0     \n",
       "339 2020-03-06 New York 36   44    0     "
      ]
     },
     "metadata": {},
     "output_type": "display_data"
    }
   ],
   "source": [
    "head(ny_data)"
   ]
  },
  {
   "cell_type": "code",
   "execution_count": 4,
   "metadata": {},
   "outputs": [
    {
     "data": {
      "text/html": [
       "<table>\n",
       "<caption>A data.frame: 6 × 5</caption>\n",
       "<thead>\n",
       "\t<tr><th></th><th scope=col>date</th><th scope=col>state</th><th scope=col>fips</th><th scope=col>cases</th><th scope=col>deaths</th></tr>\n",
       "\t<tr><th></th><th scope=col>&lt;chr&gt;</th><th scope=col>&lt;chr&gt;</th><th scope=col>&lt;int&gt;</th><th scope=col>&lt;int&gt;</th><th scope=col>&lt;int&gt;</th></tr>\n",
       "</thead>\n",
       "<tbody>\n",
       "\t<tr><th scope=row>5438</th><td>2020-06-09</td><td>New York</td><td>36</td><td>384281</td><td>30309</td></tr>\n",
       "\t<tr><th scope=row>5493</th><td>2020-06-10</td><td>New York</td><td>36</td><td>384945</td><td>30376</td></tr>\n",
       "\t<tr><th scope=row>5548</th><td>2020-06-11</td><td>New York</td><td>36</td><td>385669</td><td>30431</td></tr>\n",
       "\t<tr><th scope=row>5603</th><td>2020-06-12</td><td>New York</td><td>36</td><td>386490</td><td>30511</td></tr>\n",
       "\t<tr><th scope=row>5658</th><td>2020-06-13</td><td>New York</td><td>36</td><td>387402</td><td>30565</td></tr>\n",
       "\t<tr><th scope=row>5713</th><td>2020-06-14</td><td>New York</td><td>36</td><td>388096</td><td>30605</td></tr>\n",
       "</tbody>\n",
       "</table>\n"
      ],
      "text/latex": [
       "A data.frame: 6 × 5\n",
       "\\begin{tabular}{r|lllll}\n",
       "  & date & state & fips & cases & deaths\\\\\n",
       "  & <chr> & <chr> & <int> & <int> & <int>\\\\\n",
       "\\hline\n",
       "\t5438 & 2020-06-09 & New York & 36 & 384281 & 30309\\\\\n",
       "\t5493 & 2020-06-10 & New York & 36 & 384945 & 30376\\\\\n",
       "\t5548 & 2020-06-11 & New York & 36 & 385669 & 30431\\\\\n",
       "\t5603 & 2020-06-12 & New York & 36 & 386490 & 30511\\\\\n",
       "\t5658 & 2020-06-13 & New York & 36 & 387402 & 30565\\\\\n",
       "\t5713 & 2020-06-14 & New York & 36 & 388096 & 30605\\\\\n",
       "\\end{tabular}\n"
      ],
      "text/markdown": [
       "\n",
       "A data.frame: 6 × 5\n",
       "\n",
       "| <!--/--> | date &lt;chr&gt; | state &lt;chr&gt; | fips &lt;int&gt; | cases &lt;int&gt; | deaths &lt;int&gt; |\n",
       "|---|---|---|---|---|---|\n",
       "| 5438 | 2020-06-09 | New York | 36 | 384281 | 30309 |\n",
       "| 5493 | 2020-06-10 | New York | 36 | 384945 | 30376 |\n",
       "| 5548 | 2020-06-11 | New York | 36 | 385669 | 30431 |\n",
       "| 5603 | 2020-06-12 | New York | 36 | 386490 | 30511 |\n",
       "| 5658 | 2020-06-13 | New York | 36 | 387402 | 30565 |\n",
       "| 5713 | 2020-06-14 | New York | 36 | 388096 | 30605 |\n",
       "\n"
      ],
      "text/plain": [
       "     date       state    fips cases  deaths\n",
       "5438 2020-06-09 New York 36   384281 30309 \n",
       "5493 2020-06-10 New York 36   384945 30376 \n",
       "5548 2020-06-11 New York 36   385669 30431 \n",
       "5603 2020-06-12 New York 36   386490 30511 \n",
       "5658 2020-06-13 New York 36   387402 30565 \n",
       "5713 2020-06-14 New York 36   388096 30605 "
      ]
     },
     "metadata": {},
     "output_type": "display_data"
    }
   ],
   "source": [
    "tail(ny_data)"
   ]
  },
  {
   "cell_type": "markdown",
   "metadata": {},
   "source": [
    "## Train test split\n",
    "\n",
    "We take data for first 90 days to fit the piecewise linear model. Then we use the model to predict number of cases for the next 16 days."
   ]
  },
  {
   "cell_type": "code",
   "execution_count": 5,
   "metadata": {},
   "outputs": [],
   "source": [
    "train_indices = 1:90\n",
    "test_indices =  91:dim(ny_data)[1]\n",
    "cases_data = ny_data$cases\n",
    "cases_train = cases_data[train_indices]\n",
    "cases_test = cases_data[test_indices]\n",
    "train_df = data.frame(time = train_indices, cases = cases_train)\n",
    "test_df = data.frame(time = test_indices, cases = cases_test)"
   ]
  },
  {
   "cell_type": "markdown",
   "metadata": {},
   "source": [
    "## Fit linear regression model"
   ]
  },
  {
   "cell_type": "code",
   "execution_count": 6,
   "metadata": {},
   "outputs": [],
   "source": [
    "reg_model = lm(cases~time, data = train_df)\n",
    "reg_pred = predict(reg_model, newdata = test_df)         # Prediction using linear regression"
   ]
  },
  {
   "cell_type": "markdown",
   "metadata": {},
   "source": [
    "## Fit piecewise linear regression model"
   ]
  },
  {
   "cell_type": "code",
   "execution_count": 7,
   "metadata": {},
   "outputs": [],
   "source": [
    "seg_model = segmented(reg_model, seg.Z = ~time, npsi = 2)\n",
    "seg_pred = predict(seg_model, newdata = test_df)        # Prediction using piecewise linear regression"
   ]
  },
  {
   "cell_type": "markdown",
   "metadata": {},
   "source": [
    "## Plot results"
   ]
  },
  {
   "cell_type": "code",
   "execution_count": 8,
   "metadata": {},
   "outputs": [
    {
     "data": {
      "image/png": "[encoded data removed]",
      "text/plain": [
       "Plot with title \"Data for New York city\""
      ]
     },
     "metadata": {
      "image/png": {
       "height": 480,
       "width": 840
      },
      "text/plain": {
       "height": 480,
       "width": 840
      }
     },
     "output_type": "display_data"
    }
   ],
   "source": [
    "options(repr.plot.width=14, repr.plot.height=8)  # Figure size\n",
    "op = par(cex = 1.5)\n",
    "# Plot actual training data\n",
    "plot(train_df$time, train_df$cases, \n",
    "     xlim = c(train_df$time[1], test_df$time[dim(test_df)[1]]),\n",
    "     ylim = c(train_df$cases[1]-40000, test_df$cases[dim(test_df)[1]]+125000),\n",
    "     xlab = \"Day Number\", ylab = \"Total number of cases\",\n",
    "     main = \"Data for New York city\")\n",
    "\n",
    "# Plot actual test data\n",
    "points(test_df$time, test_df$cases, col = \"red\")\n",
    "\n",
    "# Plot linear regression fit\n",
    "points(train_df$time, fitted.values(reg_model), pch = 17)\n",
    "\n",
    "# Plot Linear regression prediction\n",
    "points(test_df$time, reg_pred, col = \"red\",pch = 17)\n",
    "\n",
    "# Plot peicewise linear regression fit\n",
    "points(train_df$time, fitted(seg_model), pch = 20 )\n",
    "\n",
    "# Plot piecewise linear regression prediction\n",
    "points(test_df$time, seg_pred, pch = 20, col = \"red\")\n",
    "\n",
    "# Show legend\n",
    "op = par(cex = 1.5)\n",
    "legend(\"topleft\",legend= c(\"Actual data (Training)\", \"Actual data (Test)\",\n",
    "                         \"Linear regression (Training)\",\n",
    "                         \"Linear regression (Test)\",\n",
    "                         \"Piecewise linear regression (Training)\",\n",
    "                         \"Piecewise linear regression (Test)\"),\n",
    "       col = rep(c(\"black\",\"red\"),times = 2),\n",
    "       pch = c(1,1,17,17,20,20), bty = \"n\")"
   ]
  },
  {
   "cell_type": "markdown",
   "metadata": {},
   "source": [
    "This example also shows some of the limitations of `simple linear regression`. From the above plot it can be seen that `linear regression` predicts number of cases to be negative at the initial stages of virus spread which is impractical."
   ]
  },
  {
   "cell_type": "code",
   "execution_count": 9,
   "metadata": {},
   "outputs": [
    {
     "data": {
      "text/plain": [
       "R version 4.0.1 (2020-06-06)\n",
       "Platform: x86_64-w64-mingw32/x64 (64-bit)\n",
       "Running under: Windows 7 x64 (build 7601) Service Pack 1\n",
       "\n",
       "Matrix products: default\n",
       "\n",
       "locale:\n",
       "[1] LC_COLLATE=English_United Kingdom.1252 \n",
       "[2] LC_CTYPE=English_United Kingdom.1252   \n",
       "[3] LC_MONETARY=English_United Kingdom.1252\n",
       "[4] LC_NUMERIC=C                           \n",
       "[5] LC_TIME=English_United Kingdom.1252    \n",
       "\n",
       "attached base packages:\n",
       "[1] stats     graphics  grDevices utils     datasets  methods   base     \n",
       "\n",
       "other attached packages:\n",
       "[1] segmented_1.1-0\n",
       "\n",
       "loaded via a namespace (and not attached):\n",
       " [1] Rcpp_1.0.4.6    digest_0.6.25   crayon_1.3.4    IRdisplay_0.7.0\n",
       " [5] repr_1.1.0      jsonlite_1.6.1  evaluate_0.14   pillar_1.4.3   \n",
       " [9] rlang_0.4.5     uuid_0.1-4      vctrs_0.2.4     IRkernel_1.1   \n",
       "[13] splines_4.0.1   tools_4.0.1     compiler_4.0.1  base64enc_0.1-3\n",
       "[17] htmltools_0.4.0 pbdZMQ_0.3-3   "
      ]
     },
     "metadata": {},
     "output_type": "display_data"
    }
   ],
   "source": [
    "sessionInfo()"
   ]
  }
 ],
 "metadata": {
  "kernelspec": {
   "display_name": "R",
   "language": "R",
   "name": "ir"
  },
  "language_info": {
   "codemirror_mode": "r",
   "file_extension": ".r",
   "mimetype": "text/x-r-source",
   "name": "R",
   "pygments_lexer": "r",
   "version": "4.0.1"
  },
  "toc": {
   "base_numbering": 1,
   "nav_menu": {},
   "number_sections": false,
   "sideBar": true,
   "skip_h1_title": false,
   "title_cell": "Table of Contents",
   "title_sidebar": "Contents",
   "toc_cell": false,
   "toc_position": {},
   "toc_section_display": true,
   "toc_window_display": false
  }
 },
 "nbformat": 4,
 "nbformat_minor": 4
}
