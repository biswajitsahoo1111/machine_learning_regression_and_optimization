{
 "cells": [
  {
   "cell_type": "markdown",
   "metadata": {},
   "source": [
    "# Portfolio Optimization\n",
    "In this notebook, we will first solve the problem discussed in [this lecture note](https://www2.isye.gatech.edu/~sahmed/isye6669/notes/portfolio). Then using the same data, we will solve three different optimization problems commonly encountered in Portfolio optimization.\n",
    "\n",
    "1. Exact problem discussed in the lecture note\n",
    "2. Maximizing mean return\n",
    "3. Minimizing risk\n",
    "4. Simultaneously maximizing mean and minimizing risk"
   ]
  },
  {
   "cell_type": "markdown",
   "metadata": {},
   "source": [
    "Import relevant libraries."
   ]
  },
  {
   "cell_type": "code",
   "execution_count": 1,
   "metadata": {},
   "outputs": [],
   "source": [
    "import  cvxpy as cp\n",
    "import numpy as np\n",
    "import pandas as pd\n",
    "import matplotlib.pyplot as plt"
   ]
  },
  {
   "cell_type": "markdown",
   "metadata": {},
   "source": [
    "## 1. Problem discussed in the lecture note\n",
    "The dataset used in this notebook can be found in the lecture notes of [Prof. Shabbir Ahmed](https://www2.isye.gatech.edu/people/faculty/Shabbir_Ahmed/). The lecture note can be found at [this link](https://www2.isye.gatech.edu/~sahmed/isye6669/notes/portfolio).\n",
    "\n",
    "Read the data."
   ]
  },
  {
   "cell_type": "code",
   "execution_count": 2,
   "metadata": {},
   "outputs": [
    {
     "data": {
      "text/plain": [
       "(13, 3)"
      ]
     },
     "execution_count": 2,
     "metadata": {},
     "output_type": "execute_result"
    }
   ],
   "source": [
    "data = pd.read_csv(\"portfolio_data_short_paper.csv\")\n",
    "data.shape"
   ]
  },
  {
   "cell_type": "code",
   "execution_count": 3,
   "metadata": {},
   "outputs": [
    {
     "data": {
      "text/html": [
       "<div>\n",
       "<style scoped>\n",
       "    .dataframe tbody tr th:only-of-type {\n",
       "        vertical-align: middle;\n",
       "    }\n",
       "\n",
       "    .dataframe tbody tr th {\n",
       "        vertical-align: top;\n",
       "    }\n",
       "\n",
       "    .dataframe thead th {\n",
       "        text-align: right;\n",
       "    }\n",
       "</style>\n",
       "<table border=\"1\" class=\"dataframe\">\n",
       "  <thead>\n",
       "    <tr style=\"text-align: right;\">\n",
       "      <th></th>\n",
       "      <th>IBM</th>\n",
       "      <th>WMT</th>\n",
       "      <th>SEHI</th>\n",
       "    </tr>\n",
       "  </thead>\n",
       "  <tbody>\n",
       "    <tr>\n",
       "      <th>0</th>\n",
       "      <td>93.043</td>\n",
       "      <td>51.826</td>\n",
       "      <td>1.063</td>\n",
       "    </tr>\n",
       "    <tr>\n",
       "      <th>1</th>\n",
       "      <td>84.585</td>\n",
       "      <td>52.823</td>\n",
       "      <td>0.938</td>\n",
       "    </tr>\n",
       "    <tr>\n",
       "      <th>2</th>\n",
       "      <td>111.453</td>\n",
       "      <td>56.477</td>\n",
       "      <td>1.000</td>\n",
       "    </tr>\n",
       "    <tr>\n",
       "      <th>3</th>\n",
       "      <td>99.525</td>\n",
       "      <td>49.805</td>\n",
       "      <td>0.938</td>\n",
       "    </tr>\n",
       "    <tr>\n",
       "      <th>4</th>\n",
       "      <td>95.819</td>\n",
       "      <td>50.287</td>\n",
       "      <td>1.438</td>\n",
       "    </tr>\n",
       "    <tr>\n",
       "      <th>5</th>\n",
       "      <td>114.708</td>\n",
       "      <td>51.521</td>\n",
       "      <td>1.700</td>\n",
       "    </tr>\n",
       "    <tr>\n",
       "      <th>6</th>\n",
       "      <td>111.515</td>\n",
       "      <td>51.531</td>\n",
       "      <td>2.540</td>\n",
       "    </tr>\n",
       "    <tr>\n",
       "      <th>7</th>\n",
       "      <td>113.211</td>\n",
       "      <td>48.664</td>\n",
       "      <td>2.390</td>\n",
       "    </tr>\n",
       "    <tr>\n",
       "      <th>8</th>\n",
       "      <td>104.942</td>\n",
       "      <td>55.744</td>\n",
       "      <td>3.120</td>\n",
       "    </tr>\n",
       "    <tr>\n",
       "      <th>9</th>\n",
       "      <td>99.827</td>\n",
       "      <td>47.916</td>\n",
       "      <td>2.980</td>\n",
       "    </tr>\n",
       "    <tr>\n",
       "      <th>10</th>\n",
       "      <td>91.607</td>\n",
       "      <td>49.438</td>\n",
       "      <td>1.900</td>\n",
       "    </tr>\n",
       "    <tr>\n",
       "      <th>11</th>\n",
       "      <td>107.937</td>\n",
       "      <td>51.336</td>\n",
       "      <td>1.750</td>\n",
       "    </tr>\n",
       "    <tr>\n",
       "      <th>12</th>\n",
       "      <td>115.590</td>\n",
       "      <td>55.081</td>\n",
       "      <td>1.800</td>\n",
       "    </tr>\n",
       "  </tbody>\n",
       "</table>\n",
       "</div>"
      ],
      "text/plain": [
       "        IBM     WMT   SEHI\n",
       "0    93.043  51.826  1.063\n",
       "1    84.585  52.823  0.938\n",
       "2   111.453  56.477  1.000\n",
       "3    99.525  49.805  0.938\n",
       "4    95.819  50.287  1.438\n",
       "5   114.708  51.521  1.700\n",
       "6   111.515  51.531  2.540\n",
       "7   113.211  48.664  2.390\n",
       "8   104.942  55.744  3.120\n",
       "9    99.827  47.916  2.980\n",
       "10   91.607  49.438  1.900\n",
       "11  107.937  51.336  1.750\n",
       "12  115.590  55.081  1.800"
      ]
     },
     "execution_count": 3,
     "metadata": {},
     "output_type": "execute_result"
    }
   ],
   "source": [
    "data"
   ]
  },
  {
   "cell_type": "markdown",
   "metadata": {},
   "source": [
    "### Calculate change in stock price\n",
    "Change in stock price is calculated by subtracting a given day's stock price from following day's stock price."
   ]
  },
  {
   "cell_type": "code",
   "execution_count": 4,
   "metadata": {},
   "outputs": [
    {
     "data": {
      "text/html": [
       "<div>\n",
       "<style scoped>\n",
       "    .dataframe tbody tr th:only-of-type {\n",
       "        vertical-align: middle;\n",
       "    }\n",
       "\n",
       "    .dataframe tbody tr th {\n",
       "        vertical-align: top;\n",
       "    }\n",
       "\n",
       "    .dataframe thead th {\n",
       "        text-align: right;\n",
       "    }\n",
       "</style>\n",
       "<table border=\"1\" class=\"dataframe\">\n",
       "  <thead>\n",
       "    <tr style=\"text-align: right;\">\n",
       "      <th></th>\n",
       "      <th>IBM</th>\n",
       "      <th>WMT</th>\n",
       "      <th>SEHI</th>\n",
       "    </tr>\n",
       "  </thead>\n",
       "  <tbody>\n",
       "    <tr>\n",
       "      <th>1</th>\n",
       "      <td>-8.458</td>\n",
       "      <td>0.997</td>\n",
       "      <td>-0.125</td>\n",
       "    </tr>\n",
       "    <tr>\n",
       "      <th>2</th>\n",
       "      <td>26.868</td>\n",
       "      <td>3.654</td>\n",
       "      <td>0.062</td>\n",
       "    </tr>\n",
       "    <tr>\n",
       "      <th>3</th>\n",
       "      <td>-11.928</td>\n",
       "      <td>-6.672</td>\n",
       "      <td>-0.062</td>\n",
       "    </tr>\n",
       "    <tr>\n",
       "      <th>4</th>\n",
       "      <td>-3.706</td>\n",
       "      <td>0.482</td>\n",
       "      <td>0.500</td>\n",
       "    </tr>\n",
       "    <tr>\n",
       "      <th>5</th>\n",
       "      <td>18.889</td>\n",
       "      <td>1.234</td>\n",
       "      <td>0.262</td>\n",
       "    </tr>\n",
       "    <tr>\n",
       "      <th>6</th>\n",
       "      <td>-3.193</td>\n",
       "      <td>0.010</td>\n",
       "      <td>0.840</td>\n",
       "    </tr>\n",
       "    <tr>\n",
       "      <th>7</th>\n",
       "      <td>1.696</td>\n",
       "      <td>-2.867</td>\n",
       "      <td>-0.150</td>\n",
       "    </tr>\n",
       "    <tr>\n",
       "      <th>8</th>\n",
       "      <td>-8.269</td>\n",
       "      <td>7.080</td>\n",
       "      <td>0.730</td>\n",
       "    </tr>\n",
       "    <tr>\n",
       "      <th>9</th>\n",
       "      <td>-5.115</td>\n",
       "      <td>-7.828</td>\n",
       "      <td>-0.140</td>\n",
       "    </tr>\n",
       "    <tr>\n",
       "      <th>10</th>\n",
       "      <td>-8.220</td>\n",
       "      <td>1.522</td>\n",
       "      <td>-1.080</td>\n",
       "    </tr>\n",
       "    <tr>\n",
       "      <th>11</th>\n",
       "      <td>16.330</td>\n",
       "      <td>1.898</td>\n",
       "      <td>-0.150</td>\n",
       "    </tr>\n",
       "    <tr>\n",
       "      <th>12</th>\n",
       "      <td>7.653</td>\n",
       "      <td>3.745</td>\n",
       "      <td>0.050</td>\n",
       "    </tr>\n",
       "  </tbody>\n",
       "</table>\n",
       "</div>"
      ],
      "text/plain": [
       "       IBM    WMT   SEHI\n",
       "1   -8.458  0.997 -0.125\n",
       "2   26.868  3.654  0.062\n",
       "3  -11.928 -6.672 -0.062\n",
       "4   -3.706  0.482  0.500\n",
       "5   18.889  1.234  0.262\n",
       "6   -3.193  0.010  0.840\n",
       "7    1.696 -2.867 -0.150\n",
       "8   -8.269  7.080  0.730\n",
       "9   -5.115 -7.828 -0.140\n",
       "10  -8.220  1.522 -1.080\n",
       "11  16.330  1.898 -0.150\n",
       "12   7.653  3.745  0.050"
      ]
     },
     "execution_count": 4,
     "metadata": {},
     "output_type": "execute_result"
    }
   ],
   "source": [
    "new_data = data.diff()\n",
    "new_data = new_data.iloc[1:,:]\n",
    "new_data"
   ]
  },
  {
   "cell_type": "markdown",
   "metadata": {},
   "source": [
    "### Calculate rate of change of stock price"
   ]
  },
  {
   "cell_type": "code",
   "execution_count": 5,
   "metadata": {},
   "outputs": [
    {
     "data": {
      "text/html": [
       "<div>\n",
       "<style scoped>\n",
       "    .dataframe tbody tr th:only-of-type {\n",
       "        vertical-align: middle;\n",
       "    }\n",
       "\n",
       "    .dataframe tbody tr th {\n",
       "        vertical-align: top;\n",
       "    }\n",
       "\n",
       "    .dataframe thead th {\n",
       "        text-align: right;\n",
       "    }\n",
       "</style>\n",
       "<table border=\"1\" class=\"dataframe\">\n",
       "  <thead>\n",
       "    <tr style=\"text-align: right;\">\n",
       "      <th></th>\n",
       "      <th>IBM</th>\n",
       "      <th>WMT</th>\n",
       "      <th>SEHI</th>\n",
       "    </tr>\n",
       "  </thead>\n",
       "  <tbody>\n",
       "    <tr>\n",
       "      <th>1</th>\n",
       "      <td>-0.090904</td>\n",
       "      <td>0.019237</td>\n",
       "      <td>-0.117592</td>\n",
       "    </tr>\n",
       "    <tr>\n",
       "      <th>2</th>\n",
       "      <td>0.317645</td>\n",
       "      <td>0.069174</td>\n",
       "      <td>0.066098</td>\n",
       "    </tr>\n",
       "    <tr>\n",
       "      <th>3</th>\n",
       "      <td>-0.107023</td>\n",
       "      <td>-0.118137</td>\n",
       "      <td>-0.062000</td>\n",
       "    </tr>\n",
       "    <tr>\n",
       "      <th>4</th>\n",
       "      <td>-0.037237</td>\n",
       "      <td>0.009678</td>\n",
       "      <td>0.533049</td>\n",
       "    </tr>\n",
       "    <tr>\n",
       "      <th>5</th>\n",
       "      <td>0.197132</td>\n",
       "      <td>0.024539</td>\n",
       "      <td>0.182197</td>\n",
       "    </tr>\n",
       "    <tr>\n",
       "      <th>6</th>\n",
       "      <td>-0.027836</td>\n",
       "      <td>0.000194</td>\n",
       "      <td>0.494118</td>\n",
       "    </tr>\n",
       "    <tr>\n",
       "      <th>7</th>\n",
       "      <td>0.015209</td>\n",
       "      <td>-0.055636</td>\n",
       "      <td>-0.059055</td>\n",
       "    </tr>\n",
       "    <tr>\n",
       "      <th>8</th>\n",
       "      <td>-0.073041</td>\n",
       "      <td>0.145487</td>\n",
       "      <td>0.305439</td>\n",
       "    </tr>\n",
       "    <tr>\n",
       "      <th>9</th>\n",
       "      <td>-0.048741</td>\n",
       "      <td>-0.140428</td>\n",
       "      <td>-0.044872</td>\n",
       "    </tr>\n",
       "    <tr>\n",
       "      <th>10</th>\n",
       "      <td>-0.082342</td>\n",
       "      <td>0.031764</td>\n",
       "      <td>-0.362416</td>\n",
       "    </tr>\n",
       "    <tr>\n",
       "      <th>11</th>\n",
       "      <td>0.178261</td>\n",
       "      <td>0.038392</td>\n",
       "      <td>-0.078947</td>\n",
       "    </tr>\n",
       "    <tr>\n",
       "      <th>12</th>\n",
       "      <td>0.070902</td>\n",
       "      <td>0.072951</td>\n",
       "      <td>0.028571</td>\n",
       "    </tr>\n",
       "  </tbody>\n",
       "</table>\n",
       "</div>"
      ],
      "text/plain": [
       "         IBM       WMT      SEHI\n",
       "1  -0.090904  0.019237 -0.117592\n",
       "2   0.317645  0.069174  0.066098\n",
       "3  -0.107023 -0.118137 -0.062000\n",
       "4  -0.037237  0.009678  0.533049\n",
       "5   0.197132  0.024539  0.182197\n",
       "6  -0.027836  0.000194  0.494118\n",
       "7   0.015209 -0.055636 -0.059055\n",
       "8  -0.073041  0.145487  0.305439\n",
       "9  -0.048741 -0.140428 -0.044872\n",
       "10 -0.082342  0.031764 -0.362416\n",
       "11  0.178261  0.038392 -0.078947\n",
       "12  0.070902  0.072951  0.028571"
      ]
     },
     "execution_count": 5,
     "metadata": {},
     "output_type": "execute_result"
    }
   ],
   "source": [
    "rate_of_return = new_data / data.iloc[:-1,:].values\n",
    "rate_of_return"
   ]
  },
  {
   "cell_type": "markdown",
   "metadata": {},
   "source": [
    "### Sample covariance matrix"
   ]
  },
  {
   "cell_type": "code",
   "execution_count": 6,
   "metadata": {},
   "outputs": [
    {
     "data": {
      "text/html": [
       "<div>\n",
       "<style scoped>\n",
       "    .dataframe tbody tr th:only-of-type {\n",
       "        vertical-align: middle;\n",
       "    }\n",
       "\n",
       "    .dataframe tbody tr th {\n",
       "        vertical-align: top;\n",
       "    }\n",
       "\n",
       "    .dataframe thead th {\n",
       "        text-align: right;\n",
       "    }\n",
       "</style>\n",
       "<table border=\"1\" class=\"dataframe\">\n",
       "  <thead>\n",
       "    <tr style=\"text-align: right;\">\n",
       "      <th></th>\n",
       "      <th>IBM</th>\n",
       "      <th>WMT</th>\n",
       "      <th>SEHI</th>\n",
       "    </tr>\n",
       "  </thead>\n",
       "  <tbody>\n",
       "    <tr>\n",
       "      <th>IBM</th>\n",
       "      <td>0.018641</td>\n",
       "      <td>0.003599</td>\n",
       "      <td>0.001310</td>\n",
       "    </tr>\n",
       "    <tr>\n",
       "      <th>WMT</th>\n",
       "      <td>0.003599</td>\n",
       "      <td>0.006437</td>\n",
       "      <td>0.004887</td>\n",
       "    </tr>\n",
       "    <tr>\n",
       "      <th>SEHI</th>\n",
       "      <td>0.001310</td>\n",
       "      <td>0.004887</td>\n",
       "      <td>0.068683</td>\n",
       "    </tr>\n",
       "  </tbody>\n",
       "</table>\n",
       "</div>"
      ],
      "text/plain": [
       "           IBM       WMT      SEHI\n",
       "IBM   0.018641  0.003599  0.001310\n",
       "WMT   0.003599  0.006437  0.004887\n",
       "SEHI  0.001310  0.004887  0.068683"
      ]
     },
     "execution_count": 6,
     "metadata": {},
     "output_type": "execute_result"
    }
   ],
   "source": [
    "C = rate_of_return.cov()\n",
    "C"
   ]
  },
  {
   "cell_type": "markdown",
   "metadata": {},
   "source": [
    "Covariance matrix given in the paper is slightly different from this result."
   ]
  },
  {
   "cell_type": "markdown",
   "metadata": {},
   "source": [
    "### Mean return for each stock"
   ]
  },
  {
   "cell_type": "code",
   "execution_count": 7,
   "metadata": {},
   "outputs": [
    {
     "data": {
      "text/plain": [
       "array([0.02600215, 0.00810132, 0.07371591])"
      ]
     },
     "execution_count": 7,
     "metadata": {},
     "output_type": "execute_result"
    }
   ],
   "source": [
    "means = rate_of_return.mean(axis = 0).values\n",
    "means"
   ]
  },
  {
   "cell_type": "markdown",
   "metadata": {},
   "source": [
    "### Optimization problem of the book\n",
    "\n",
    "Notation:\n",
    "C: Covariance matrix\n",
    "\n",
    "\n",
    "Problem: \n",
    "$$\\min x^TCx$$\n",
    "s.t.\n",
    "$$e^Tx \\leq 1000$$\n",
    "$$\\bar{r}^Tx \\geq 50$$\n",
    "$$ x \\geq 0$$\n",
    "\n",
    "The solver solves problems of the following kind:\n",
    "$$ \\min x^TCx + q^T x$$\n",
    "s.t.\n",
    "$$Gx \\leq h$$\n",
    "$$Ax = b$$\n",
    "\n",
    "So we convert our constraints to a form understandable by the solver. We don't have any equality constraints. We modify all inequality constraints to less than equal to type. The matrix $G$ takes following form.\n",
    "$$\\begin{pmatrix}\n",
    "1 & 1 & 1\\\\\n",
    "-0.026 & -0.008 & -0.073\\\\\n",
    "-1 & 0 & 0\\\\\n",
    "0 & -1 & 0\\\\\n",
    "0 & 0 & -1\\\\\n",
    "\\end{pmatrix} \\begin{pmatrix} x_1 \\\\ \n",
    "x_2 \\\\\n",
    "x_3 \\end{pmatrix}\\leq \n",
    "\\begin{pmatrix}\n",
    "1000\\\\ \n",
    "-50 \\\\ \n",
    "0\\\\ \n",
    "0 \\\\ \n",
    "0 \\end{pmatrix}$$"
   ]
  },
  {
   "cell_type": "code",
   "execution_count": 8,
   "metadata": {},
   "outputs": [
    {
     "data": {
      "text/plain": [
       "array([[ 1.        ,  1.        ,  1.        ],\n",
       "       [-0.02600215, -0.00810132, -0.07371591],\n",
       "       [-1.        , -0.        , -0.        ],\n",
       "       [-0.        , -1.        , -0.        ],\n",
       "       [-0.        , -0.        , -1.        ]])"
      ]
     },
     "execution_count": 8,
     "metadata": {},
     "output_type": "execute_result"
    }
   ],
   "source": [
    "G = np.concatenate((np.array([[1, 1, 1],-means]), -np.eye(3)), axis = 0)\n",
    "G"
   ]
  },
  {
   "cell_type": "code",
   "execution_count": 9,
   "metadata": {},
   "outputs": [
    {
     "data": {
      "text/plain": [
       "array([1000,  -50,    0,    0,    0])"
      ]
     },
     "execution_count": 9,
     "metadata": {},
     "output_type": "execute_result"
    }
   ],
   "source": [
    "h = np.array([1000, -50, 0, 0, 0])\n",
    "h = np.resize(h, (5,))\n",
    "h"
   ]
  },
  {
   "cell_type": "code",
   "execution_count": 10,
   "metadata": {},
   "outputs": [
    {
     "name": "stdout",
     "output_type": "stream",
     "text": [
      "Variance is:  22634.41845654453\n",
      "Solution (x) is :  [ 4.97045504e+02 -3.09690856e-21  5.02954496e+02]\n"
     ]
    }
   ],
   "source": [
    "n = 3\n",
    "x = cp.Variable(n)\n",
    "prob = cp.Problem(cp.Minimize(cp.quad_form(x,C.values)),   # Objective\n",
    "                  [G@x <= h])                              # Constraints\n",
    "prob.solve()\n",
    "print(\"Variance is: \", prob.value)\n",
    "print(\"Solution (x) is : \", x.value)"
   ]
  },
  {
   "cell_type": "markdown",
   "metadata": {},
   "source": [
    "Obtained variance is higher than that of the paper. This is because the covariance matrix given in the paper is slightly different that sample covariance matrix."
   ]
  },
  {
   "cell_type": "markdown",
   "metadata": {},
   "source": [
    "## 2. Maximizing mean return\n",
    "\n",
    "$m$ : mean \n",
    "\n",
    "$ e= [1, 1, 1]^T$\n",
    "\n",
    "Problem:\n",
    "$$\\max x^Tm$$\n",
    "s.t.\n",
    "$$e^Tx = 1$$\n",
    "$$x^TCx \\leq \\sigma_0^2$$\n",
    "$$ x \\geq 0$$\n",
    "\n",
    "We have taken $\\sigma_0^2 = 130$."
   ]
  },
  {
   "cell_type": "code",
   "execution_count": 11,
   "metadata": {},
   "outputs": [
    {
     "name": "stdout",
     "output_type": "stream",
     "text": [
      "Mean return is:  0.073715909403193\n",
      "Solution (x) is:  [5.04533113e-10 9.86392903e-10 9.99999999e-01]\n"
     ]
    }
   ],
   "source": [
    "e = np.ones(shape = (1,3))\n",
    "n = 3\n",
    "x_2 = cp.Variable(n)\n",
    "prob_2 = cp.Problem(cp.Maximize(x_2.T @ means),\n",
    "                      [e @ x_2 == 1,                            # First constraint\n",
    "                       cp.quad_form(x_2,C.values) <= 130,       # Second constraint\n",
    "                       -np.eye(3) @ x_2 <= np.array([0,0,0])])  # Third constraint\n",
    "prob_2.solve()\n",
    "print(\"Mean return is: \", prob_2.value)\n",
    "print(\"Solution (x) is: \", x_2.value)"
   ]
  },
  {
   "cell_type": "markdown",
   "metadata": {},
   "source": [
    "## 3. Minimizing risk\n",
    "$e = [1, 1, 1]^T$\n",
    "\n",
    "$m$ = mean \n",
    "\n",
    "Problem:\n",
    "$$ \\min x^TCx$$\n",
    "s.t.\n",
    "$$e^Tx = 1$$\n",
    "$$x^Tm = m_0$$\n",
    "$$ x \\geq 0 $$\n",
    "\n",
    "We have taken $m_0 = 0.05$. We have taken this peculiar value because solution doesn't exist for all values of $m_0$. For $m_0 = 1, 5, 10, 50, etc. $ no solution exists."
   ]
  },
  {
   "cell_type": "code",
   "execution_count": 12,
   "metadata": {},
   "outputs": [
    {
     "name": "stdout",
     "output_type": "stream",
     "text": [
      "Minimum variance is:  0.02263441845654453\n",
      "Solution (x) is:  [ 4.97045504e-01 -3.89018072e-24  5.02954496e-01]\n"
     ]
    }
   ],
   "source": [
    "m_0 = 0.05\n",
    "n = 3\n",
    "x_3 = cp.Variable(n)\n",
    "prob_3 = cp.Problem(cp.Minimize(cp.quad_form(x_3, C.values)),\n",
    "                    [np.ones(shape = (1,3)) @ x_3 == 1,                # First constraint\n",
    "                     np.reshape(means, newshape = (1,3)) @ x_3 == m_0, # Second constraint\n",
    "                     -np.eye(3) @ x_3 <= np.array([0,0,0])])           # Third constraint\n",
    "prob_3.solve()\n",
    "print(\"Minimum variance is: \", prob_3.value)\n",
    "print(\"Solution (x) is: \", x_3.value)"
   ]
  },
  {
   "cell_type": "markdown",
   "metadata": {},
   "source": [
    "## 4. Simultaneously maximizing mean return and minimizing risk\n",
    "We have taken $\\lambda = 5$. $\\lambda$ value can  be changed to control risk and obtain different results.\n",
    "\n",
    "$e = [1, 1, 1]^T$\n",
    "\n",
    "\n",
    "Problem:\n",
    "$$\\max x^Tm - \\lambda x^TCx$$\n",
    "s.t.\n",
    "$$e^Tx = 1$$\n",
    "$$ x \\geq 0$$"
   ]
  },
  {
   "cell_type": "code",
   "execution_count": 13,
   "metadata": {},
   "outputs": [
    {
     "name": "stdout",
     "output_type": "stream",
     "text": [
      "Maximum value is:  -0.012816117651260717\n",
      "Solution (x) is:  [0.26410505 0.60878024 0.12711471]\n"
     ]
    }
   ],
   "source": [
    "e = np.ones(shape = (1,3))\n",
    "n = 3\n",
    "lamda = 5.0\n",
    "x_4 = cp.Variable(n)\n",
    "prob_4 = cp.Problem(cp.Maximize(x_4.T @ means - lamda*cp.quad_form(x_4, C.values)),\n",
    "                    [ e @ x_4 == 1,                            # First constraint\n",
    "                     -np.eye(3) @ x_4 <= np.array([0,0,0])])   # Second constraint\n",
    "prob_4.solve()\n",
    "print(\"Maximum value is: \", prob_4.value)\n",
    "print(\"Solution (x) is: \", x_4.value)"
   ]
  },
  {
   "cell_type": "markdown",
   "metadata": {},
   "source": [
    "### Solving for different values of $\\lambda$ "
   ]
  },
  {
   "cell_type": "code",
   "execution_count": 14,
   "metadata": {},
   "outputs": [],
   "source": [
    "e = np.ones(shape = (1,3))\n",
    "n = 3\n",
    "lamda = np.logspace(start = -3, stop = 3, num = 50)\n",
    "values = []\n",
    "x_values = []\n",
    "for lam in lamda:\n",
    "    x_new = cp.Variable(n)\n",
    "    prob_new = cp.Problem(cp.Maximize(x_new.T @ means - lam*cp.quad_form(x_new, C.values)),\n",
    "                        [ e @ x_new == 1,                            # First constraint\n",
    "                         -np.eye(3) @ x_new <= np.array([0,0,0])])   # Second constraint\n",
    "    prob_new.solve()\n",
    "    values.append(prob_new.value)\n",
    "    x_values.append(x_new.value)"
   ]
  },
  {
   "cell_type": "code",
   "execution_count": 15,
   "metadata": {},
   "outputs": [
    {
     "data": {
      "image/png": "[encoded data removed]",
      "text/plain": [
       "<Figure size 432x288 with 1 Axes>"
      ]
     },
     "metadata": {
      "needs_background": "light"
     },
     "output_type": "display_data"
    }
   ],
   "source": [
    "# Plot the result\n",
    "plt.semilogx(lamda, values)\n",
    "plt.xlabel(\"$\\lambda$\")\n",
    "plt.ylabel(\"Objective function value\")\n",
    "plt.savefig(\"objective_fun_value.png\")\n",
    "plt.show()"
   ]
  },
  {
   "cell_type": "code",
   "execution_count": 16,
   "metadata": {},
   "outputs": [
    {
     "data": {
      "image/png": "[encoded data removed]",
      "text/plain": [
       "<Figure size 432x288 with 1 Axes>"
      ]
     },
     "metadata": {
      "needs_background": "light"
     },
     "output_type": "display_data"
    }
   ],
   "source": [
    "vals = np.array(x_values)\n",
    "plt.semilogx(lamda, vals[:,0], label = \"$x_1$\")\n",
    "plt.semilogx(lamda, vals[:,1], label = \"$x_2$\")\n",
    "plt.semilogx(lamda, vals[:,2], label = \"$x_3$\")\n",
    "plt.legend()\n",
    "plt.xlabel(\"$\\lambda$\")\n",
    "plt.ylabel(\"Fraction of investment\")\n",
    "plt.savefig(\"fraction_of_investment.png\")\n",
    "plt.show()"
   ]
  }
 ],
 "metadata": {
  "kernelspec": {
   "display_name": "cvxpy_env",
   "language": "python",
   "name": "cvxpy_env"
  },
  "language_info": {
   "codemirror_mode": {
    "name": "ipython",
    "version": 3
   },
   "file_extension": ".py",
   "mimetype": "text/x-python",
   "name": "python",
   "nbconvert_exporter": "python",
   "pygments_lexer": "ipython3",
   "version": "3.8.3"
  },
  "toc": {
   "base_numbering": 1,
   "nav_menu": {},
   "number_sections": false,
   "sideBar": true,
   "skip_h1_title": false,
   "title_cell": "Table of Contents",
   "title_sidebar": "Contents",
   "toc_cell": false,
   "toc_position": {},
   "toc_section_display": true,
   "toc_window_display": false
  }
 },
 "nbformat": 4,
 "nbformat_minor": 4
}
