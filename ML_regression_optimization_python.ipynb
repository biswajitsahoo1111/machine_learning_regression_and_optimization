{
 "cells": [
  {
   "cell_type": "code",
   "execution_count": 1,
   "metadata": {},
   "outputs": [],
   "source": [
    "import numpy as np\n",
    "import numpy.linalg as npl\n",
    "import matplotlib.pyplot as plt\n",
    "\n",
    "import warnings\n",
    "warnings.filterwarnings(\"ignore\")"
   ]
  },
  {
   "cell_type": "markdown",
   "metadata": {},
   "source": [
    "## Linear least-squares problem"
   ]
  },
  {
   "cell_type": "code",
   "execution_count": 2,
   "metadata": {},
   "outputs": [
    {
     "name": "stdout",
     "output_type": "stream",
     "text": [
      "X = \n",
      "\n",
      "[[   1  274 2450]\n",
      " [   1  180 3254]\n",
      " [   1  375 3802]\n",
      " [   1  205 2838]\n",
      " [   1   86 2347]]\n",
      "\n",
      "Y = \n",
      "\n",
      "[[162]\n",
      " [120]\n",
      " [223]\n",
      " [131]\n",
      " [ 67]]\n"
     ]
    }
   ],
   "source": [
    "X = np.array([[1, 274, 2450],\n",
    "             [1, 180, 3254],\n",
    "             [1, 375, 3802],\n",
    "             [1, 205, 2838],\n",
    "             [1, 86, 2347]])\n",
    "Y = np.array([[162],\n",
    "             [120],\n",
    "             [223],\n",
    "             [131],\n",
    "             [67]])\n",
    "print(\"X = \")\n",
    "print()\n",
    "print(X)\n",
    "print()\n",
    "print(\"Y = \")\n",
    "print()\n",
    "print(Y)"
   ]
  },
  {
   "cell_type": "markdown",
   "metadata": {},
   "source": [
    "### Solution using Cholesky algorithm"
   ]
  },
  {
   "cell_type": "code",
   "execution_count": 3,
   "metadata": {},
   "outputs": [
    {
     "name": "stdout",
     "output_type": "stream",
     "text": [
      "beta_hat_chol = \n",
      "\n",
      "[[7.03250343e+00]\n",
      " [5.04447596e-01]\n",
      " [7.00130524e-03]]\n"
     ]
    }
   ],
   "source": [
    "L = npl.cholesky(np.dot(X.T,X)) # Result is a lower triangular matrix\n",
    "z = np.dot(X.T,Y)\n",
    "p = npl.solve(L,z)\n",
    "beta_hat_chol = npl.solve(L.T,p)\n",
    "print(\"beta_hat_chol = \")\n",
    "print()\n",
    "print(beta_hat_chol)"
   ]
  },
  {
   "cell_type": "markdown",
   "metadata": {},
   "source": [
    "### Solution using QR factorization"
   ]
  },
  {
   "cell_type": "code",
   "execution_count": 4,
   "metadata": {},
   "outputs": [
    {
     "name": "stdout",
     "output_type": "stream",
     "text": [
      "beta_hat_qr = \n",
      "\n",
      "[[7.03250343e+00]\n",
      " [5.04447596e-01]\n",
      " [7.00130524e-03]]\n"
     ]
    }
   ],
   "source": [
    "Q, R = npl.qr(X)\n",
    "Z = np.dot(Q.T, Y)\n",
    "beta_hat_qr = npl.solve(R,Z)\n",
    "print(\"beta_hat_qr = \")\n",
    "print()\n",
    "print(beta_hat_qr)"
   ]
  },
  {
   "cell_type": "markdown",
   "metadata": {},
   "source": [
    "### Solution using SVD approach"
   ]
  },
  {
   "cell_type": "code",
   "execution_count": 5,
   "metadata": {},
   "outputs": [
    {
     "name": "stdout",
     "output_type": "stream",
     "text": [
      "beta_hat_svd = \n",
      "\n",
      "[[7.03250343e+00]\n",
      " [5.04447596e-01]\n",
      " [7.00130524e-03]]\n"
     ]
    }
   ],
   "source": [
    "U, S, V_transpose = npl.svd(X)\n",
    "b = np.dot(U.T,Y)\n",
    "z = npl.solve(np.diag(S),b[:3])\n",
    "beta_hat_svd = np.dot(V_transpose.T, z)\n",
    "print(\"beta_hat_svd = \")\n",
    "print()\n",
    "print(beta_hat_svd)"
   ]
  },
  {
   "cell_type": "markdown",
   "metadata": {},
   "source": [
    "## Nonlinear least-sqaures problem\n",
    "$$y = \\theta_1e^{\\theta_2x}$$"
   ]
  },
  {
   "cell_type": "markdown",
   "metadata": {},
   "source": [
    "### Oginal data"
   ]
  },
  {
   "cell_type": "code",
   "execution_count": 6,
   "metadata": {},
   "outputs": [],
   "source": [
    "x_data = np.array([0, 1, 2, 3])\n",
    "y = np.array([2, 0.7, 0.3, 0.1])"
   ]
  },
  {
   "cell_type": "markdown",
   "metadata": {},
   "source": [
    "We convert the data into column vectors so that we can vectorize later operations."
   ]
  },
  {
   "cell_type": "code",
   "execution_count": 7,
   "metadata": {},
   "outputs": [],
   "source": [
    "x_data = np.vstack(x_data)\n",
    "y = np.vstack(y)"
   ]
  },
  {
   "cell_type": "code",
   "execution_count": 8,
   "metadata": {},
   "outputs": [
    {
     "data": {
      "image/png": "[encoded data removed]",
      "text/plain": [
       "<Figure size 432x288 with 1 Axes>"
      ]
     },
     "metadata": {
      "needs_background": "light"
     },
     "output_type": "display_data"
    }
   ],
   "source": [
    "plt.figure()\n",
    "plt.plot(x_data,y, 'o')\n",
    "plt.xlabel(\"x\")\n",
    "plt.ylabel(\"y\")\n",
    "plt.title(\"Original data\")\n",
    "plt.show()"
   ]
  },
  {
   "cell_type": "markdown",
   "metadata": {},
   "source": [
    "## Newton's method"
   ]
  },
  {
   "cell_type": "markdown",
   "metadata": {},
   "source": [
    "Define residual function"
   ]
  },
  {
   "cell_type": "code",
   "execution_count": 9,
   "metadata": {},
   "outputs": [],
   "source": [
    "def residual_function(theta):\n",
    "    return(y - theta[0]*np.exp(theta[1]*x_data))"
   ]
  },
  {
   "cell_type": "markdown",
   "metadata": {},
   "source": [
    "Define Jacobian"
   ]
  },
  {
   "cell_type": "code",
   "execution_count": 10,
   "metadata": {},
   "outputs": [],
   "source": [
    "def Jacobian(theta):\n",
    "    return(np.hstack([-np.exp(theta[1]*x_data), -theta[0]*x_data*np.exp(theta[1]*x_data)]))"
   ]
  },
  {
   "cell_type": "markdown",
   "metadata": {},
   "source": [
    "Gradient function"
   ]
  },
  {
   "cell_type": "code",
   "execution_count": 11,
   "metadata": {},
   "outputs": [],
   "source": [
    "def gradient(theta):\n",
    "    return(np.dot(Jacobian(theta).T, residual_function(theta)))"
   ]
  },
  {
   "cell_type": "code",
   "execution_count": 12,
   "metadata": {},
   "outputs": [],
   "source": [
    "def Hessian_second_term(theta):\n",
    "    result = 0\n",
    "    for i in range(len(x_data)):\n",
    "        hessian_of_residual = np.asarray([[0, -(x_data[i]*np.exp(theta[1]*x_data[i])).item()],\n",
    "                                          [-(x_data[i]*np.exp(theta[1]*x_data[i])).item(), -(theta[0]*np.square(x_data[i])*np.exp(theta[1]*x_data[i])).item()]])\n",
    "        residual = y[i]- theta[0]*np.exp(theta[1]*x_data[i])\n",
    "        result = result + residual*hessian_of_residual\n",
    "    return result"
   ]
  },
  {
   "cell_type": "code",
   "execution_count": 13,
   "metadata": {},
   "outputs": [],
   "source": [
    "def Hessian(theta):\n",
    "    jacobian = Jacobian(theta)\n",
    "    second_term = Hessian_second_term(theta)\n",
    "    result = np.dot(jacobian.T, jacobian) + second_term\n",
    "    return result"
   ]
  },
  {
   "cell_type": "markdown",
   "metadata": {},
   "source": [
    "Initial guess of parametes."
   ]
  },
  {
   "cell_type": "code",
   "execution_count": 14,
   "metadata": {},
   "outputs": [
    {
     "data": {
      "text/plain": [
       "array([[1],\n",
       "       [0]])"
      ]
     },
     "execution_count": 14,
     "metadata": {},
     "output_type": "execute_result"
    }
   ],
   "source": [
    "theta_initial = np.vstack([1,0])\n",
    "theta_initial"
   ]
  },
  {
   "cell_type": "code",
   "execution_count": 15,
   "metadata": {},
   "outputs": [],
   "source": [
    "def Newton(f,grad,hess, theta,alpha, kmax = 20, tol = 1e-6):\n",
    "    x = theta\n",
    "    fnorms = []\n",
    "    succ_approx_newton = [np.hstack(x)]\n",
    "    for k in range(kmax):\n",
    "        fk = f(x)\n",
    "        fnorms.append(npl.norm(fk))\n",
    "        if npl.norm(fk) < tol:\n",
    "            break\n",
    "        x = x - alpha*npl.solve(hess(x), grad(x))\n",
    "        succ_approx_newton.append(np.hstack(x))\n",
    "    return x, np.vstack(fnorms), np.vstack(succ_approx_newton)"
   ]
  },
  {
   "cell_type": "code",
   "execution_count": 16,
   "metadata": {},
   "outputs": [],
   "source": [
    "new_theta_newton, residual_norms, succ_approx_newton = Newton(residual_function, gradient, Hessian, \n",
    "                                                              theta_initial, alpha = 0.05, kmax = 500)"
   ]
  },
  {
   "cell_type": "code",
   "execution_count": 17,
   "metadata": {},
   "outputs": [
    {
     "data": {
      "text/plain": [
       "array([[ 1.99500328],\n",
       "       [-1.00952447]])"
      ]
     },
     "execution_count": 17,
     "metadata": {},
     "output_type": "execute_result"
    }
   ],
   "source": [
    "new_theta_newton"
   ]
  },
  {
   "cell_type": "code",
   "execution_count": 18,
   "metadata": {},
   "outputs": [
    {
     "data": {
      "image/png": "[encoded data removed]",
      "text/plain": [
       "<Figure size 432x288 with 1 Axes>"
      ]
     },
     "metadata": {
      "needs_background": "light"
     },
     "output_type": "display_data"
    }
   ],
   "source": [
    "plt.figure()\n",
    "plt.plot(residual_norms)\n",
    "plt.xlabel(\"Number of iterations\")\n",
    "plt.ylabel(\"Residual Norm\")\n",
    "plt.show()"
   ]
  },
  {
   "cell_type": "code",
   "execution_count": 19,
   "metadata": {},
   "outputs": [
    {
     "data": {
      "image/png": "[encoded data removed]",
      "text/plain": [
       "<Figure size 432x288 with 1 Axes>"
      ]
     },
     "metadata": {
      "needs_background": "light"
     },
     "output_type": "display_data"
    }
   ],
   "source": [
    "plt.figure()\n",
    "x = np.linspace(0, 3, 100)\n",
    "y_newton = new_theta_newton[0]*np.exp(new_theta_newton[1]*x)\n",
    "plt.plot(x_data, y, 'o', label = \"Original data\")\n",
    "plt.plot(x, y_newton, label = \"Fitted curve (Newton)\")\n",
    "plt.legend()\n",
    "plt.title(\"Parameters of fitted curve are obtained from Newton's algorithm\")\n",
    "plt.show()"
   ]
  },
  {
   "cell_type": "markdown",
   "metadata": {},
   "source": [
    "## Gauss-Newton's method\n",
    "We will use codes for Gauss-Newton and Levenberg-Marqudrat algorithms as given [in this link](https://github.com/vbartle/VMLS-Companions/blob/master/VMLS%20Python%20Companion/VMLS%20Python%2C%20Ch.18%20Nonlinear%20Equations%20and%20Least%20Squares.ipynb)"
   ]
  },
  {
   "cell_type": "code",
   "execution_count": 20,
   "metadata": {},
   "outputs": [],
   "source": [
    "def Gauss_Newton(f,Df, theta, kmax=20, tol = 1e-6):\n",
    "    x = theta\n",
    "    successive_approximations = [np.hstack(x)]\n",
    "    fnorms_square = []\n",
    "    for k in range(kmax):\n",
    "        fk = f(x)\n",
    "        fnorms_square.append(np.square(npl.norm(fk)))\n",
    "        if npl.norm(fk) < tol:\n",
    "            break\n",
    "        x = x - npl.lstsq(Df(x),fk)[0]\n",
    "        successive_approximations.append(np.hstack(x))\n",
    "    return x, np.vstack(fnorms_square), np.vstack(successive_approximations)"
   ]
  },
  {
   "cell_type": "code",
   "execution_count": 21,
   "metadata": {},
   "outputs": [],
   "source": [
    "new_theta_gauss_newton, norm_squares, succ_approx_gauss_newton = Gauss_Newton(residual_function, Jacobian, theta_initial, \n",
    "                                                                              kmax = 10)"
   ]
  },
  {
   "cell_type": "code",
   "execution_count": 22,
   "metadata": {},
   "outputs": [
    {
     "data": {
      "text/plain": [
       "array([[ 1.99500331],\n",
       "       [-1.00952448]])"
      ]
     },
     "execution_count": 22,
     "metadata": {},
     "output_type": "execute_result"
    }
   ],
   "source": [
    "new_theta_gauss_newton"
   ]
  },
  {
   "cell_type": "code",
   "execution_count": 23,
   "metadata": {},
   "outputs": [
    {
     "data": {
      "text/plain": [
       "array([[2.39000000e+00],\n",
       "       [2.12590286e-01],\n",
       "       [7.33465474e-03],\n",
       "       [2.02400388e-03],\n",
       "       [1.99610624e-03],\n",
       "       [1.99608197e-03],\n",
       "       [1.99608195e-03],\n",
       "       [1.99608195e-03],\n",
       "       [1.99608195e-03],\n",
       "       [1.99608195e-03]])"
      ]
     },
     "execution_count": 23,
     "metadata": {},
     "output_type": "execute_result"
    }
   ],
   "source": [
    "norm_squares"
   ]
  },
  {
   "cell_type": "code",
   "execution_count": 24,
   "metadata": {},
   "outputs": [
    {
     "data": {
      "text/plain": [
       "array([[ 1.        ,  0.        ],\n",
       "       [ 1.69      , -0.61      ],\n",
       "       [ 1.97507043, -0.93054659],\n",
       "       [ 1.99406576, -1.0036068 ],\n",
       "       [ 1.99495492, -1.00934662],\n",
       "       [ 1.9950019 , -1.00951981],\n",
       "       [ 1.99500328, -1.00952436],\n",
       "       [ 1.99500331, -1.00952448],\n",
       "       [ 1.99500331, -1.00952448],\n",
       "       [ 1.99500331, -1.00952448],\n",
       "       [ 1.99500331, -1.00952448]])"
      ]
     },
     "execution_count": 24,
     "metadata": {},
     "output_type": "execute_result"
    }
   ],
   "source": [
    "succ_approx_gauss_newton"
   ]
  },
  {
   "cell_type": "code",
   "execution_count": 25,
   "metadata": {},
   "outputs": [
    {
     "data": {
      "image/png": "[encoded data removed]",
      "text/plain": [
       "<Figure size 432x288 with 1 Axes>"
      ]
     },
     "metadata": {
      "needs_background": "light"
     },
     "output_type": "display_data"
    }
   ],
   "source": [
    "plt.figure()\n",
    "x = np.linspace(0, 3, 100)\n",
    "y_gauss_newton = new_theta_gauss_newton[0]*np.exp(new_theta_gauss_newton[1]*x)\n",
    "plt.plot(x_data, y, 'o', label = \"Original data\")\n",
    "plt.plot(x, y_gauss_newton, label = \"Fitted curve (Gauss-Newton)\")\n",
    "plt.legend()\n",
    "plt.title(\"Parameters of fitted curve are obtained from Gauss-Newton algorithm\")\n",
    "plt.show()"
   ]
  },
  {
   "cell_type": "markdown",
   "metadata": {},
   "source": [
    "## Levenberg-Marquardt method"
   ]
  },
  {
   "cell_type": "code",
   "execution_count": 26,
   "metadata": {},
   "outputs": [],
   "source": [
    "def levenberg_marquardt(f, Df, theta, lambda1, kmax = 100, tol = 1e-6):\n",
    "    n = len(theta)\n",
    "    x = theta\n",
    "    lambd = lambda1\n",
    "    objectives = [] \n",
    "    residuals = []\n",
    "    successive_approximations = [np.hstack(x)]\n",
    "    for k in range(kmax):\n",
    "        fk = f(x)\n",
    "        Dfk = Df(x)\n",
    "        objectives.append(npl.norm(fk)**2)\n",
    "        residuals.append(npl.norm(2*np.matmul(Dfk.T,fk)))\n",
    "        if npl.norm(2*np.matmul(Dfk.T,fk)) < tol:\n",
    "            break\n",
    "        xt = x - npl.lstsq(np.vstack([Dfk,np.sqrt(lambd)*np.eye(n)]),np.vstack([fk,np.zeros((n,1))]))[0]\n",
    "        if npl.norm(f(xt)) < npl.norm(fk):\n",
    "            lambd = .8*lambd\n",
    "            x = xt\n",
    "            successive_approximations.append(np.hstack(x))\n",
    "        else:\n",
    "            lambd = 2.0*lambd\n",
    "    return x, dict([(\"objectives\", objectives),(\"residuals\",residuals)]), np.vstack(successive_approximations)[:-1,:]"
   ]
  },
  {
   "cell_type": "code",
   "execution_count": 27,
   "metadata": {},
   "outputs": [],
   "source": [
    "new_theta_leven, history, succ_approx_leven = levenberg_marquardt(residual_function, Jacobian, theta_initial, \n",
    "                                                                  lambda1 = 1, kmax = 100)"
   ]
  },
  {
   "cell_type": "code",
   "execution_count": 28,
   "metadata": {},
   "outputs": [
    {
     "data": {
      "text/plain": [
       "array([[ 1.99500326],\n",
       "       [-1.00952439]])"
      ]
     },
     "execution_count": 28,
     "metadata": {},
     "output_type": "execute_result"
    }
   ],
   "source": [
    "new_theta_leven"
   ]
  },
  {
   "cell_type": "code",
   "execution_count": 29,
   "metadata": {},
   "outputs": [
    {
     "data": {
      "text/plain": [
       "dict_keys(['objectives', 'residuals'])"
      ]
     },
     "execution_count": 29,
     "metadata": {},
     "output_type": "execute_result"
    }
   ],
   "source": [
    "history.keys()"
   ]
  },
  {
   "cell_type": "code",
   "execution_count": 30,
   "metadata": {},
   "outputs": [
    {
     "data": {
      "text/plain": [
       "[2.39,\n",
       " 0.6219623271160555,\n",
       " 0.1606450910843255,\n",
       " 0.036432203979507166,\n",
       " 0.008153893990402422,\n",
       " 0.0028971549819774606,\n",
       " 0.002101365973551863,\n",
       " 0.0020055703460129504,\n",
       " 0.0019967219675213607,\n",
       " 0.00199611362974886,\n",
       " 0.0019960830911280513,\n",
       " 0.0019960819832830295,\n",
       " 0.0019960819543721896,\n",
       " 0.0019960819538295082]"
      ]
     },
     "execution_count": 30,
     "metadata": {},
     "output_type": "execute_result"
    }
   ],
   "source": [
    "history['objectives']"
   ]
  },
  {
   "cell_type": "code",
   "execution_count": 31,
   "metadata": {},
   "outputs": [
    {
     "data": {
      "text/plain": [
       "[8.982204629154248,\n",
       " 1.6780539030648403,\n",
       " 0.7007413098150254,\n",
       " 0.3186597012602426,\n",
       " 0.13135059947859248,\n",
       " 0.04906746812465884,\n",
       " 0.016518228350473854,\n",
       " 0.004925500872861827,\n",
       " 0.0012769935773831995,\n",
       " 0.0002841797017627251,\n",
       " 5.3904217074583715e-05,\n",
       " 8.68833681788085e-06,\n",
       " 1.1894843263615737e-06,\n",
       " 1.3857426709027232e-07]"
      ]
     },
     "execution_count": 31,
     "metadata": {},
     "output_type": "execute_result"
    }
   ],
   "source": [
    "history['residuals']"
   ]
  },
  {
   "cell_type": "code",
   "execution_count": 32,
   "metadata": {},
   "outputs": [
    {
     "data": {
      "text/plain": [
       "array([[ 1.        ,  0.        ],\n",
       "       [ 1.33076923, -0.42564103],\n",
       "       [ 1.63590176, -0.71191712],\n",
       "       [ 1.82949885, -0.86218786],\n",
       "       [ 1.92786642, -0.94150451],\n",
       "       [ 1.97075095, -0.98141219],\n",
       "       [ 1.98719184, -0.99938099],\n",
       "       [ 1.9927743 , -1.00637659],\n",
       "       [ 1.99444624, -1.0086908 ],\n",
       "       [ 1.99488288, -1.00933676],\n",
       "       [ 1.99498102, -1.0094886 ],\n",
       "       [ 1.9949998 , -1.00951867],\n",
       "       [ 1.99500285, -1.00952368]])"
      ]
     },
     "execution_count": 32,
     "metadata": {},
     "output_type": "execute_result"
    }
   ],
   "source": [
    "succ_approx_leven"
   ]
  },
  {
   "cell_type": "markdown",
   "metadata": {},
   "source": [
    "Now we will fit a curve to the data using theta values obtained form Levenberg-Marquardt algorithm."
   ]
  },
  {
   "cell_type": "code",
   "execution_count": 33,
   "metadata": {},
   "outputs": [
    {
     "data": {
      "image/png": "[encoded data removed]",
      "text/plain": [
       "<Figure size 432x288 with 1 Axes>"
      ]
     },
     "metadata": {
      "needs_background": "light"
     },
     "output_type": "display_data"
    }
   ],
   "source": [
    "x = np.linspace(0,3,100)\n",
    "y_leven = new_theta_leven[0]*np.exp(new_theta_leven[1]*x)\n",
    "plt.plot(x_data,y, 'o', label = \"Original data\")\n",
    "plt.plot(x, y_leven, label = \"Fitted curve (Levenberg-Marquardt)\")\n",
    "plt.title(\"Parameters of fitted curve are obtained from Levenberg-Marquardt algorithm\")\n",
    "plt.legend()\n",
    "plt.show()"
   ]
  },
  {
   "cell_type": "markdown",
   "metadata": {},
   "source": [
    "Finally, we will compare the curves obtained by using parameters of Gauss-Newton and Levenberg-Marquardt\n",
    "algorithms by plotting both the fits in a single figure along with the original data."
   ]
  },
  {
   "cell_type": "code",
   "execution_count": 34,
   "metadata": {},
   "outputs": [
    {
     "data": {
      "image/png": "[encoded data removed]",
      "text/plain": [
       "<Figure size 432x288 with 1 Axes>"
      ]
     },
     "metadata": {
      "needs_background": "light"
     },
     "output_type": "display_data"
    }
   ],
   "source": [
    "x = np.linspace(0,3,100)\n",
    "# y_leven = new_theta_leven[0]*np.exp(new_theta_leven[1]*x)\n",
    "plt.plot(x_data, y, 'o', label = \"Original data\")\n",
    "plt.plot(x, y_newton, color = 'orange', label = \"Parameters form Newton's alg.\")\n",
    "plt.plot(x, y_gauss_newton,'-',color = 'blue', label = \"Parameters from Gauss-Newton alg.\")\n",
    "plt.plot(x, y_leven,':', color = \"red\", label = \"Parameters from Levenberg-Marquardt alg.\")\n",
    "plt.legend()\n",
    "plt.show()"
   ]
  },
  {
   "cell_type": "markdown",
   "metadata": {},
   "source": [
    "As we can see, both the fits are indistinguishable. It can also be checked that parameters obtained from both the\n",
    "methods match till 6 digits after decimal point. We have run Gauss-Newton for a maximum of 10 iterations\n",
    "whereas Levenberg-Marquardt is run for 100 iterations."
   ]
  }
 ],
 "metadata": {
  "kernelspec": {
   "display_name": "tensorflow_env",
   "language": "python",
   "name": "tensorflow_env"
  },
  "language_info": {
   "codemirror_mode": {
    "name": "ipython",
    "version": 3
   },
   "file_extension": ".py",
   "mimetype": "text/x-python",
   "name": "python",
   "nbconvert_exporter": "python",
   "pygments_lexer": "ipython3",
   "version": "3.7.6"
  }
 },
 "nbformat": 4,
 "nbformat_minor": 4
}
